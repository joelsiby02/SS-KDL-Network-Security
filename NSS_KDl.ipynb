{
 "cells": [
  {
   "cell_type": "code",
   "execution_count": 1,
   "id": "71ac1abf",
   "metadata": {},
   "outputs": [
    {
     "name": "stdout",
     "output_type": "stream",
     "text": [
      "Requirement already satisfied: arff in c:\\users\\joela\\anaconda3\\lib\\site-packages (0.9)\n"
     ]
    }
   ],
   "source": [
    "!pip install arff"
   ]
  },
  {
   "cell_type": "code",
   "execution_count": 2,
   "id": "36795ce6",
   "metadata": {},
   "outputs": [],
   "source": [
    "import pandas as pd\n",
    "import matplotlib.pyplot as plt\n",
    "import seaborn as sns"
   ]
  },
  {
   "cell_type": "code",
   "execution_count": 3,
   "id": "2aa13009",
   "metadata": {},
   "outputs": [],
   "source": [
    "# Load the dataset\n",
    "df0 = pd.read_csv('KDDTrain+.txt', header=None)\n",
    "\n",
    "# Assign column names to the dataset\n",
    "column_names = [\"duration\", \"protocol_type\", \"service\", \"flag\", \"src_bytes\", \"dst_bytes\", \"land\", \"wrong_fragment\",\n",
    "                \"urgent\", \"hot\", \"num_failed_logins\", \"logged_in\", \"num_compromised\", \"root_shell\", \"su_attempted\",\n",
    "                \"num_root\", \"num_file_creations\", \"num_shells\", \"num_access_files\", \"num_outbound_cmds\", \"is_host_login\",\n",
    "                \"is_guest_login\", \"count\", \"srv_count\", \"serror_rate\", \"srv_serror_rate\", \"rerror_rate\", \"srv_rerror_rate\",\n",
    "                \"same_srv_rate\", \"diff_srv_rate\", \"srv_diff_host_rate\", \"dst_host_count\", \"dst_host_srv_count\",\n",
    "                \"dst_host_same_srv_rate\", \"dst_host_diff_srv_rate\", \"dst_host_same_src_port_rate\",\n",
    "                \"dst_host_srv_diff_host_rate\", \"dst_host_serror_rate\", \"dst_host_srv_serror_rate\", \"dst_host_rerror_rate\",\n",
    "                \"dst_host_srv_rerror_rate\", \"attack_type\", \"success_pred\"]\n",
    "df0.columns = column_names"
   ]
  },
  {
   "cell_type": "code",
   "execution_count": 4,
   "id": "918b1e8f",
   "metadata": {},
   "outputs": [
    {
     "data": {
      "text/html": [
       "<div>\n",
       "<style scoped>\n",
       "    .dataframe tbody tr th:only-of-type {\n",
       "        vertical-align: middle;\n",
       "    }\n",
       "\n",
       "    .dataframe tbody tr th {\n",
       "        vertical-align: top;\n",
       "    }\n",
       "\n",
       "    .dataframe thead th {\n",
       "        text-align: right;\n",
       "    }\n",
       "</style>\n",
       "<table border=\"1\" class=\"dataframe\">\n",
       "  <thead>\n",
       "    <tr style=\"text-align: right;\">\n",
       "      <th></th>\n",
       "      <th>duration</th>\n",
       "      <th>protocol_type</th>\n",
       "      <th>service</th>\n",
       "      <th>flag</th>\n",
       "      <th>src_bytes</th>\n",
       "      <th>dst_bytes</th>\n",
       "      <th>land</th>\n",
       "      <th>wrong_fragment</th>\n",
       "      <th>urgent</th>\n",
       "      <th>hot</th>\n",
       "      <th>...</th>\n",
       "      <th>dst_host_same_srv_rate</th>\n",
       "      <th>dst_host_diff_srv_rate</th>\n",
       "      <th>dst_host_same_src_port_rate</th>\n",
       "      <th>dst_host_srv_diff_host_rate</th>\n",
       "      <th>dst_host_serror_rate</th>\n",
       "      <th>dst_host_srv_serror_rate</th>\n",
       "      <th>dst_host_rerror_rate</th>\n",
       "      <th>dst_host_srv_rerror_rate</th>\n",
       "      <th>attack_type</th>\n",
       "      <th>success_pred</th>\n",
       "    </tr>\n",
       "  </thead>\n",
       "  <tbody>\n",
       "    <tr>\n",
       "      <th>0</th>\n",
       "      <td>0</td>\n",
       "      <td>tcp</td>\n",
       "      <td>ftp_data</td>\n",
       "      <td>SF</td>\n",
       "      <td>491</td>\n",
       "      <td>0</td>\n",
       "      <td>0</td>\n",
       "      <td>0</td>\n",
       "      <td>0</td>\n",
       "      <td>0</td>\n",
       "      <td>...</td>\n",
       "      <td>0.17</td>\n",
       "      <td>0.03</td>\n",
       "      <td>0.17</td>\n",
       "      <td>0.00</td>\n",
       "      <td>0.00</td>\n",
       "      <td>0.00</td>\n",
       "      <td>0.05</td>\n",
       "      <td>0.00</td>\n",
       "      <td>normal</td>\n",
       "      <td>20</td>\n",
       "    </tr>\n",
       "    <tr>\n",
       "      <th>1</th>\n",
       "      <td>0</td>\n",
       "      <td>udp</td>\n",
       "      <td>other</td>\n",
       "      <td>SF</td>\n",
       "      <td>146</td>\n",
       "      <td>0</td>\n",
       "      <td>0</td>\n",
       "      <td>0</td>\n",
       "      <td>0</td>\n",
       "      <td>0</td>\n",
       "      <td>...</td>\n",
       "      <td>0.00</td>\n",
       "      <td>0.60</td>\n",
       "      <td>0.88</td>\n",
       "      <td>0.00</td>\n",
       "      <td>0.00</td>\n",
       "      <td>0.00</td>\n",
       "      <td>0.00</td>\n",
       "      <td>0.00</td>\n",
       "      <td>normal</td>\n",
       "      <td>15</td>\n",
       "    </tr>\n",
       "    <tr>\n",
       "      <th>2</th>\n",
       "      <td>0</td>\n",
       "      <td>tcp</td>\n",
       "      <td>private</td>\n",
       "      <td>S0</td>\n",
       "      <td>0</td>\n",
       "      <td>0</td>\n",
       "      <td>0</td>\n",
       "      <td>0</td>\n",
       "      <td>0</td>\n",
       "      <td>0</td>\n",
       "      <td>...</td>\n",
       "      <td>0.10</td>\n",
       "      <td>0.05</td>\n",
       "      <td>0.00</td>\n",
       "      <td>0.00</td>\n",
       "      <td>1.00</td>\n",
       "      <td>1.00</td>\n",
       "      <td>0.00</td>\n",
       "      <td>0.00</td>\n",
       "      <td>neptune</td>\n",
       "      <td>19</td>\n",
       "    </tr>\n",
       "    <tr>\n",
       "      <th>3</th>\n",
       "      <td>0</td>\n",
       "      <td>tcp</td>\n",
       "      <td>http</td>\n",
       "      <td>SF</td>\n",
       "      <td>232</td>\n",
       "      <td>8153</td>\n",
       "      <td>0</td>\n",
       "      <td>0</td>\n",
       "      <td>0</td>\n",
       "      <td>0</td>\n",
       "      <td>...</td>\n",
       "      <td>1.00</td>\n",
       "      <td>0.00</td>\n",
       "      <td>0.03</td>\n",
       "      <td>0.04</td>\n",
       "      <td>0.03</td>\n",
       "      <td>0.01</td>\n",
       "      <td>0.00</td>\n",
       "      <td>0.01</td>\n",
       "      <td>normal</td>\n",
       "      <td>21</td>\n",
       "    </tr>\n",
       "    <tr>\n",
       "      <th>4</th>\n",
       "      <td>0</td>\n",
       "      <td>tcp</td>\n",
       "      <td>http</td>\n",
       "      <td>SF</td>\n",
       "      <td>199</td>\n",
       "      <td>420</td>\n",
       "      <td>0</td>\n",
       "      <td>0</td>\n",
       "      <td>0</td>\n",
       "      <td>0</td>\n",
       "      <td>...</td>\n",
       "      <td>1.00</td>\n",
       "      <td>0.00</td>\n",
       "      <td>0.00</td>\n",
       "      <td>0.00</td>\n",
       "      <td>0.00</td>\n",
       "      <td>0.00</td>\n",
       "      <td>0.00</td>\n",
       "      <td>0.00</td>\n",
       "      <td>normal</td>\n",
       "      <td>21</td>\n",
       "    </tr>\n",
       "  </tbody>\n",
       "</table>\n",
       "<p>5 rows × 43 columns</p>\n",
       "</div>"
      ],
      "text/plain": [
       "   duration protocol_type   service flag  src_bytes  dst_bytes  land  \\\n",
       "0         0           tcp  ftp_data   SF        491          0     0   \n",
       "1         0           udp     other   SF        146          0     0   \n",
       "2         0           tcp   private   S0          0          0     0   \n",
       "3         0           tcp      http   SF        232       8153     0   \n",
       "4         0           tcp      http   SF        199        420     0   \n",
       "\n",
       "   wrong_fragment  urgent  hot  ...  dst_host_same_srv_rate  \\\n",
       "0               0       0    0  ...                    0.17   \n",
       "1               0       0    0  ...                    0.00   \n",
       "2               0       0    0  ...                    0.10   \n",
       "3               0       0    0  ...                    1.00   \n",
       "4               0       0    0  ...                    1.00   \n",
       "\n",
       "   dst_host_diff_srv_rate  dst_host_same_src_port_rate  \\\n",
       "0                    0.03                         0.17   \n",
       "1                    0.60                         0.88   \n",
       "2                    0.05                         0.00   \n",
       "3                    0.00                         0.03   \n",
       "4                    0.00                         0.00   \n",
       "\n",
       "   dst_host_srv_diff_host_rate  dst_host_serror_rate  \\\n",
       "0                         0.00                  0.00   \n",
       "1                         0.00                  0.00   \n",
       "2                         0.00                  1.00   \n",
       "3                         0.04                  0.03   \n",
       "4                         0.00                  0.00   \n",
       "\n",
       "   dst_host_srv_serror_rate  dst_host_rerror_rate  dst_host_srv_rerror_rate  \\\n",
       "0                      0.00                  0.05                      0.00   \n",
       "1                      0.00                  0.00                      0.00   \n",
       "2                      1.00                  0.00                      0.00   \n",
       "3                      0.01                  0.00                      0.01   \n",
       "4                      0.00                  0.00                      0.00   \n",
       "\n",
       "   attack_type  success_pred  \n",
       "0       normal            20  \n",
       "1       normal            15  \n",
       "2      neptune            19  \n",
       "3       normal            21  \n",
       "4       normal            21  \n",
       "\n",
       "[5 rows x 43 columns]"
      ]
     },
     "metadata": {},
     "output_type": "display_data"
    },
    {
     "data": {
      "text/html": [
       "<div>\n",
       "<style scoped>\n",
       "    .dataframe tbody tr th:only-of-type {\n",
       "        vertical-align: middle;\n",
       "    }\n",
       "\n",
       "    .dataframe tbody tr th {\n",
       "        vertical-align: top;\n",
       "    }\n",
       "\n",
       "    .dataframe thead th {\n",
       "        text-align: right;\n",
       "    }\n",
       "</style>\n",
       "<table border=\"1\" class=\"dataframe\">\n",
       "  <thead>\n",
       "    <tr style=\"text-align: right;\">\n",
       "      <th></th>\n",
       "      <th>duration</th>\n",
       "      <th>protocol_type</th>\n",
       "      <th>service</th>\n",
       "      <th>flag</th>\n",
       "      <th>src_bytes</th>\n",
       "      <th>dst_bytes</th>\n",
       "      <th>land</th>\n",
       "      <th>wrong_fragment</th>\n",
       "      <th>urgent</th>\n",
       "      <th>hot</th>\n",
       "      <th>...</th>\n",
       "      <th>dst_host_same_srv_rate</th>\n",
       "      <th>dst_host_diff_srv_rate</th>\n",
       "      <th>dst_host_same_src_port_rate</th>\n",
       "      <th>dst_host_srv_diff_host_rate</th>\n",
       "      <th>dst_host_serror_rate</th>\n",
       "      <th>dst_host_srv_serror_rate</th>\n",
       "      <th>dst_host_rerror_rate</th>\n",
       "      <th>dst_host_srv_rerror_rate</th>\n",
       "      <th>attack_type</th>\n",
       "      <th>success_pred</th>\n",
       "    </tr>\n",
       "  </thead>\n",
       "  <tbody>\n",
       "    <tr>\n",
       "      <th>125968</th>\n",
       "      <td>0</td>\n",
       "      <td>tcp</td>\n",
       "      <td>private</td>\n",
       "      <td>S0</td>\n",
       "      <td>0</td>\n",
       "      <td>0</td>\n",
       "      <td>0</td>\n",
       "      <td>0</td>\n",
       "      <td>0</td>\n",
       "      <td>0</td>\n",
       "      <td>...</td>\n",
       "      <td>0.10</td>\n",
       "      <td>0.06</td>\n",
       "      <td>0.00</td>\n",
       "      <td>0.0</td>\n",
       "      <td>1.00</td>\n",
       "      <td>1.0</td>\n",
       "      <td>0.00</td>\n",
       "      <td>0.0</td>\n",
       "      <td>neptune</td>\n",
       "      <td>20</td>\n",
       "    </tr>\n",
       "    <tr>\n",
       "      <th>125969</th>\n",
       "      <td>8</td>\n",
       "      <td>udp</td>\n",
       "      <td>private</td>\n",
       "      <td>SF</td>\n",
       "      <td>105</td>\n",
       "      <td>145</td>\n",
       "      <td>0</td>\n",
       "      <td>0</td>\n",
       "      <td>0</td>\n",
       "      <td>0</td>\n",
       "      <td>...</td>\n",
       "      <td>0.96</td>\n",
       "      <td>0.01</td>\n",
       "      <td>0.01</td>\n",
       "      <td>0.0</td>\n",
       "      <td>0.00</td>\n",
       "      <td>0.0</td>\n",
       "      <td>0.00</td>\n",
       "      <td>0.0</td>\n",
       "      <td>normal</td>\n",
       "      <td>21</td>\n",
       "    </tr>\n",
       "    <tr>\n",
       "      <th>125970</th>\n",
       "      <td>0</td>\n",
       "      <td>tcp</td>\n",
       "      <td>smtp</td>\n",
       "      <td>SF</td>\n",
       "      <td>2231</td>\n",
       "      <td>384</td>\n",
       "      <td>0</td>\n",
       "      <td>0</td>\n",
       "      <td>0</td>\n",
       "      <td>0</td>\n",
       "      <td>...</td>\n",
       "      <td>0.12</td>\n",
       "      <td>0.06</td>\n",
       "      <td>0.00</td>\n",
       "      <td>0.0</td>\n",
       "      <td>0.72</td>\n",
       "      <td>0.0</td>\n",
       "      <td>0.01</td>\n",
       "      <td>0.0</td>\n",
       "      <td>normal</td>\n",
       "      <td>18</td>\n",
       "    </tr>\n",
       "    <tr>\n",
       "      <th>125971</th>\n",
       "      <td>0</td>\n",
       "      <td>tcp</td>\n",
       "      <td>klogin</td>\n",
       "      <td>S0</td>\n",
       "      <td>0</td>\n",
       "      <td>0</td>\n",
       "      <td>0</td>\n",
       "      <td>0</td>\n",
       "      <td>0</td>\n",
       "      <td>0</td>\n",
       "      <td>...</td>\n",
       "      <td>0.03</td>\n",
       "      <td>0.05</td>\n",
       "      <td>0.00</td>\n",
       "      <td>0.0</td>\n",
       "      <td>1.00</td>\n",
       "      <td>1.0</td>\n",
       "      <td>0.00</td>\n",
       "      <td>0.0</td>\n",
       "      <td>neptune</td>\n",
       "      <td>20</td>\n",
       "    </tr>\n",
       "    <tr>\n",
       "      <th>125972</th>\n",
       "      <td>0</td>\n",
       "      <td>tcp</td>\n",
       "      <td>ftp_data</td>\n",
       "      <td>SF</td>\n",
       "      <td>151</td>\n",
       "      <td>0</td>\n",
       "      <td>0</td>\n",
       "      <td>0</td>\n",
       "      <td>0</td>\n",
       "      <td>0</td>\n",
       "      <td>...</td>\n",
       "      <td>0.30</td>\n",
       "      <td>0.03</td>\n",
       "      <td>0.30</td>\n",
       "      <td>0.0</td>\n",
       "      <td>0.00</td>\n",
       "      <td>0.0</td>\n",
       "      <td>0.00</td>\n",
       "      <td>0.0</td>\n",
       "      <td>normal</td>\n",
       "      <td>21</td>\n",
       "    </tr>\n",
       "  </tbody>\n",
       "</table>\n",
       "<p>5 rows × 43 columns</p>\n",
       "</div>"
      ],
      "text/plain": [
       "        duration protocol_type   service flag  src_bytes  dst_bytes  land  \\\n",
       "125968         0           tcp   private   S0          0          0     0   \n",
       "125969         8           udp   private   SF        105        145     0   \n",
       "125970         0           tcp      smtp   SF       2231        384     0   \n",
       "125971         0           tcp    klogin   S0          0          0     0   \n",
       "125972         0           tcp  ftp_data   SF        151          0     0   \n",
       "\n",
       "        wrong_fragment  urgent  hot  ...  dst_host_same_srv_rate  \\\n",
       "125968               0       0    0  ...                    0.10   \n",
       "125969               0       0    0  ...                    0.96   \n",
       "125970               0       0    0  ...                    0.12   \n",
       "125971               0       0    0  ...                    0.03   \n",
       "125972               0       0    0  ...                    0.30   \n",
       "\n",
       "        dst_host_diff_srv_rate  dst_host_same_src_port_rate  \\\n",
       "125968                    0.06                         0.00   \n",
       "125969                    0.01                         0.01   \n",
       "125970                    0.06                         0.00   \n",
       "125971                    0.05                         0.00   \n",
       "125972                    0.03                         0.30   \n",
       "\n",
       "        dst_host_srv_diff_host_rate  dst_host_serror_rate  \\\n",
       "125968                          0.0                  1.00   \n",
       "125969                          0.0                  0.00   \n",
       "125970                          0.0                  0.72   \n",
       "125971                          0.0                  1.00   \n",
       "125972                          0.0                  0.00   \n",
       "\n",
       "        dst_host_srv_serror_rate  dst_host_rerror_rate  \\\n",
       "125968                       1.0                  0.00   \n",
       "125969                       0.0                  0.00   \n",
       "125970                       0.0                  0.01   \n",
       "125971                       1.0                  0.00   \n",
       "125972                       0.0                  0.00   \n",
       "\n",
       "        dst_host_srv_rerror_rate  attack_type  success_pred  \n",
       "125968                       0.0      neptune            20  \n",
       "125969                       0.0       normal            21  \n",
       "125970                       0.0       normal            18  \n",
       "125971                       0.0      neptune            20  \n",
       "125972                       0.0       normal            21  \n",
       "\n",
       "[5 rows x 43 columns]"
      ]
     },
     "metadata": {},
     "output_type": "display_data"
    }
   ],
   "source": [
    "#Loop to display 'head' &'tail' of the DataSet\n",
    "for i in [df0.head(), df0.tail()]:\n",
    "    display(i)"
   ]
  },
  {
   "cell_type": "code",
   "execution_count": 5,
   "id": "6f13952e",
   "metadata": {},
   "outputs": [
    {
     "name": "stdout",
     "output_type": "stream",
     "text": [
      "No of col's are: 43\n"
     ]
    },
    {
     "data": {
      "text/plain": [
       "'duration'"
      ]
     },
     "metadata": {},
     "output_type": "display_data"
    },
    {
     "data": {
      "text/plain": [
       "'protocol_type'"
      ]
     },
     "metadata": {},
     "output_type": "display_data"
    },
    {
     "data": {
      "text/plain": [
       "'service'"
      ]
     },
     "metadata": {},
     "output_type": "display_data"
    },
    {
     "data": {
      "text/plain": [
       "'flag'"
      ]
     },
     "metadata": {},
     "output_type": "display_data"
    },
    {
     "data": {
      "text/plain": [
       "'src_bytes'"
      ]
     },
     "metadata": {},
     "output_type": "display_data"
    },
    {
     "data": {
      "text/plain": [
       "'dst_bytes'"
      ]
     },
     "metadata": {},
     "output_type": "display_data"
    },
    {
     "data": {
      "text/plain": [
       "'land'"
      ]
     },
     "metadata": {},
     "output_type": "display_data"
    },
    {
     "data": {
      "text/plain": [
       "'wrong_fragment'"
      ]
     },
     "metadata": {},
     "output_type": "display_data"
    },
    {
     "data": {
      "text/plain": [
       "'urgent'"
      ]
     },
     "metadata": {},
     "output_type": "display_data"
    },
    {
     "data": {
      "text/plain": [
       "'hot'"
      ]
     },
     "metadata": {},
     "output_type": "display_data"
    },
    {
     "data": {
      "text/plain": [
       "'num_failed_logins'"
      ]
     },
     "metadata": {},
     "output_type": "display_data"
    },
    {
     "data": {
      "text/plain": [
       "'logged_in'"
      ]
     },
     "metadata": {},
     "output_type": "display_data"
    },
    {
     "data": {
      "text/plain": [
       "'num_compromised'"
      ]
     },
     "metadata": {},
     "output_type": "display_data"
    },
    {
     "data": {
      "text/plain": [
       "'root_shell'"
      ]
     },
     "metadata": {},
     "output_type": "display_data"
    },
    {
     "data": {
      "text/plain": [
       "'su_attempted'"
      ]
     },
     "metadata": {},
     "output_type": "display_data"
    },
    {
     "data": {
      "text/plain": [
       "'num_root'"
      ]
     },
     "metadata": {},
     "output_type": "display_data"
    },
    {
     "data": {
      "text/plain": [
       "'num_file_creations'"
      ]
     },
     "metadata": {},
     "output_type": "display_data"
    },
    {
     "data": {
      "text/plain": [
       "'num_shells'"
      ]
     },
     "metadata": {},
     "output_type": "display_data"
    },
    {
     "data": {
      "text/plain": [
       "'num_access_files'"
      ]
     },
     "metadata": {},
     "output_type": "display_data"
    },
    {
     "data": {
      "text/plain": [
       "'num_outbound_cmds'"
      ]
     },
     "metadata": {},
     "output_type": "display_data"
    },
    {
     "data": {
      "text/plain": [
       "'is_host_login'"
      ]
     },
     "metadata": {},
     "output_type": "display_data"
    },
    {
     "data": {
      "text/plain": [
       "'is_guest_login'"
      ]
     },
     "metadata": {},
     "output_type": "display_data"
    },
    {
     "data": {
      "text/plain": [
       "'count'"
      ]
     },
     "metadata": {},
     "output_type": "display_data"
    },
    {
     "data": {
      "text/plain": [
       "'srv_count'"
      ]
     },
     "metadata": {},
     "output_type": "display_data"
    },
    {
     "data": {
      "text/plain": [
       "'serror_rate'"
      ]
     },
     "metadata": {},
     "output_type": "display_data"
    },
    {
     "data": {
      "text/plain": [
       "'srv_serror_rate'"
      ]
     },
     "metadata": {},
     "output_type": "display_data"
    },
    {
     "data": {
      "text/plain": [
       "'rerror_rate'"
      ]
     },
     "metadata": {},
     "output_type": "display_data"
    },
    {
     "data": {
      "text/plain": [
       "'srv_rerror_rate'"
      ]
     },
     "metadata": {},
     "output_type": "display_data"
    },
    {
     "data": {
      "text/plain": [
       "'same_srv_rate'"
      ]
     },
     "metadata": {},
     "output_type": "display_data"
    },
    {
     "data": {
      "text/plain": [
       "'diff_srv_rate'"
      ]
     },
     "metadata": {},
     "output_type": "display_data"
    },
    {
     "data": {
      "text/plain": [
       "'srv_diff_host_rate'"
      ]
     },
     "metadata": {},
     "output_type": "display_data"
    },
    {
     "data": {
      "text/plain": [
       "'dst_host_count'"
      ]
     },
     "metadata": {},
     "output_type": "display_data"
    },
    {
     "data": {
      "text/plain": [
       "'dst_host_srv_count'"
      ]
     },
     "metadata": {},
     "output_type": "display_data"
    },
    {
     "data": {
      "text/plain": [
       "'dst_host_same_srv_rate'"
      ]
     },
     "metadata": {},
     "output_type": "display_data"
    },
    {
     "data": {
      "text/plain": [
       "'dst_host_diff_srv_rate'"
      ]
     },
     "metadata": {},
     "output_type": "display_data"
    },
    {
     "data": {
      "text/plain": [
       "'dst_host_same_src_port_rate'"
      ]
     },
     "metadata": {},
     "output_type": "display_data"
    },
    {
     "data": {
      "text/plain": [
       "'dst_host_srv_diff_host_rate'"
      ]
     },
     "metadata": {},
     "output_type": "display_data"
    },
    {
     "data": {
      "text/plain": [
       "'dst_host_serror_rate'"
      ]
     },
     "metadata": {},
     "output_type": "display_data"
    },
    {
     "data": {
      "text/plain": [
       "'dst_host_srv_serror_rate'"
      ]
     },
     "metadata": {},
     "output_type": "display_data"
    },
    {
     "data": {
      "text/plain": [
       "'dst_host_rerror_rate'"
      ]
     },
     "metadata": {},
     "output_type": "display_data"
    },
    {
     "data": {
      "text/plain": [
       "'dst_host_srv_rerror_rate'"
      ]
     },
     "metadata": {},
     "output_type": "display_data"
    },
    {
     "data": {
      "text/plain": [
       "'attack_type'"
      ]
     },
     "metadata": {},
     "output_type": "display_data"
    },
    {
     "data": {
      "text/plain": [
       "'success_pred'"
      ]
     },
     "metadata": {},
     "output_type": "display_data"
    }
   ],
   "source": [
    "print(\"No of col's are:\", len(df0.columns))\n",
    "for col in df0.columns:\n",
    "    display(col)"
   ]
  },
  {
   "cell_type": "code",
   "execution_count": 6,
   "id": "16c34162",
   "metadata": {},
   "outputs": [
    {
     "name": "stdout",
     "output_type": "stream",
     "text": [
      "duration [    0  5607   507 ...  5430 11680   679]\n",
      "protocol_type ['tcp' 'udp' 'icmp']\n",
      "service ['ftp_data' 'other' 'private' 'http' 'remote_job' 'name' 'netbios_ns'\n",
      " 'eco_i' 'mtp' 'telnet' 'finger' 'domain_u' 'supdup' 'uucp_path' 'Z39_50'\n",
      " 'smtp' 'csnet_ns' 'uucp' 'netbios_dgm' 'urp_i' 'auth' 'domain' 'ftp'\n",
      " 'bgp' 'ldap' 'ecr_i' 'gopher' 'vmnet' 'systat' 'http_443' 'efs' 'whois'\n",
      " 'imap4' 'iso_tsap' 'echo' 'klogin' 'link' 'sunrpc' 'login' 'kshell'\n",
      " 'sql_net' 'time' 'hostnames' 'exec' 'ntp_u' 'discard' 'nntp' 'courier'\n",
      " 'ctf' 'ssh' 'daytime' 'shell' 'netstat' 'pop_3' 'nnsp' 'IRC' 'pop_2'\n",
      " 'printer' 'tim_i' 'pm_dump' 'red_i' 'netbios_ssn' 'rje' 'X11' 'urh_i'\n",
      " 'http_8001' 'aol' 'http_2784' 'tftp_u' 'harvest']\n",
      "flag ['SF' 'S0' 'REJ' 'RSTR' 'SH' 'RSTO' 'S1' 'RSTOS0' 'S3' 'S2' 'OTH']\n",
      "src_bytes [  491   146     0 ...  2816 11466  2358]\n",
      "dst_bytes [    0  8153   420 ...  5424 17655 52866]\n",
      "land [0 1]\n",
      "wrong_fragment [0 3 1]\n",
      "urgent [0 1 3 2]\n",
      "hot [ 0  5  6  4  2  1 28 30 22 24 14  3 15 25 19 18 77 17 11  7 20 12  9 10\n",
      "  8 21 33 44]\n",
      "num_failed_logins [0 2 1 3 4 5]\n",
      "logged_in [0 1]\n",
      "num_compromised [   0    3    2    1   19    5    4   38  107  462  110    6  151    7\n",
      "   31    9  157   13  558   12  371  217   83  193  789  520  884  457\n",
      "  767  756   21   10  281   23   44  622   18   15  716  202  121  682\n",
      "  537  345   17    8  166 7479  307   40  405  751   54  761  102  237\n",
      "  456   22  809  198   37   75  378   16 1739  174   46   74  543  691\n",
      "   94  676  175  373   14   78 1043  177  247  538  187  407  258  568\n",
      "  349  452  375   11]\n",
      "root_shell [0 1]\n",
      "su_attempted [0 1 2]\n",
      "num_root [   0    9   10    1    5    2    6   54   14  100  512  121  151   38\n",
      "    3  179    7  629  417  146  247   91  191  867  572    4  975  508\n",
      "  857   12  278   47  684  789  222  123  749  611  390  184  416 7468\n",
      "  338   40  450  841   39  993  849    8  119  261  502  889  218   36\n",
      "   74  421   16 1743  204   55   77  610  766  104  754   17  206   22\n",
      "   71 1045  190  402  605  187  446  287  626  387  505  425]\n",
      "num_file_creations [ 0  1  8  4  2 15 13 29 19 18  6 14  5 21 17 40  3 20 11 38 23 10 27 25\n",
      " 12 16 28 26  7  9 33 22 43 36 34]\n",
      "num_shells [0 1 2]\n",
      "num_access_files [0 1 2 3 5 4 8 6 7 9]\n",
      "num_outbound_cmds [0]\n",
      "is_host_login [0 1]\n",
      "is_guest_login [0 1]\n",
      "count [  2  13 123   5  30 121 166 117 270 133 205 199   3 233  96   8   1   9\n",
      " 223 280 248 279  14  33  57 181 122  22 228  50 262   4  11 108  80  44\n",
      " 258  10  61  26 120  73 135  24 148 206 175  63  52 125 168 145 138 276\n",
      " 220 212 250 132 109 146 300 129  32  82  15  21 110   6   7 246 272 259\n",
      " 294  79 190 245 263  87 292 295 143 278 102 251 222 260 511 287 486 286\n",
      "  35  28 101  12  19 406  17 201 124 162 277 274 141 103 171 238 281 163\n",
      " 301  16  46  39 211 256 144 104  18  74 225  66 139 241 213  36 254 179\n",
      " 195  20 208 268 425  42 196 111 237 257  77 137 290 203 116 457  47  71\n",
      " 200 140  68 215 115 275  76 202 252 197 198 154 204  25 459 253 142 167\n",
      "  43 221 224 284 150 255 235 131 100  34 151 130 236  84 265 210  54  23\n",
      " 127 118 242 320 114 136 209 297 106 299 509 234  88 244 240 149  92 191\n",
      " 230  99 226  81 219 264 232 126 194 266  27 282 134  65 269 216 322  31\n",
      " 271 180  45 366 231 214  78  29 229 239 105 217 261 170 164  51 434 307\n",
      "  75 113 207 112 432  72 247  89  67 291 273  40 288  55 285 267  86 189\n",
      " 147  48 435  59 107 441 289 446  37  69  38 169 347 160  98 128 391 365\n",
      "  85 173 249 510 296 358 398 298 174 185  70 119  90 184 192  49 308 158\n",
      " 227 186 178 452  53 177 305 193 176 155 492  60 496  62 335 354 293 243\n",
      "  56  97 380 188 187 311 361 356 458  95 157 482 312 218 447 159  94 165\n",
      " 336  83 153 476 344 485  91 303 152 323 468 350  93  64  41  58 424 283\n",
      " 461 497 440 348 423 182 156 352 403 340 304 417 161 172 319 411 422 306\n",
      " 449 183 484 363 360 487 383 436 330 351 478 408 477 413 421 393 480 445\n",
      " 370 401 381 357 399 438 378 316 394 490 309 338 317 481 353 488 407 318\n",
      " 444 410 373 453 342 310 508 379 463 456 341 389 329 302 355 333 388 384\n",
      " 364 500 479 460 334 448 404 427 489 326 362 472 464 315 442 439 494 375\n",
      " 454 313 324 314 376 502 409 473 493 450 437 451 419 405 327 367 433 390\n",
      " 337 471 321 346 506 397 325 402 507 470 368 382 467 418 491 328 359 443\n",
      " 415 504 349 430 343 501 455 429 465 416 369 483 372 377 505 345   0 474\n",
      " 396 469 374 331 395 385 428 387 332 431 412 495 462 499 414 400 339 503\n",
      " 392 386 475 371 426 420 466 498]\n",
      "srv_count [  2   1   6   5  32  19   9  16  23   8  12   3   7  10  17  22  14  33\n",
      " 181 202  28  13  11  80  44   4  42 120  75  15 228  21  27  31 189  18\n",
      "  82  20 178 159 263 277  46 302 511  34  50  24 173  39  35 225  25  60\n",
      " 213  45 197  30 188 139  26 157 486 457 151  68 215 160  84 167  43 300\n",
      " 166 264 210  36 127 255  29  66  41 105  88 253 104 256  48 230  99  54\n",
      " 146 147 292 322 191 152  79  65 261  52  57 434 154 306 121 282 250 148\n",
      " 134 212 156  92  40  37 267 129 435 441 231 446 112 106 219  98  38  47\n",
      " 169  51 206 265 254 391 158 510 358 149  81 239 142 163 252 155 150 308\n",
      " 236  49 130 218 452 117 195  91 114 177 207 235 145 305 193 270 317 176\n",
      " 153 164 133 208 124 496  74  90 209 354 109  95 380 269 187 311 132  61\n",
      " 143 243 168 260 141 458 482 131 237 312 242 447 280 310 221 174  76 136\n",
      " 144  77 238  83 204 135  72  67 485 273 244 299 108 301 229 110  69 290\n",
      " 214 179 248 201 200 468  63  94 185 350 137 288 266  78  56 123 107 170\n",
      "  89 194 196 116 284 205 118 461  53 497 274 172 440 348 423 171 183 251\n",
      " 175 403 272  85 113 340 304 140 417 126 138 286 283 199  62 162 246 365\n",
      " 295 319 262 449 271 115 297  59 125 226 459  73 182 165 216 484  86 289\n",
      " 363 487 240 257 436 344 478 352 119 233 480 111 509 406 279  96 234 445\n",
      " 258 401 268 381 180 399 303 192 222 378 259 276  97 398 351 338 122 275\n",
      " 232 291 278  71 481 190 353 407 184 223 318 444 203 373 281 453 508 379\n",
      " 186 161 315 456 309 211 198 355  55 245 285 287  58  70 384  64 364 217\n",
      " 460 220 476 427 489 326 362 103 313 314 442 249 439  87 375 101 296 323\n",
      " 316 454 293 224 376 227 356 464 473 128 450 451 247 327  93 367 325 390\n",
      " 321 361 337 471 488 307 492 402 335 500 102 467 477 438 437 397 419 408\n",
      " 359 298 382 100 241 324 388 411 490 343 429 341 416 470 483 328 494 479\n",
      " 433 349 372 377 389   0 469 369 366 463 421 387 455 396 330 374 425 332\n",
      " 320 431 462 499 346 443 502 333 414 415 393 294 342 395 405 370 334 368\n",
      " 501 495 474 400 503 392 383 465 404 418 371 331 493 329 507 360 357 420\n",
      " 448 466 472 475 410 345 394 339 424 491 409 426 422 385 347 428 430 386\n",
      " 336 432 413 412 498]\n",
      "serror_rate [0.   1.   0.2  0.02 0.1  0.03 0.99 0.08 0.05 0.5  0.97 0.04 0.17 0.07\n",
      " 0.65 0.21 0.09 0.01 0.06 0.25 0.79 0.13 0.95 0.64 0.93 0.7  0.16 0.18\n",
      " 0.11 0.22 0.33 0.86 0.98 0.12 0.96 0.88 0.23 0.14 0.15 0.6  0.59 0.73\n",
      " 0.83 0.52 0.62 0.85 0.67 0.63 0.26 0.78 0.4  0.36 0.68 0.75 0.19 0.91\n",
      " 0.55 0.66 0.9  0.92 0.71 0.74 0.24 0.69 0.81 0.61 0.77 0.94 0.72 0.44\n",
      " 0.8  0.27 0.29 0.56 0.43 0.58 0.76 0.89 0.35 0.37 0.53 0.54 0.51 0.3\n",
      " 0.84 0.57 0.28 0.87 0.82]\n",
      "srv_serror_rate [0.   1.   0.2  0.11 0.02 0.03 0.09 0.1  0.14 0.5  0.43 0.04 0.78 0.07\n",
      " 0.25 0.67 0.22 0.17 0.8  0.33 0.89 0.95 0.12 0.06 0.08 0.4  0.05 0.91\n",
      " 0.74 0.53 0.55 0.36 0.9  0.34 0.76 0.6  0.18 0.57 0.93 0.94 0.86 0.92\n",
      " 0.01 0.75 0.26 0.83 0.88 0.46 0.59 0.39 0.29 0.41 0.13 0.65 0.45 0.15\n",
      " 0.37 0.38 0.23 0.27 0.32 0.44 0.35 0.47 0.87 0.73 0.21 0.24 0.42 0.54\n",
      " 0.71 0.96 0.19 0.48 0.85 0.58 0.63 0.3  0.72 0.56 0.68 0.7  0.82 0.61\n",
      " 0.51 0.28]\n",
      "rerror_rate [0.   1.   0.03 0.89 0.94 0.83 0.91 0.9  0.5  0.35 0.78 0.92 0.88 0.82\n",
      " 0.67 0.93 0.21 0.38 0.95 0.43 0.87 0.05 0.4  0.36 0.07 0.25 0.8  0.62\n",
      " 0.08 0.81 0.12 0.84 0.04 0.01 0.02 0.76 0.33 0.85 0.17 0.96 0.97 0.71\n",
      " 0.06 0.79 0.86 0.2  0.27 0.77 0.37 0.98 0.75 0.3  0.74 0.56 0.22 0.09\n",
      " 0.99 0.64 0.32 0.14 0.1  0.29 0.44 0.69 0.26 0.6  0.31 0.73 0.19 0.23\n",
      " 0.34 0.57 0.28 0.11 0.65 0.63 0.7  0.72 0.24 0.18 0.55 0.58]\n",
      "srv_rerror_rate [0.   1.   0.03 0.1  0.2  0.25 0.08 0.11 0.33 0.43 0.5  0.07 0.14 0.62\n",
      " 0.09 0.81 0.06 0.17 0.05 0.75 0.8  0.29 0.12 0.04 0.02 0.71 0.79 0.83\n",
      " 0.56 0.67 0.84 0.4  0.64 0.74 0.38 0.85 0.15 0.69 0.6  0.73 0.76 0.57\n",
      " 0.86 0.92 0.82 0.18 0.22 0.78 0.77 0.88 0.96 0.7  0.9  0.72 0.01 0.89\n",
      " 0.55 0.87 0.95 0.13 0.58 0.3 ]\n",
      "same_srv_rate [1.   0.08 0.05 0.16 0.14 0.09 0.06 0.02 0.   0.17 0.1  0.01 0.03 0.28\n",
      " 0.5  0.22 0.07 0.37 0.12 0.11 0.67 0.04 0.99 0.15 0.25 0.33 0.31 0.19\n",
      " 0.27 0.97 0.43 0.18 0.24 0.4  0.13 0.46 0.23 0.42 0.44 0.21 0.2  0.35\n",
      " 0.52 0.56 0.6  0.79 0.96 0.32 0.39 0.88 0.3  0.26 0.9  0.48 0.63 0.57\n",
      " 0.75 0.36 0.98 0.51 0.87 0.93 0.62 0.45 0.73 0.34 0.92 0.8  0.83 0.89\n",
      " 0.61 0.55 0.38 0.85 0.29 0.95 0.53 0.41 0.7  0.86 0.69 0.49 0.72 0.47\n",
      " 0.74 0.64 0.77 0.65 0.58 0.54 0.59 0.71 0.78 0.91 0.94 0.82 0.81 0.66\n",
      " 0.68 0.76 0.84]\n",
      "diff_srv_rate [0.   0.15 0.07 0.06 0.05 1.   0.08 0.5  0.1  0.67 0.02 0.31 0.01 0.11\n",
      " 0.95 0.09 0.14 0.52 0.22 0.13 0.29 0.17 0.04 0.99 0.25 0.6  0.51 0.41\n",
      " 0.33 0.54 0.38 0.75 0.03 0.27 0.21 0.42 0.63 0.44 0.16 0.43 0.2  0.96\n",
      " 0.23 0.12 0.4  0.19 0.8  0.18 0.24 0.35 0.73 0.36 0.53 0.55 0.32 0.45\n",
      " 0.76 0.37 0.3  0.83 0.39 0.97 0.98 0.28 0.26 0.57 0.56 0.77 0.59 0.78\n",
      " 0.46 0.69 0.82 0.62 0.61 0.58 0.79 0.64 0.7  0.91 0.71 0.92 0.9  0.65\n",
      " 0.86 0.47 0.88 0.87 0.85 0.72 0.89 0.68 0.74 0.81 0.48]\n",
      "srv_diff_host_rate [0.   0.09 0.43 0.22 0.2  0.18 1.   0.01 0.14 0.05 0.03 0.21 0.11 0.1\n",
      " 0.33 0.4  0.67 0.29 0.02 0.5  0.17 0.57 0.06 0.13 0.75 0.07 0.27 0.08\n",
      " 0.56 0.16 0.25 0.88 0.15 0.12 0.23 0.55 0.04 0.3  0.6  0.31 0.19 0.36\n",
      " 0.38 0.83 0.24 0.8  0.45 0.44 0.28 0.32 0.42 0.26 0.62 0.35 0.71 0.47\n",
      " 0.37 0.54 0.46 0.41]\n"
     ]
    },
    {
     "name": "stdout",
     "output_type": "stream",
     "text": [
      "dst_host_count [150 255  30   8   2  91   1  66 157 238  87  43   9  41 181   4 131  26\n",
      " 122 175 109 236  21  84  44  48 168  24 123  72 117 156 243   7 153 242\n",
      "  10  23   6   3 107 195 138 176   5  94 108  50  11  31  27  83 185 196\n",
      "  99  69  18 118 247  89 201 163 172  32 205 202 214  28  16 128  37  34\n",
      " 193  39  29 101  38 235  75  73 212  64 230 137  13 127 106  45 251  77\n",
      " 211  53 160  54 142  42  14  57 159  58 246  62  12  59 124 250  49 187\n",
      "  67 126  36 120  25  76  51 135 121  52 219 170 173 229  95  68  79  55\n",
      " 155  19 143 158 104 151 119 115 237 129 114 100 178 110 234  17 179  74\n",
      " 254  63 133  85 190 221 164  60 152 191  22 145  47  98  65 208  20  93\n",
      " 198 223  71  78 111 233 141 113  35 148 209  81 194 165 130  40 116 146\n",
      " 253  15 197 244 169  88 149 245 218 186 216 103 188 228 112 215  80 140\n",
      " 210 166 200  90  46 132 134 147 227  97 203  61 239 177 224 192 252 167\n",
      " 225 180 162  56 174 144 125 220  92 139 213 248  82 226 240 232 222  33\n",
      " 183 182  70  86 207 154 161 184 171 217 136 105 204 199 189 102 249   0\n",
      "  96 241 231 206]\n",
      "dst_host_srv_count [ 25   1  26 255  19   9  15  23  13  12 219  20   2  16  17  53  59 250\n",
      "   5  63 147  11  80  38   4 245 212  46  48  10 133  67   6  21  58  31\n",
      "  93  83  47   8   7  95 254   3 119 247 182 249 252 152 239 167  49  82\n",
      " 129  64  14  92  18 253  68 195 117  69  34  42 100 142  28  50  52 166\n",
      " 104 240  22 185  24  44 157  71 232 123 187  60 156 111 113  88  43  30\n",
      " 112  61 101  81 154  36 234 164 251  62 171  55 200 242  41  75 226 115\n",
      " 153  39 132 217  79 169  37  70  35 224 143  72 192  65 205 135  40  96\n",
      " 161 141 151  98 225  33  78 214  29 105 178 110  73  90 216  84  66  27\n",
      " 246 177 196 175  76 118 189 158 183  51 114  54 191 116 237  87 243 126\n",
      " 238  97 130  57 109 155 229 139 148 168 199 134 190 170 163  85 106 193\n",
      " 180 165  45 207 248 174 120 194 162 144  77 172  91 235 236 125 223 203\n",
      "  32 131 138 197 231 136 137 146 149 210 127 176 181 244 159 227 173 124\n",
      " 215 218 208 145 206 241 121 198 128 102 221 201 179 122 150  89  99 108\n",
      "  56 107  86 188 202 222 230 184 211 213 228  74 103  94 186 220   0 233\n",
      " 140 209 160 204]\n",
      "dst_host_same_srv_rate [0.17 0.   0.1  1.   0.07 0.04 0.06 0.09 0.05 0.01 0.23 0.98 0.12 0.25\n",
      " 0.81 0.31 0.02 0.96 0.88 0.39 0.26 0.08 0.36 0.99 0.55 0.03 0.48 0.14\n",
      " 0.71 0.6  0.94 0.57 0.28 0.83 0.5  0.32 0.13 0.16 0.56 0.19 0.63 0.68\n",
      " 0.62 0.91 0.2  0.18 0.74 0.41 0.45 0.4  0.58 0.92 0.75 0.33 0.24 0.65\n",
      " 0.44 0.95 0.89 0.78 0.27 0.15 0.76 0.8  0.67 0.11 0.43 0.97 0.73 0.35\n",
      " 0.77 0.72 0.69 0.64 0.38 0.46 0.86 0.21 0.47 0.93 0.34 0.84 0.53 0.42\n",
      " 0.51 0.3  0.59 0.22 0.29 0.49 0.79 0.52 0.87 0.85 0.82 0.54 0.61 0.7\n",
      " 0.9  0.37 0.66]\n",
      "dst_host_diff_srv_rate [0.03 0.6  0.05 0.   0.07 0.06 0.85 0.04 0.31 0.01 0.02 0.66 0.08 0.84\n",
      " 0.58 0.11 0.54 0.29 0.42 0.69 0.61 0.09 1.   0.33 0.38 0.74 0.91 0.17\n",
      " 0.52 0.8  0.1  0.27 0.5  0.67 0.16 0.47 0.64 0.53 0.82 0.2  0.12 0.99\n",
      " 0.51 0.73 0.28 0.68 0.7  0.57 0.14 0.32 0.48 0.55 0.59 0.15 0.13 0.77\n",
      " 0.81 0.25 0.18 0.24 0.89 0.22 0.62 0.49 0.44 0.65 0.78 0.23 0.4  0.36\n",
      " 0.37 0.94 0.26 0.34 0.3  0.97 0.56 0.19 0.96 0.63 0.45 0.72 0.79 0.21\n",
      " 0.76 0.95 0.93 0.39 0.75 0.86 0.46 0.35 0.92 0.43 0.71 0.83 0.41 0.87\n",
      " 0.98 0.88 0.9 ]\n",
      "dst_host_same_src_port_rate [0.17 0.88 0.   0.03 0.12 1.   0.01 0.02 0.11 0.28 0.05 0.99 0.31 0.04\n",
      " 0.25 0.58 0.46 0.55 0.78 0.14 0.86 0.71 0.1  0.33 0.5  0.2  0.97 0.09\n",
      " 0.83 0.32 0.06 0.13 0.19 0.18 0.36 0.08 0.95 0.15 0.56 0.64 0.07 0.51\n",
      " 0.6  0.45 0.27 0.82 0.16 0.63 0.9  0.87 0.35 0.23 0.7  0.96 0.24 0.94\n",
      " 0.42 0.92 0.26 0.54 0.48 0.67 0.74 0.4  0.77 0.98 0.3  0.53 0.47 0.29\n",
      " 0.49 0.65 0.84 0.44 0.22 0.73 0.38 0.66 0.57 0.85 0.75 0.61 0.89 0.41\n",
      " 0.8  0.62 0.37 0.52 0.68 0.93 0.72 0.79 0.39 0.91 0.69 0.76 0.34 0.21\n",
      " 0.81 0.43 0.59]\n",
      "dst_host_srv_diff_host_rate [0.   0.04 0.03 0.2  0.02 1.   0.14 0.51 0.01 0.18 0.26 0.09 0.05 0.15\n",
      " 0.1  0.21 0.07 0.19 0.53 0.33 0.11 0.25 0.06 0.5  0.56 0.24 0.55 0.08\n",
      " 0.54 0.67 0.13 0.12 0.23 0.38 0.52 0.22 0.43 0.17 0.39 0.16 0.3  0.31\n",
      " 0.28 0.45 0.4  0.27 0.35 0.29 0.6  0.32 0.8  0.34 0.75 0.44 0.57 0.48\n",
      " 0.97 0.37 0.46 0.36 0.42 0.49 0.86 0.73 0.64 0.58 0.47 0.41 0.62 0.93\n",
      " 0.71 0.88 0.83 0.7  0.78]\n",
      "dst_host_serror_rate [0.   1.   0.03 0.99 0.53 0.07 0.97 0.01 0.09 0.11 0.8  0.02 0.08 0.98\n",
      " 0.93 0.51 0.22 0.25 0.33 0.16 0.12 0.05 0.5  0.92 0.14 0.2  0.67 0.06\n",
      " 0.04 0.1  0.77 0.57 0.48 0.55 0.63 0.17 0.96 0.13 0.34 0.78 0.89 0.68\n",
      " 0.86 0.66 0.79 0.82 0.29 0.18 0.87 0.15 0.94 0.81 0.61 0.39 0.19 0.62\n",
      " 0.4  0.6  0.24 0.73 0.37 0.84 0.46 0.58 0.71 0.47 0.26 0.21 0.28 0.9\n",
      " 0.56 0.69 0.41 0.72 0.95 0.42 0.64 0.59 0.43 0.75 0.88 0.23 0.7  0.74\n",
      " 0.65 0.76 0.44 0.27 0.91 0.31 0.36 0.3  0.49 0.85 0.52 0.45 0.35 0.32\n",
      " 0.83 0.54 0.38]\n",
      "dst_host_srv_serror_rate [0.   1.   0.01 0.02 0.88 0.09 0.48 0.08 0.97 0.06 0.05 0.25 0.14 0.1\n",
      " 0.33 0.96 0.75 0.92 0.67 0.36 0.5  0.2  0.93 0.61 0.13 0.8  0.98 0.04\n",
      " 0.07 0.3  0.95 0.03 0.66 0.11 0.94 0.7  0.85 0.15 0.41 0.56 0.78 0.69\n",
      " 0.6  0.76 0.89 0.26 0.32 0.79 0.12 0.16 0.91 0.22 0.29 0.73 0.49 0.82\n",
      " 0.4  0.65 0.81 0.84 0.28 0.19 0.87 0.42 0.18 0.77 0.44 0.59 0.45 0.71\n",
      " 0.35 0.17 0.9  0.27 0.39 0.23 0.62 0.86 0.55 0.31 0.83 0.57 0.72 0.37\n",
      " 0.74 0.38 0.34 0.24 0.54 0.58 0.68 0.63 0.21 0.46 0.51 0.43 0.52 0.64\n",
      " 0.53 0.47]\n",
      "dst_host_rerror_rate [0.05 0.   1.   0.02 0.56 0.29 0.77 0.08 0.62 0.58 0.46 0.2  0.01 0.37\n",
      " 0.83 0.74 0.89 0.67 0.61 0.72 0.06 0.15 0.13 0.57 0.64 0.86 0.51 0.92\n",
      " 0.26 0.04 0.44 0.34 0.43 0.38 0.91 0.99 0.41 0.84 0.03 0.69 0.33 0.27\n",
      " 0.75 0.42 0.3  0.49 0.17 0.09 0.94 0.63 0.71 0.85 0.24 0.32 0.8  0.36\n",
      " 0.88 0.22 0.47 0.07 0.14 0.96 0.87 0.35 0.54 0.9  0.45 0.73 0.95 0.31\n",
      " 0.39 0.4  0.11 0.5  0.1  0.78 0.12 0.97 0.98 0.19 0.28 0.53 0.79 0.76\n",
      " 0.59 0.66 0.18 0.82 0.25 0.65 0.21 0.81 0.52 0.6  0.7  0.68 0.55 0.16\n",
      " 0.23 0.93 0.48]\n",
      "dst_host_srv_rerror_rate [0.   0.01 1.   0.16 0.57 0.61 0.68 0.96 0.88 0.84 0.91 0.12 0.79 0.02\n",
      " 0.04 0.29 0.03 0.99 0.97 0.07 0.75 0.2  0.44 0.08 0.06 0.81 0.32 0.55\n",
      " 0.33 0.5  0.05 0.15 0.45 0.66 0.93 0.89 0.62 0.67 0.27 0.41 0.98 0.71\n",
      " 0.38 0.74 0.19 0.39 0.11 0.92 0.7  0.72 0.73 0.9  0.17 0.53 0.87 0.69\n",
      " 0.77 0.78 0.52 0.35 0.34 0.13 0.28 0.95 0.47 0.31 0.86 0.65 0.82 0.94\n",
      " 0.64 0.26 0.14 0.6  0.22 0.4  0.1  0.25 0.09 0.18 0.54 0.21 0.59 0.85\n",
      " 0.8  0.37 0.49 0.56 0.76 0.51 0.24 0.48 0.83 0.36 0.58 0.3  0.42 0.63\n",
      " 0.43 0.46 0.23]\n",
      "attack_type ['normal' 'neptune' 'warezclient' 'ipsweep' 'portsweep' 'teardrop' 'nmap'\n",
      " 'satan' 'smurf' 'pod' 'back' 'guess_passwd' 'ftp_write' 'multihop'\n",
      " 'rootkit' 'buffer_overflow' 'imap' 'warezmaster' 'phf' 'land'\n",
      " 'loadmodule' 'spy' 'perl']\n",
      "success_pred [20 15 19 21 18 17 16 12 14 11  2 13 10  9  8  7  3  5  1  6  0  4]\n"
     ]
    }
   ],
   "source": [
    "def uniqueCol(df):\n",
    "    for col in df.columns:\n",
    "        print(col, df[col].unique())\n",
    "uniqueCol(df0)"
   ]
  },
  {
   "cell_type": "code",
   "execution_count": 7,
   "id": "b1be32c7",
   "metadata": {},
   "outputs": [],
   "source": [
    "# Create a list of the column names to extract\n",
    "cols_to_extract = ['duration', 'protocol_type', 'service', 'flag', 'attack_type', 'src_bytes', 'logged_in',\n",
    "                   'num_file_creations', 'num_shells', 'dst_bytes', 'count', 'srv_count', 'serror_rate',\n",
    "                   'srv_serror_rate', 'same_srv_rate', 'diff_srv_rate', 'dst_host_count', 'dst_host_srv_count',\n",
    "                   'dst_host_same_srv_rate', 'dst_host_diff_srv_rate', 'dst_host_same_src_port_rate',\n",
    "                   'dst_host_srv_diff_host_rate', 'dst_host_serror_rate']\n",
    "\n",
    "# Use iloc to extract the columns by their positions\n",
    "df1 = df0.iloc[:, df0.columns.isin(cols_to_extract)]"
   ]
  },
  {
   "cell_type": "code",
   "execution_count": 8,
   "id": "8f210c40",
   "metadata": {},
   "outputs": [
    {
     "data": {
      "text/html": [
       "<div>\n",
       "<style scoped>\n",
       "    .dataframe tbody tr th:only-of-type {\n",
       "        vertical-align: middle;\n",
       "    }\n",
       "\n",
       "    .dataframe tbody tr th {\n",
       "        vertical-align: top;\n",
       "    }\n",
       "\n",
       "    .dataframe thead th {\n",
       "        text-align: right;\n",
       "    }\n",
       "</style>\n",
       "<table border=\"1\" class=\"dataframe\">\n",
       "  <thead>\n",
       "    <tr style=\"text-align: right;\">\n",
       "      <th></th>\n",
       "      <th>duration</th>\n",
       "      <th>src_bytes</th>\n",
       "      <th>dst_bytes</th>\n",
       "      <th>logged_in</th>\n",
       "      <th>num_file_creations</th>\n",
       "      <th>num_shells</th>\n",
       "      <th>count</th>\n",
       "      <th>srv_count</th>\n",
       "      <th>serror_rate</th>\n",
       "      <th>srv_serror_rate</th>\n",
       "      <th>same_srv_rate</th>\n",
       "      <th>diff_srv_rate</th>\n",
       "      <th>dst_host_count</th>\n",
       "      <th>dst_host_srv_count</th>\n",
       "      <th>dst_host_same_srv_rate</th>\n",
       "      <th>dst_host_diff_srv_rate</th>\n",
       "      <th>dst_host_same_src_port_rate</th>\n",
       "      <th>dst_host_srv_diff_host_rate</th>\n",
       "      <th>dst_host_serror_rate</th>\n",
       "    </tr>\n",
       "  </thead>\n",
       "  <tbody>\n",
       "    <tr>\n",
       "      <th>count</th>\n",
       "      <td>125973.00000</td>\n",
       "      <td>1.259730e+05</td>\n",
       "      <td>1.259730e+05</td>\n",
       "      <td>125973.000000</td>\n",
       "      <td>125973.000000</td>\n",
       "      <td>125973.000000</td>\n",
       "      <td>125973.000000</td>\n",
       "      <td>125973.000000</td>\n",
       "      <td>125973.000000</td>\n",
       "      <td>125973.000000</td>\n",
       "      <td>125973.000000</td>\n",
       "      <td>125973.000000</td>\n",
       "      <td>125973.000000</td>\n",
       "      <td>125973.000000</td>\n",
       "      <td>125973.000000</td>\n",
       "      <td>125973.000000</td>\n",
       "      <td>125973.000000</td>\n",
       "      <td>125973.000000</td>\n",
       "      <td>125973.000000</td>\n",
       "    </tr>\n",
       "    <tr>\n",
       "      <th>mean</th>\n",
       "      <td>287.14465</td>\n",
       "      <td>4.556674e+04</td>\n",
       "      <td>1.977911e+04</td>\n",
       "      <td>0.395736</td>\n",
       "      <td>0.012669</td>\n",
       "      <td>0.000413</td>\n",
       "      <td>84.107555</td>\n",
       "      <td>27.737888</td>\n",
       "      <td>0.284485</td>\n",
       "      <td>0.282485</td>\n",
       "      <td>0.660928</td>\n",
       "      <td>0.063053</td>\n",
       "      <td>182.148945</td>\n",
       "      <td>115.653005</td>\n",
       "      <td>0.521242</td>\n",
       "      <td>0.082951</td>\n",
       "      <td>0.148379</td>\n",
       "      <td>0.032542</td>\n",
       "      <td>0.284452</td>\n",
       "    </tr>\n",
       "    <tr>\n",
       "      <th>std</th>\n",
       "      <td>2604.51531</td>\n",
       "      <td>5.870331e+06</td>\n",
       "      <td>4.021269e+06</td>\n",
       "      <td>0.489010</td>\n",
       "      <td>0.483935</td>\n",
       "      <td>0.022181</td>\n",
       "      <td>114.508607</td>\n",
       "      <td>72.635840</td>\n",
       "      <td>0.446456</td>\n",
       "      <td>0.447022</td>\n",
       "      <td>0.439623</td>\n",
       "      <td>0.180314</td>\n",
       "      <td>99.206213</td>\n",
       "      <td>110.702741</td>\n",
       "      <td>0.448949</td>\n",
       "      <td>0.188922</td>\n",
       "      <td>0.308997</td>\n",
       "      <td>0.112564</td>\n",
       "      <td>0.444784</td>\n",
       "    </tr>\n",
       "    <tr>\n",
       "      <th>min</th>\n",
       "      <td>0.00000</td>\n",
       "      <td>0.000000e+00</td>\n",
       "      <td>0.000000e+00</td>\n",
       "      <td>0.000000</td>\n",
       "      <td>0.000000</td>\n",
       "      <td>0.000000</td>\n",
       "      <td>0.000000</td>\n",
       "      <td>0.000000</td>\n",
       "      <td>0.000000</td>\n",
       "      <td>0.000000</td>\n",
       "      <td>0.000000</td>\n",
       "      <td>0.000000</td>\n",
       "      <td>0.000000</td>\n",
       "      <td>0.000000</td>\n",
       "      <td>0.000000</td>\n",
       "      <td>0.000000</td>\n",
       "      <td>0.000000</td>\n",
       "      <td>0.000000</td>\n",
       "      <td>0.000000</td>\n",
       "    </tr>\n",
       "    <tr>\n",
       "      <th>25%</th>\n",
       "      <td>0.00000</td>\n",
       "      <td>0.000000e+00</td>\n",
       "      <td>0.000000e+00</td>\n",
       "      <td>0.000000</td>\n",
       "      <td>0.000000</td>\n",
       "      <td>0.000000</td>\n",
       "      <td>2.000000</td>\n",
       "      <td>2.000000</td>\n",
       "      <td>0.000000</td>\n",
       "      <td>0.000000</td>\n",
       "      <td>0.090000</td>\n",
       "      <td>0.000000</td>\n",
       "      <td>82.000000</td>\n",
       "      <td>10.000000</td>\n",
       "      <td>0.050000</td>\n",
       "      <td>0.000000</td>\n",
       "      <td>0.000000</td>\n",
       "      <td>0.000000</td>\n",
       "      <td>0.000000</td>\n",
       "    </tr>\n",
       "    <tr>\n",
       "      <th>50%</th>\n",
       "      <td>0.00000</td>\n",
       "      <td>4.400000e+01</td>\n",
       "      <td>0.000000e+00</td>\n",
       "      <td>0.000000</td>\n",
       "      <td>0.000000</td>\n",
       "      <td>0.000000</td>\n",
       "      <td>14.000000</td>\n",
       "      <td>8.000000</td>\n",
       "      <td>0.000000</td>\n",
       "      <td>0.000000</td>\n",
       "      <td>1.000000</td>\n",
       "      <td>0.000000</td>\n",
       "      <td>255.000000</td>\n",
       "      <td>63.000000</td>\n",
       "      <td>0.510000</td>\n",
       "      <td>0.020000</td>\n",
       "      <td>0.000000</td>\n",
       "      <td>0.000000</td>\n",
       "      <td>0.000000</td>\n",
       "    </tr>\n",
       "    <tr>\n",
       "      <th>75%</th>\n",
       "      <td>0.00000</td>\n",
       "      <td>2.760000e+02</td>\n",
       "      <td>5.160000e+02</td>\n",
       "      <td>1.000000</td>\n",
       "      <td>0.000000</td>\n",
       "      <td>0.000000</td>\n",
       "      <td>143.000000</td>\n",
       "      <td>18.000000</td>\n",
       "      <td>1.000000</td>\n",
       "      <td>1.000000</td>\n",
       "      <td>1.000000</td>\n",
       "      <td>0.060000</td>\n",
       "      <td>255.000000</td>\n",
       "      <td>255.000000</td>\n",
       "      <td>1.000000</td>\n",
       "      <td>0.070000</td>\n",
       "      <td>0.060000</td>\n",
       "      <td>0.020000</td>\n",
       "      <td>1.000000</td>\n",
       "    </tr>\n",
       "    <tr>\n",
       "      <th>max</th>\n",
       "      <td>42908.00000</td>\n",
       "      <td>1.379964e+09</td>\n",
       "      <td>1.309937e+09</td>\n",
       "      <td>1.000000</td>\n",
       "      <td>43.000000</td>\n",
       "      <td>2.000000</td>\n",
       "      <td>511.000000</td>\n",
       "      <td>511.000000</td>\n",
       "      <td>1.000000</td>\n",
       "      <td>1.000000</td>\n",
       "      <td>1.000000</td>\n",
       "      <td>1.000000</td>\n",
       "      <td>255.000000</td>\n",
       "      <td>255.000000</td>\n",
       "      <td>1.000000</td>\n",
       "      <td>1.000000</td>\n",
       "      <td>1.000000</td>\n",
       "      <td>1.000000</td>\n",
       "      <td>1.000000</td>\n",
       "    </tr>\n",
       "  </tbody>\n",
       "</table>\n",
       "</div>"
      ],
      "text/plain": [
       "           duration     src_bytes     dst_bytes      logged_in  \\\n",
       "count  125973.00000  1.259730e+05  1.259730e+05  125973.000000   \n",
       "mean      287.14465  4.556674e+04  1.977911e+04       0.395736   \n",
       "std      2604.51531  5.870331e+06  4.021269e+06       0.489010   \n",
       "min         0.00000  0.000000e+00  0.000000e+00       0.000000   \n",
       "25%         0.00000  0.000000e+00  0.000000e+00       0.000000   \n",
       "50%         0.00000  4.400000e+01  0.000000e+00       0.000000   \n",
       "75%         0.00000  2.760000e+02  5.160000e+02       1.000000   \n",
       "max     42908.00000  1.379964e+09  1.309937e+09       1.000000   \n",
       "\n",
       "       num_file_creations     num_shells          count      srv_count  \\\n",
       "count       125973.000000  125973.000000  125973.000000  125973.000000   \n",
       "mean             0.012669       0.000413      84.107555      27.737888   \n",
       "std              0.483935       0.022181     114.508607      72.635840   \n",
       "min              0.000000       0.000000       0.000000       0.000000   \n",
       "25%              0.000000       0.000000       2.000000       2.000000   \n",
       "50%              0.000000       0.000000      14.000000       8.000000   \n",
       "75%              0.000000       0.000000     143.000000      18.000000   \n",
       "max             43.000000       2.000000     511.000000     511.000000   \n",
       "\n",
       "         serror_rate  srv_serror_rate  same_srv_rate  diff_srv_rate  \\\n",
       "count  125973.000000    125973.000000  125973.000000  125973.000000   \n",
       "mean        0.284485         0.282485       0.660928       0.063053   \n",
       "std         0.446456         0.447022       0.439623       0.180314   \n",
       "min         0.000000         0.000000       0.000000       0.000000   \n",
       "25%         0.000000         0.000000       0.090000       0.000000   \n",
       "50%         0.000000         0.000000       1.000000       0.000000   \n",
       "75%         1.000000         1.000000       1.000000       0.060000   \n",
       "max         1.000000         1.000000       1.000000       1.000000   \n",
       "\n",
       "       dst_host_count  dst_host_srv_count  dst_host_same_srv_rate  \\\n",
       "count   125973.000000       125973.000000           125973.000000   \n",
       "mean       182.148945          115.653005                0.521242   \n",
       "std         99.206213          110.702741                0.448949   \n",
       "min          0.000000            0.000000                0.000000   \n",
       "25%         82.000000           10.000000                0.050000   \n",
       "50%        255.000000           63.000000                0.510000   \n",
       "75%        255.000000          255.000000                1.000000   \n",
       "max        255.000000          255.000000                1.000000   \n",
       "\n",
       "       dst_host_diff_srv_rate  dst_host_same_src_port_rate  \\\n",
       "count           125973.000000                125973.000000   \n",
       "mean                 0.082951                     0.148379   \n",
       "std                  0.188922                     0.308997   \n",
       "min                  0.000000                     0.000000   \n",
       "25%                  0.000000                     0.000000   \n",
       "50%                  0.020000                     0.000000   \n",
       "75%                  0.070000                     0.060000   \n",
       "max                  1.000000                     1.000000   \n",
       "\n",
       "       dst_host_srv_diff_host_rate  dst_host_serror_rate  \n",
       "count                125973.000000         125973.000000  \n",
       "mean                      0.032542              0.284452  \n",
       "std                       0.112564              0.444784  \n",
       "min                       0.000000              0.000000  \n",
       "25%                       0.000000              0.000000  \n",
       "50%                       0.000000              0.000000  \n",
       "75%                       0.020000              1.000000  \n",
       "max                       1.000000              1.000000  "
      ]
     },
     "execution_count": 8,
     "metadata": {},
     "output_type": "execute_result"
    }
   ],
   "source": [
    "df1.describe()"
   ]
  },
  {
   "cell_type": "code",
   "execution_count": 9,
   "id": "ecde5fa5",
   "metadata": {},
   "outputs": [
    {
     "data": {
      "text/plain": [
       "duration                         int64\n",
       "protocol_type                   object\n",
       "service                         object\n",
       "flag                            object\n",
       "src_bytes                        int64\n",
       "dst_bytes                        int64\n",
       "logged_in                        int64\n",
       "num_file_creations               int64\n",
       "num_shells                       int64\n",
       "count                            int64\n",
       "srv_count                        int64\n",
       "serror_rate                    float64\n",
       "srv_serror_rate                float64\n",
       "same_srv_rate                  float64\n",
       "diff_srv_rate                  float64\n",
       "dst_host_count                   int64\n",
       "dst_host_srv_count               int64\n",
       "dst_host_same_srv_rate         float64\n",
       "dst_host_diff_srv_rate         float64\n",
       "dst_host_same_src_port_rate    float64\n",
       "dst_host_srv_diff_host_rate    float64\n",
       "dst_host_serror_rate           float64\n",
       "attack_type                     object\n",
       "dtype: object"
      ]
     },
     "execution_count": 9,
     "metadata": {},
     "output_type": "execute_result"
    }
   ],
   "source": [
    "df1.dtypes"
   ]
  },
  {
   "cell_type": "code",
   "execution_count": 10,
   "id": "06e1875a",
   "metadata": {},
   "outputs": [
    {
     "data": {
      "text/html": [
       "<div>\n",
       "<style scoped>\n",
       "    .dataframe tbody tr th:only-of-type {\n",
       "        vertical-align: middle;\n",
       "    }\n",
       "\n",
       "    .dataframe tbody tr th {\n",
       "        vertical-align: top;\n",
       "    }\n",
       "\n",
       "    .dataframe thead th {\n",
       "        text-align: right;\n",
       "    }\n",
       "</style>\n",
       "<table border=\"1\" class=\"dataframe\">\n",
       "  <thead>\n",
       "    <tr style=\"text-align: right;\">\n",
       "      <th></th>\n",
       "      <th>duration</th>\n",
       "      <th>protocol_type</th>\n",
       "      <th>service</th>\n",
       "      <th>flag</th>\n",
       "      <th>src_bytes</th>\n",
       "      <th>dst_bytes</th>\n",
       "      <th>logged_in</th>\n",
       "      <th>num_file_creations</th>\n",
       "      <th>num_shells</th>\n",
       "      <th>count</th>\n",
       "      <th>...</th>\n",
       "      <th>same_srv_rate</th>\n",
       "      <th>diff_srv_rate</th>\n",
       "      <th>dst_host_count</th>\n",
       "      <th>dst_host_srv_count</th>\n",
       "      <th>dst_host_same_srv_rate</th>\n",
       "      <th>dst_host_diff_srv_rate</th>\n",
       "      <th>dst_host_same_src_port_rate</th>\n",
       "      <th>dst_host_srv_diff_host_rate</th>\n",
       "      <th>dst_host_serror_rate</th>\n",
       "      <th>attack_type</th>\n",
       "    </tr>\n",
       "  </thead>\n",
       "  <tbody>\n",
       "    <tr>\n",
       "      <th>0</th>\n",
       "      <td>0</td>\n",
       "      <td>tcp</td>\n",
       "      <td>ftp_data</td>\n",
       "      <td>SF</td>\n",
       "      <td>491</td>\n",
       "      <td>0</td>\n",
       "      <td>0</td>\n",
       "      <td>0</td>\n",
       "      <td>0</td>\n",
       "      <td>2</td>\n",
       "      <td>...</td>\n",
       "      <td>1.00</td>\n",
       "      <td>0.00</td>\n",
       "      <td>150</td>\n",
       "      <td>25</td>\n",
       "      <td>0.17</td>\n",
       "      <td>0.03</td>\n",
       "      <td>0.17</td>\n",
       "      <td>0.00</td>\n",
       "      <td>0.00</td>\n",
       "      <td>normal</td>\n",
       "    </tr>\n",
       "    <tr>\n",
       "      <th>1</th>\n",
       "      <td>0</td>\n",
       "      <td>udp</td>\n",
       "      <td>other</td>\n",
       "      <td>SF</td>\n",
       "      <td>146</td>\n",
       "      <td>0</td>\n",
       "      <td>0</td>\n",
       "      <td>0</td>\n",
       "      <td>0</td>\n",
       "      <td>13</td>\n",
       "      <td>...</td>\n",
       "      <td>0.08</td>\n",
       "      <td>0.15</td>\n",
       "      <td>255</td>\n",
       "      <td>1</td>\n",
       "      <td>0.00</td>\n",
       "      <td>0.60</td>\n",
       "      <td>0.88</td>\n",
       "      <td>0.00</td>\n",
       "      <td>0.00</td>\n",
       "      <td>normal</td>\n",
       "    </tr>\n",
       "    <tr>\n",
       "      <th>2</th>\n",
       "      <td>0</td>\n",
       "      <td>tcp</td>\n",
       "      <td>private</td>\n",
       "      <td>S0</td>\n",
       "      <td>0</td>\n",
       "      <td>0</td>\n",
       "      <td>0</td>\n",
       "      <td>0</td>\n",
       "      <td>0</td>\n",
       "      <td>123</td>\n",
       "      <td>...</td>\n",
       "      <td>0.05</td>\n",
       "      <td>0.07</td>\n",
       "      <td>255</td>\n",
       "      <td>26</td>\n",
       "      <td>0.10</td>\n",
       "      <td>0.05</td>\n",
       "      <td>0.00</td>\n",
       "      <td>0.00</td>\n",
       "      <td>1.00</td>\n",
       "      <td>neptune</td>\n",
       "    </tr>\n",
       "    <tr>\n",
       "      <th>3</th>\n",
       "      <td>0</td>\n",
       "      <td>tcp</td>\n",
       "      <td>http</td>\n",
       "      <td>SF</td>\n",
       "      <td>232</td>\n",
       "      <td>8153</td>\n",
       "      <td>1</td>\n",
       "      <td>0</td>\n",
       "      <td>0</td>\n",
       "      <td>5</td>\n",
       "      <td>...</td>\n",
       "      <td>1.00</td>\n",
       "      <td>0.00</td>\n",
       "      <td>30</td>\n",
       "      <td>255</td>\n",
       "      <td>1.00</td>\n",
       "      <td>0.00</td>\n",
       "      <td>0.03</td>\n",
       "      <td>0.04</td>\n",
       "      <td>0.03</td>\n",
       "      <td>normal</td>\n",
       "    </tr>\n",
       "    <tr>\n",
       "      <th>4</th>\n",
       "      <td>0</td>\n",
       "      <td>tcp</td>\n",
       "      <td>http</td>\n",
       "      <td>SF</td>\n",
       "      <td>199</td>\n",
       "      <td>420</td>\n",
       "      <td>1</td>\n",
       "      <td>0</td>\n",
       "      <td>0</td>\n",
       "      <td>30</td>\n",
       "      <td>...</td>\n",
       "      <td>1.00</td>\n",
       "      <td>0.00</td>\n",
       "      <td>255</td>\n",
       "      <td>255</td>\n",
       "      <td>1.00</td>\n",
       "      <td>0.00</td>\n",
       "      <td>0.00</td>\n",
       "      <td>0.00</td>\n",
       "      <td>0.00</td>\n",
       "      <td>normal</td>\n",
       "    </tr>\n",
       "  </tbody>\n",
       "</table>\n",
       "<p>5 rows × 23 columns</p>\n",
       "</div>"
      ],
      "text/plain": [
       "   duration protocol_type   service flag  src_bytes  dst_bytes  logged_in  \\\n",
       "0         0           tcp  ftp_data   SF        491          0          0   \n",
       "1         0           udp     other   SF        146          0          0   \n",
       "2         0           tcp   private   S0          0          0          0   \n",
       "3         0           tcp      http   SF        232       8153          1   \n",
       "4         0           tcp      http   SF        199        420          1   \n",
       "\n",
       "   num_file_creations  num_shells  count  ...  same_srv_rate  diff_srv_rate  \\\n",
       "0                   0           0      2  ...           1.00           0.00   \n",
       "1                   0           0     13  ...           0.08           0.15   \n",
       "2                   0           0    123  ...           0.05           0.07   \n",
       "3                   0           0      5  ...           1.00           0.00   \n",
       "4                   0           0     30  ...           1.00           0.00   \n",
       "\n",
       "   dst_host_count  dst_host_srv_count  dst_host_same_srv_rate  \\\n",
       "0             150                  25                    0.17   \n",
       "1             255                   1                    0.00   \n",
       "2             255                  26                    0.10   \n",
       "3              30                 255                    1.00   \n",
       "4             255                 255                    1.00   \n",
       "\n",
       "   dst_host_diff_srv_rate  dst_host_same_src_port_rate  \\\n",
       "0                    0.03                         0.17   \n",
       "1                    0.60                         0.88   \n",
       "2                    0.05                         0.00   \n",
       "3                    0.00                         0.03   \n",
       "4                    0.00                         0.00   \n",
       "\n",
       "   dst_host_srv_diff_host_rate  dst_host_serror_rate  attack_type  \n",
       "0                         0.00                  0.00       normal  \n",
       "1                         0.00                  0.00       normal  \n",
       "2                         0.00                  1.00      neptune  \n",
       "3                         0.04                  0.03       normal  \n",
       "4                         0.00                  0.00       normal  \n",
       "\n",
       "[5 rows x 23 columns]"
      ]
     },
     "metadata": {},
     "output_type": "display_data"
    },
    {
     "data": {
      "text/html": [
       "<div>\n",
       "<style scoped>\n",
       "    .dataframe tbody tr th:only-of-type {\n",
       "        vertical-align: middle;\n",
       "    }\n",
       "\n",
       "    .dataframe tbody tr th {\n",
       "        vertical-align: top;\n",
       "    }\n",
       "\n",
       "    .dataframe thead th {\n",
       "        text-align: right;\n",
       "    }\n",
       "</style>\n",
       "<table border=\"1\" class=\"dataframe\">\n",
       "  <thead>\n",
       "    <tr style=\"text-align: right;\">\n",
       "      <th></th>\n",
       "      <th>duration</th>\n",
       "      <th>protocol_type</th>\n",
       "      <th>service</th>\n",
       "      <th>flag</th>\n",
       "      <th>src_bytes</th>\n",
       "      <th>dst_bytes</th>\n",
       "      <th>logged_in</th>\n",
       "      <th>num_file_creations</th>\n",
       "      <th>num_shells</th>\n",
       "      <th>count</th>\n",
       "      <th>...</th>\n",
       "      <th>same_srv_rate</th>\n",
       "      <th>diff_srv_rate</th>\n",
       "      <th>dst_host_count</th>\n",
       "      <th>dst_host_srv_count</th>\n",
       "      <th>dst_host_same_srv_rate</th>\n",
       "      <th>dst_host_diff_srv_rate</th>\n",
       "      <th>dst_host_same_src_port_rate</th>\n",
       "      <th>dst_host_srv_diff_host_rate</th>\n",
       "      <th>dst_host_serror_rate</th>\n",
       "      <th>attack_type</th>\n",
       "    </tr>\n",
       "  </thead>\n",
       "  <tbody>\n",
       "    <tr>\n",
       "      <th>125968</th>\n",
       "      <td>0</td>\n",
       "      <td>tcp</td>\n",
       "      <td>private</td>\n",
       "      <td>S0</td>\n",
       "      <td>0</td>\n",
       "      <td>0</td>\n",
       "      <td>0</td>\n",
       "      <td>0</td>\n",
       "      <td>0</td>\n",
       "      <td>184</td>\n",
       "      <td>...</td>\n",
       "      <td>0.14</td>\n",
       "      <td>0.06</td>\n",
       "      <td>255</td>\n",
       "      <td>25</td>\n",
       "      <td>0.10</td>\n",
       "      <td>0.06</td>\n",
       "      <td>0.00</td>\n",
       "      <td>0.0</td>\n",
       "      <td>1.00</td>\n",
       "      <td>neptune</td>\n",
       "    </tr>\n",
       "    <tr>\n",
       "      <th>125969</th>\n",
       "      <td>8</td>\n",
       "      <td>udp</td>\n",
       "      <td>private</td>\n",
       "      <td>SF</td>\n",
       "      <td>105</td>\n",
       "      <td>145</td>\n",
       "      <td>0</td>\n",
       "      <td>0</td>\n",
       "      <td>0</td>\n",
       "      <td>2</td>\n",
       "      <td>...</td>\n",
       "      <td>1.00</td>\n",
       "      <td>0.00</td>\n",
       "      <td>255</td>\n",
       "      <td>244</td>\n",
       "      <td>0.96</td>\n",
       "      <td>0.01</td>\n",
       "      <td>0.01</td>\n",
       "      <td>0.0</td>\n",
       "      <td>0.00</td>\n",
       "      <td>normal</td>\n",
       "    </tr>\n",
       "    <tr>\n",
       "      <th>125970</th>\n",
       "      <td>0</td>\n",
       "      <td>tcp</td>\n",
       "      <td>smtp</td>\n",
       "      <td>SF</td>\n",
       "      <td>2231</td>\n",
       "      <td>384</td>\n",
       "      <td>1</td>\n",
       "      <td>0</td>\n",
       "      <td>0</td>\n",
       "      <td>1</td>\n",
       "      <td>...</td>\n",
       "      <td>1.00</td>\n",
       "      <td>0.00</td>\n",
       "      <td>255</td>\n",
       "      <td>30</td>\n",
       "      <td>0.12</td>\n",
       "      <td>0.06</td>\n",
       "      <td>0.00</td>\n",
       "      <td>0.0</td>\n",
       "      <td>0.72</td>\n",
       "      <td>normal</td>\n",
       "    </tr>\n",
       "    <tr>\n",
       "      <th>125971</th>\n",
       "      <td>0</td>\n",
       "      <td>tcp</td>\n",
       "      <td>klogin</td>\n",
       "      <td>S0</td>\n",
       "      <td>0</td>\n",
       "      <td>0</td>\n",
       "      <td>0</td>\n",
       "      <td>0</td>\n",
       "      <td>0</td>\n",
       "      <td>144</td>\n",
       "      <td>...</td>\n",
       "      <td>0.06</td>\n",
       "      <td>0.05</td>\n",
       "      <td>255</td>\n",
       "      <td>8</td>\n",
       "      <td>0.03</td>\n",
       "      <td>0.05</td>\n",
       "      <td>0.00</td>\n",
       "      <td>0.0</td>\n",
       "      <td>1.00</td>\n",
       "      <td>neptune</td>\n",
       "    </tr>\n",
       "    <tr>\n",
       "      <th>125972</th>\n",
       "      <td>0</td>\n",
       "      <td>tcp</td>\n",
       "      <td>ftp_data</td>\n",
       "      <td>SF</td>\n",
       "      <td>151</td>\n",
       "      <td>0</td>\n",
       "      <td>1</td>\n",
       "      <td>0</td>\n",
       "      <td>0</td>\n",
       "      <td>1</td>\n",
       "      <td>...</td>\n",
       "      <td>1.00</td>\n",
       "      <td>0.00</td>\n",
       "      <td>255</td>\n",
       "      <td>77</td>\n",
       "      <td>0.30</td>\n",
       "      <td>0.03</td>\n",
       "      <td>0.30</td>\n",
       "      <td>0.0</td>\n",
       "      <td>0.00</td>\n",
       "      <td>normal</td>\n",
       "    </tr>\n",
       "  </tbody>\n",
       "</table>\n",
       "<p>5 rows × 23 columns</p>\n",
       "</div>"
      ],
      "text/plain": [
       "        duration protocol_type   service flag  src_bytes  dst_bytes  \\\n",
       "125968         0           tcp   private   S0          0          0   \n",
       "125969         8           udp   private   SF        105        145   \n",
       "125970         0           tcp      smtp   SF       2231        384   \n",
       "125971         0           tcp    klogin   S0          0          0   \n",
       "125972         0           tcp  ftp_data   SF        151          0   \n",
       "\n",
       "        logged_in  num_file_creations  num_shells  count  ...  same_srv_rate  \\\n",
       "125968          0                   0           0    184  ...           0.14   \n",
       "125969          0                   0           0      2  ...           1.00   \n",
       "125970          1                   0           0      1  ...           1.00   \n",
       "125971          0                   0           0    144  ...           0.06   \n",
       "125972          1                   0           0      1  ...           1.00   \n",
       "\n",
       "        diff_srv_rate  dst_host_count  dst_host_srv_count  \\\n",
       "125968           0.06             255                  25   \n",
       "125969           0.00             255                 244   \n",
       "125970           0.00             255                  30   \n",
       "125971           0.05             255                   8   \n",
       "125972           0.00             255                  77   \n",
       "\n",
       "        dst_host_same_srv_rate  dst_host_diff_srv_rate  \\\n",
       "125968                    0.10                    0.06   \n",
       "125969                    0.96                    0.01   \n",
       "125970                    0.12                    0.06   \n",
       "125971                    0.03                    0.05   \n",
       "125972                    0.30                    0.03   \n",
       "\n",
       "        dst_host_same_src_port_rate  dst_host_srv_diff_host_rate  \\\n",
       "125968                         0.00                          0.0   \n",
       "125969                         0.01                          0.0   \n",
       "125970                         0.00                          0.0   \n",
       "125971                         0.00                          0.0   \n",
       "125972                         0.30                          0.0   \n",
       "\n",
       "        dst_host_serror_rate  attack_type  \n",
       "125968                  1.00      neptune  \n",
       "125969                  0.00       normal  \n",
       "125970                  0.72       normal  \n",
       "125971                  1.00      neptune  \n",
       "125972                  0.00       normal  \n",
       "\n",
       "[5 rows x 23 columns]"
      ]
     },
     "metadata": {},
     "output_type": "display_data"
    }
   ],
   "source": [
    "for i in [df1.head(), df1.tail()]:\n",
    "    display(i)"
   ]
  },
  {
   "cell_type": "code",
   "execution_count": 11,
   "id": "19a31be2",
   "metadata": {},
   "outputs": [
    {
     "data": {
      "text/plain": [
       "array(['normal', 'neptune', 'warezclient', 'ipsweep', 'portsweep',\n",
       "       'teardrop', 'nmap', 'satan', 'smurf', 'pod', 'back',\n",
       "       'guess_passwd', 'ftp_write', 'multihop', 'rootkit',\n",
       "       'buffer_overflow', 'imap', 'warezmaster', 'phf', 'land',\n",
       "       'loadmodule', 'spy', 'perl'], dtype=object)"
      ]
     },
     "execution_count": 11,
     "metadata": {},
     "output_type": "execute_result"
    }
   ],
   "source": [
    "df1['attack_type'].unique()"
   ]
  },
  {
   "cell_type": "code",
   "execution_count": 12,
   "id": "d1a3aee9",
   "metadata": {},
   "outputs": [
    {
     "name": "stdout",
     "output_type": "stream",
     "text": [
      "There are no null values in the DataFrame\n"
     ]
    }
   ],
   "source": [
    "if df1.isnull().any().any():\n",
    "    print(\"There are null values in the DataFrame\")\n",
    "else:\n",
    "    print(\"There are no null values in the DataFrame\")"
   ]
  },
  {
   "cell_type": "code",
   "execution_count": 13,
   "id": "544f9151",
   "metadata": {},
   "outputs": [
    {
     "data": {
      "text/plain": [
       "array(['normal', 'neptune', 'warezclient', 'ipsweep', 'portsweep',\n",
       "       'teardrop', 'nmap', 'satan', 'smurf', 'pod', 'back',\n",
       "       'guess_passwd', 'ftp_write', 'multihop', 'rootkit',\n",
       "       'buffer_overflow', 'imap', 'warezmaster', 'phf', 'land',\n",
       "       'loadmodule', 'spy', 'perl'], dtype=object)"
      ]
     },
     "execution_count": 13,
     "metadata": {},
     "output_type": "execute_result"
    }
   ],
   "source": [
    "df1['attack_type'].unique()"
   ]
  },
  {
   "cell_type": "markdown",
   "id": "4ffd82d4",
   "metadata": {},
   "source": [
    "Some attacks that are commonly used to steal data or information from a machine include:\n",
    "- Rootkit\n",
    "- Buffer overflow\n",
    "- FTP write\n",
    "- Guess password\n",
    "- Backdoor\n",
    "\n",
    "Some attacks that are commonly used as a distraction or to disrupt services include:\n",
    "- DoS (Denial of Service) attacks, such as Smurf, Teardrop, and Pod\n",
    "- Port scanning attacks, such as Ipsweep and Portscan\n",
    "- Ping of Death, which can cause a system to crash\n",
    "\n",
    "However, it's important to note that these attacks can also have multiple purposes and can be used in combination with other techniques to achieve specific goals."
   ]
  },
  {
   "cell_type": "code",
   "execution_count": 108,
   "id": "9025e5c4",
   "metadata": {},
   "outputs": [],
   "source": [
    "df2 = df1.copy()"
   ]
  },
  {
   "cell_type": "code",
   "execution_count": 109,
   "id": "5513e5ce",
   "metadata": {},
   "outputs": [],
   "source": [
    "df2['attack'] = 0\n",
    "for index, row in df2.iterrows():\n",
    "    if row['attack_type'] in ['neptune', 'teardrop', 'smurf', 'pod', 'ipsweep', 'portsweep', 'land']:\n",
    "        df2.at[index, 'attack'] = 0 # distraction attack\n",
    "    elif row['attack_type'] in ['guess_passwd', 'ftp_write', 'rootkit', 'buffer_overflow', 'spy', 'loadmodule']:\n",
    "        df2.at[index, 'attack'] = 1 # data stealing attack"
   ]
  },
  {
   "cell_type": "code",
   "execution_count": 110,
   "id": "59ea757b",
   "metadata": {},
   "outputs": [
    {
     "data": {
      "text/html": [
       "<div>\n",
       "<style scoped>\n",
       "    .dataframe tbody tr th:only-of-type {\n",
       "        vertical-align: middle;\n",
       "    }\n",
       "\n",
       "    .dataframe tbody tr th {\n",
       "        vertical-align: top;\n",
       "    }\n",
       "\n",
       "    .dataframe thead th {\n",
       "        text-align: right;\n",
       "    }\n",
       "</style>\n",
       "<table border=\"1\" class=\"dataframe\">\n",
       "  <thead>\n",
       "    <tr style=\"text-align: right;\">\n",
       "      <th></th>\n",
       "      <th>duration</th>\n",
       "      <th>protocol_type</th>\n",
       "      <th>service</th>\n",
       "      <th>flag</th>\n",
       "      <th>src_bytes</th>\n",
       "      <th>dst_bytes</th>\n",
       "      <th>logged_in</th>\n",
       "      <th>num_file_creations</th>\n",
       "      <th>num_shells</th>\n",
       "      <th>count</th>\n",
       "      <th>...</th>\n",
       "      <th>diff_srv_rate</th>\n",
       "      <th>dst_host_count</th>\n",
       "      <th>dst_host_srv_count</th>\n",
       "      <th>dst_host_same_srv_rate</th>\n",
       "      <th>dst_host_diff_srv_rate</th>\n",
       "      <th>dst_host_same_src_port_rate</th>\n",
       "      <th>dst_host_srv_diff_host_rate</th>\n",
       "      <th>dst_host_serror_rate</th>\n",
       "      <th>attack_type</th>\n",
       "      <th>attack</th>\n",
       "    </tr>\n",
       "  </thead>\n",
       "  <tbody>\n",
       "    <tr>\n",
       "      <th>0</th>\n",
       "      <td>0</td>\n",
       "      <td>tcp</td>\n",
       "      <td>ftp_data</td>\n",
       "      <td>SF</td>\n",
       "      <td>491</td>\n",
       "      <td>0</td>\n",
       "      <td>0</td>\n",
       "      <td>0</td>\n",
       "      <td>0</td>\n",
       "      <td>2</td>\n",
       "      <td>...</td>\n",
       "      <td>0.00</td>\n",
       "      <td>150</td>\n",
       "      <td>25</td>\n",
       "      <td>0.17</td>\n",
       "      <td>0.03</td>\n",
       "      <td>0.17</td>\n",
       "      <td>0.00</td>\n",
       "      <td>0.00</td>\n",
       "      <td>normal</td>\n",
       "      <td>0</td>\n",
       "    </tr>\n",
       "    <tr>\n",
       "      <th>1</th>\n",
       "      <td>0</td>\n",
       "      <td>udp</td>\n",
       "      <td>other</td>\n",
       "      <td>SF</td>\n",
       "      <td>146</td>\n",
       "      <td>0</td>\n",
       "      <td>0</td>\n",
       "      <td>0</td>\n",
       "      <td>0</td>\n",
       "      <td>13</td>\n",
       "      <td>...</td>\n",
       "      <td>0.15</td>\n",
       "      <td>255</td>\n",
       "      <td>1</td>\n",
       "      <td>0.00</td>\n",
       "      <td>0.60</td>\n",
       "      <td>0.88</td>\n",
       "      <td>0.00</td>\n",
       "      <td>0.00</td>\n",
       "      <td>normal</td>\n",
       "      <td>0</td>\n",
       "    </tr>\n",
       "    <tr>\n",
       "      <th>2</th>\n",
       "      <td>0</td>\n",
       "      <td>tcp</td>\n",
       "      <td>private</td>\n",
       "      <td>S0</td>\n",
       "      <td>0</td>\n",
       "      <td>0</td>\n",
       "      <td>0</td>\n",
       "      <td>0</td>\n",
       "      <td>0</td>\n",
       "      <td>123</td>\n",
       "      <td>...</td>\n",
       "      <td>0.07</td>\n",
       "      <td>255</td>\n",
       "      <td>26</td>\n",
       "      <td>0.10</td>\n",
       "      <td>0.05</td>\n",
       "      <td>0.00</td>\n",
       "      <td>0.00</td>\n",
       "      <td>1.00</td>\n",
       "      <td>neptune</td>\n",
       "      <td>0</td>\n",
       "    </tr>\n",
       "    <tr>\n",
       "      <th>3</th>\n",
       "      <td>0</td>\n",
       "      <td>tcp</td>\n",
       "      <td>http</td>\n",
       "      <td>SF</td>\n",
       "      <td>232</td>\n",
       "      <td>8153</td>\n",
       "      <td>1</td>\n",
       "      <td>0</td>\n",
       "      <td>0</td>\n",
       "      <td>5</td>\n",
       "      <td>...</td>\n",
       "      <td>0.00</td>\n",
       "      <td>30</td>\n",
       "      <td>255</td>\n",
       "      <td>1.00</td>\n",
       "      <td>0.00</td>\n",
       "      <td>0.03</td>\n",
       "      <td>0.04</td>\n",
       "      <td>0.03</td>\n",
       "      <td>normal</td>\n",
       "      <td>0</td>\n",
       "    </tr>\n",
       "    <tr>\n",
       "      <th>4</th>\n",
       "      <td>0</td>\n",
       "      <td>tcp</td>\n",
       "      <td>http</td>\n",
       "      <td>SF</td>\n",
       "      <td>199</td>\n",
       "      <td>420</td>\n",
       "      <td>1</td>\n",
       "      <td>0</td>\n",
       "      <td>0</td>\n",
       "      <td>30</td>\n",
       "      <td>...</td>\n",
       "      <td>0.00</td>\n",
       "      <td>255</td>\n",
       "      <td>255</td>\n",
       "      <td>1.00</td>\n",
       "      <td>0.00</td>\n",
       "      <td>0.00</td>\n",
       "      <td>0.00</td>\n",
       "      <td>0.00</td>\n",
       "      <td>normal</td>\n",
       "      <td>0</td>\n",
       "    </tr>\n",
       "  </tbody>\n",
       "</table>\n",
       "<p>5 rows × 24 columns</p>\n",
       "</div>"
      ],
      "text/plain": [
       "   duration protocol_type   service flag  src_bytes  dst_bytes  logged_in  \\\n",
       "0         0           tcp  ftp_data   SF        491          0          0   \n",
       "1         0           udp     other   SF        146          0          0   \n",
       "2         0           tcp   private   S0          0          0          0   \n",
       "3         0           tcp      http   SF        232       8153          1   \n",
       "4         0           tcp      http   SF        199        420          1   \n",
       "\n",
       "   num_file_creations  num_shells  count  ...  diff_srv_rate  dst_host_count  \\\n",
       "0                   0           0      2  ...           0.00             150   \n",
       "1                   0           0     13  ...           0.15             255   \n",
       "2                   0           0    123  ...           0.07             255   \n",
       "3                   0           0      5  ...           0.00              30   \n",
       "4                   0           0     30  ...           0.00             255   \n",
       "\n",
       "   dst_host_srv_count  dst_host_same_srv_rate  dst_host_diff_srv_rate  \\\n",
       "0                  25                    0.17                    0.03   \n",
       "1                   1                    0.00                    0.60   \n",
       "2                  26                    0.10                    0.05   \n",
       "3                 255                    1.00                    0.00   \n",
       "4                 255                    1.00                    0.00   \n",
       "\n",
       "   dst_host_same_src_port_rate  dst_host_srv_diff_host_rate  \\\n",
       "0                         0.17                         0.00   \n",
       "1                         0.88                         0.00   \n",
       "2                         0.00                         0.00   \n",
       "3                         0.03                         0.04   \n",
       "4                         0.00                         0.00   \n",
       "\n",
       "   dst_host_serror_rate  attack_type  attack  \n",
       "0                  0.00       normal       0  \n",
       "1                  0.00       normal       0  \n",
       "2                  1.00      neptune       0  \n",
       "3                  0.03       normal       0  \n",
       "4                  0.00       normal       0  \n",
       "\n",
       "[5 rows x 24 columns]"
      ]
     },
     "execution_count": 110,
     "metadata": {},
     "output_type": "execute_result"
    }
   ],
   "source": [
    "df2.head()"
   ]
  },
  {
   "cell_type": "code",
   "execution_count": 111,
   "id": "e39a4c03",
   "metadata": {},
   "outputs": [
    {
     "data": {
      "text/plain": [
       "array([0, 1], dtype=int64)"
      ]
     },
     "execution_count": 111,
     "metadata": {},
     "output_type": "execute_result"
    }
   ],
   "source": [
    "df2['attack'].unique()"
   ]
  },
  {
   "cell_type": "code",
   "execution_count": 112,
   "id": "ac7fe853",
   "metadata": {},
   "outputs": [
    {
     "name": "stdout",
     "output_type": "stream",
     "text": [
      "0    125861\n",
      "1       112\n",
      "Name: attack, dtype: int64\n"
     ]
    }
   ],
   "source": [
    "# count the number of 0's and 1's in the 'attack' column\n",
    "attack_counts = df2['attack'].value_counts()\n",
    "# print the counts\n",
    "print(attack_counts)\n",
    "\n",
    "# 0 - distraction attack\n",
    "# 1 - data stealing attack"
   ]
  },
  {
   "cell_type": "code",
   "execution_count": 113,
   "id": "67ecddab",
   "metadata": {},
   "outputs": [
    {
     "data": {
      "image/png": "[encoded data removed]",
      "text/plain": [
       "<Figure size 640x480 with 1 Axes>"
      ]
     },
     "metadata": {},
     "output_type": "display_data"
    }
   ],
   "source": [
    "import matplotlib.pyplot as plt\n",
    "\n",
    "# count the number of 0's and 1's in the 'attack' column\n",
    "attack_counts = df2['attack'].value_counts()\n",
    "\n",
    "# create a bar graph\n",
    "plt.bar(attack_counts.index, attack_counts.values, color=['blue', 'red'])\n",
    "\n",
    "# set the title and labels\n",
    "plt.title('Distribution of Attacks')\n",
    "plt.xlabel('Attack Type')\n",
    "plt.ylabel('Count')\n",
    "\n",
    "# show the graph\n",
    "plt.show()"
   ]
  },
  {
   "cell_type": "code",
   "execution_count": 114,
   "id": "fa0980c5",
   "metadata": {},
   "outputs": [
    {
     "data": {
      "text/plain": [
       "array(['SF', 'S0', 'REJ', 'RSTR', 'SH', 'RSTO', 'S1', 'RSTOS0', 'S3',\n",
       "       'S2', 'OTH'], dtype=object)"
      ]
     },
     "execution_count": 114,
     "metadata": {},
     "output_type": "execute_result"
    }
   ],
   "source": [
    "df2['flag'].unique()"
   ]
  },
  {
   "cell_type": "code",
   "execution_count": 115,
   "id": "bf162c2c",
   "metadata": {},
   "outputs": [
    {
     "name": "stdout",
     "output_type": "stream",
     "text": [
      "Minimum duration for successful connections: 0\n",
      "Maximum duration for successful connections: 32637\n",
      "Minimum duration for failed connections: 0\n",
      "Maximum duration for failed connections: 40504\n"
     ]
    }
   ],
   "source": [
    "# filter the dataset to include only successful connections with the \"SF\" flag\n",
    "success_df = df2[df2['flag'] == 'SF']\n",
    "\n",
    "# calculate the minimum and maximum duration for successful connections\n",
    "success_min_duration = success_df['duration'].min()\n",
    "success_max_duration = success_df['duration'].max()\n",
    "\n",
    "print(\"Minimum duration for successful connections:\", success_min_duration)\n",
    "print(\"Maximum duration for successful connections:\", success_max_duration)\n",
    "\n",
    "# filter the dataset to include only failed connections with the \"RSTO\" flag\n",
    "failed_df = df2[df2['flag'] == 'RSTO']\n",
    "\n",
    "# calculate the minimum and maximum duration for failed connections\n",
    "failed_min_duration = failed_df['duration'].min()\n",
    "failed_max_duration = failed_df['duration'].max()\n",
    "\n",
    "print(\"Minimum duration for failed connections:\", failed_min_duration)\n",
    "print(\"Maximum duration for failed connections:\", failed_max_duration)"
   ]
  },
  {
   "cell_type": "code",
   "execution_count": 116,
   "id": "482af7a8",
   "metadata": {},
   "outputs": [
    {
     "data": {
      "image/png": "[encoded data removed]",
      "text/plain": [
       "<Figure size 640x480 with 1 Axes>"
      ]
     },
     "metadata": {},
     "output_type": "display_data"
    }
   ],
   "source": [
    "import matplotlib.pyplot as plt\n",
    "\n",
    "# define the x and y values for the bar chart\n",
    "x = ['Successful Min', 'Successful Max', 'Failed Min', 'Failed Max']\n",
    "y = [success_min_duration, success_max_duration, failed_min_duration, failed_max_duration]\n",
    "\n",
    "# create a bar chart\n",
    "plt.bar(x, y)\n",
    "\n",
    "# set the chart title and axis labels\n",
    "plt.title('Minimum and Maximum Durations for Successful and Failed Connections')\n",
    "plt.xlabel('Connection Status and Duration')\n",
    "plt.ylabel('Duration (seconds)')\n",
    "\n",
    "# display the chart\n",
    "plt.show()"
   ]
  },
  {
   "cell_type": "code",
   "execution_count": 117,
   "id": "1231fa69",
   "metadata": {},
   "outputs": [
    {
     "data": {
      "text/plain": [
       "duration                         int64\n",
       "protocol_type                   object\n",
       "service                         object\n",
       "flag                            object\n",
       "src_bytes                        int64\n",
       "dst_bytes                        int64\n",
       "logged_in                        int64\n",
       "num_file_creations               int64\n",
       "num_shells                       int64\n",
       "count                            int64\n",
       "srv_count                        int64\n",
       "serror_rate                    float64\n",
       "srv_serror_rate                float64\n",
       "same_srv_rate                  float64\n",
       "diff_srv_rate                  float64\n",
       "dst_host_count                   int64\n",
       "dst_host_srv_count               int64\n",
       "dst_host_same_srv_rate         float64\n",
       "dst_host_diff_srv_rate         float64\n",
       "dst_host_same_src_port_rate    float64\n",
       "dst_host_srv_diff_host_rate    float64\n",
       "dst_host_serror_rate           float64\n",
       "attack_type                     object\n",
       "attack                           int64\n",
       "dtype: object"
      ]
     },
     "execution_count": 117,
     "metadata": {},
     "output_type": "execute_result"
    }
   ],
   "source": [
    "df2.dtypes"
   ]
  },
  {
   "cell_type": "code",
   "execution_count": 118,
   "id": "c053db1e",
   "metadata": {},
   "outputs": [
    {
     "name": "stdout",
     "output_type": "stream",
     "text": [
      "Minimum duration for successful connections with protocol_type: 0\n",
      "Maximum duration for successful connections with protocol_type: 32637\n",
      "Minimum duration for failed connections with protocol_type: 0\n",
      "Maximum duration for failed connections with protocol_type: 40504\n",
      "Minimum duration for successful connections with service: 0\n",
      "Maximum duration for successful connections with service: 32637\n",
      "Minimum duration for failed connections with service: 0\n",
      "Maximum duration for failed connections with service: 40504\n",
      "Minimum duration for successful connections with src_bytes: 0\n",
      "Maximum duration for successful connections with src_bytes: 32637\n",
      "Minimum duration for failed connections with src_bytes: 0\n",
      "Maximum duration for failed connections with src_bytes: 40504\n",
      "Minimum duration for successful connections with dst_bytes: 0\n",
      "Maximum duration for successful connections with dst_bytes: 32637\n",
      "Minimum duration for failed connections with dst_bytes: 0\n",
      "Maximum duration for failed connections with dst_bytes: 40504\n",
      "Minimum duration for successful connections with logged_in: 0\n",
      "Maximum duration for successful connections with logged_in: 32637\n",
      "Minimum duration for failed connections with logged_in: 0\n",
      "Maximum duration for failed connections with logged_in: 40504\n",
      "Minimum duration for successful connections with num_file_creations: 0\n",
      "Maximum duration for successful connections with num_file_creations: 32637\n",
      "Minimum duration for failed connections with num_file_creations: 0\n",
      "Maximum duration for failed connections with num_file_creations: 40504\n",
      "Minimum duration for successful connections with num_shells: 0\n",
      "Maximum duration for successful connections with num_shells: 32637\n",
      "Minimum duration for failed connections with num_shells: 0\n",
      "Maximum duration for failed connections with num_shells: 40504\n",
      "Minimum duration for successful connections with flag: 0\n",
      "Maximum duration for successful connections with flag: 32637\n",
      "Minimum duration for failed connections with flag: 0\n",
      "Maximum duration for failed connections with flag: 40504\n"
     ]
    }
   ],
   "source": [
    "# create a list of columns to analyze\n",
    "columns_to_analyze = ['protocol_type', 'service', 'src_bytes', 'dst_bytes', 'logged_in', 'num_file_creations', 'num_shells', 'flag']\n",
    "# loop over each column and print out the min and max duration for successful and failed connections\n",
    "for column in columns_to_analyze:\n",
    "    # filter the dataset to include only successful connections with the \"SF\" flag\n",
    "    success_df = df2[(df2['flag'] == 'SF') & (df2[column].notnull())]\n",
    "    # calculate the minimum and maximum duration for successful connections\n",
    "    success_min_duration = success_df['duration'].min()\n",
    "    success_max_duration = success_df['duration'].max()\n",
    "    # filter the dataset to include only failed connections with the \"RSTO\" flag\n",
    "    failed_df = df2[(df2['flag'] == 'RSTO') & (df2[column].notnull())]\n",
    "    # calculate the minimum and maximum duration for failed connections\n",
    "    failed_min_duration = failed_df['duration'].min()\n",
    "    failed_max_duration = failed_df['duration'].max()\n",
    "    # print out the results\n",
    "    print(f\"Minimum duration for successful connections with {column}: {success_min_duration}\")\n",
    "    print(f\"Maximum duration for successful connections with {column}: {success_max_duration}\")\n",
    "    print(f\"Minimum duration for failed connections with {column}: {failed_min_duration}\")\n",
    "    print(f\"Maximum duration for failed connections with {column}: {failed_max_duration}\")"
   ]
  },
  {
   "cell_type": "code",
   "execution_count": 119,
   "id": "94f2e588",
   "metadata": {},
   "outputs": [
    {
     "name": "stdout",
     "output_type": "stream",
     "text": [
      "duration                       0\n",
      "protocol_type                  0\n",
      "service                        0\n",
      "flag                           0\n",
      "src_bytes                      0\n",
      "dst_bytes                      0\n",
      "logged_in                      0\n",
      "num_file_creations             0\n",
      "num_shells                     0\n",
      "count                          0\n",
      "srv_count                      0\n",
      "serror_rate                    0\n",
      "srv_serror_rate                0\n",
      "same_srv_rate                  0\n",
      "diff_srv_rate                  0\n",
      "dst_host_count                 0\n",
      "dst_host_srv_count             0\n",
      "dst_host_same_srv_rate         0\n",
      "dst_host_diff_srv_rate         0\n",
      "dst_host_same_src_port_rate    0\n",
      "dst_host_srv_diff_host_rate    0\n",
      "dst_host_serror_rate           0\n",
      "attack_type                    0\n",
      "attack                         0\n",
      "dtype: int64\n"
     ]
    }
   ],
   "source": [
    "# Check for missing values\n",
    "print(df2.isnull().sum())"
   ]
  },
  {
   "cell_type": "markdown",
   "id": "1259c1c3",
   "metadata": {},
   "source": [
    "# Q1/ What is the distribution of attack types in the dataset?"
   ]
  },
  {
   "cell_type": "code",
   "execution_count": 120,
   "id": "cda3a17c",
   "metadata": {},
   "outputs": [
    {
     "name": "stdout",
     "output_type": "stream",
     "text": [
      "normal             67343\n",
      "neptune            41214\n",
      "satan               3633\n",
      "ipsweep             3599\n",
      "portsweep           2931\n",
      "smurf               2646\n",
      "nmap                1493\n",
      "back                 956\n",
      "teardrop             892\n",
      "warezclient          890\n",
      "pod                  201\n",
      "guess_passwd          53\n",
      "buffer_overflow       30\n",
      "warezmaster           20\n",
      "land                  18\n",
      "imap                  11\n",
      "rootkit               10\n",
      "loadmodule             9\n",
      "ftp_write              8\n",
      "multihop               7\n",
      "phf                    4\n",
      "perl                   3\n",
      "spy                    2\n",
      "Name: attack_type, dtype: int64\n"
     ]
    }
   ],
   "source": [
    "attack_counts = df2['attack_type'].value_counts()\n",
    "print(attack_counts)"
   ]
  },
  {
   "cell_type": "markdown",
   "id": "cd213530",
   "metadata": {},
   "source": [
    "# Q2/ What is the average duration of successful vs failed connections?"
   ]
  },
  {
   "cell_type": "code",
   "execution_count": 121,
   "id": "7e3a505b",
   "metadata": {},
   "outputs": [
    {
     "name": "stdout",
     "output_type": "stream",
     "text": [
      "Average duration of successful connections: nan\n",
      "Average duration of failed connections: 287.1446500440571\n"
     ]
    }
   ],
   "source": [
    "success_duration = df2[df2['attack'] == 'normal']['duration'].mean()\n",
    "print('Average duration of successful connections:', success_duration)\n",
    "\n",
    "failed_duration = df2[df2['attack'] != 'normal']['duration'].mean()\n",
    "print('Average duration of failed connections:', failed_duration)"
   ]
  },
  {
   "cell_type": "markdown",
   "id": "1d0c5663",
   "metadata": {},
   "source": [
    "# Q3/ What are the top 5 services attacked in the dataset?"
   ]
  },
  {
   "cell_type": "code",
   "execution_count": 122,
   "id": "853ed762",
   "metadata": {},
   "outputs": [
    {
     "name": "stdout",
     "output_type": "stream",
     "text": [
      "http        40338\n",
      "private     21853\n",
      "domain_u     9043\n",
      "smtp         7313\n",
      "ftp_data     6860\n",
      "Name: service, dtype: int64\n"
     ]
    }
   ],
   "source": [
    "services_attacked = df2[df2['attack'] != 'normal']['service'].value_counts().head(5)\n",
    "print(services_attacked)"
   ]
  },
  {
   "cell_type": "code",
   "execution_count": 123,
   "id": "c94979b7",
   "metadata": {},
   "outputs": [
    {
     "data": {
      "image/png": "[encoded data removed]",
      "text/plain": [
       "<Figure size 640x480 with 1 Axes>"
      ]
     },
     "metadata": {},
     "output_type": "display_data"
    }
   ],
   "source": [
    "import matplotlib.pyplot as plt\n",
    "\n",
    "services_attacked = df2[df2['attack'] != 'normal']['service'].value_counts().head(5)\n",
    "\n",
    "plt.bar(services_attacked.index, services_attacked.values)\n",
    "plt.title('Top 5 Attacked Services')\n",
    "plt.xlabel('Service')\n",
    "plt.ylabel('Number of Attacks')\n",
    "plt.show()"
   ]
  },
  {
   "cell_type": "markdown",
   "id": "652ff2f9",
   "metadata": {},
   "source": [
    "The high number of attacks on HTTP service may possibly indicate that the attacker's goal is to disrupt web services and cause damage to the availability of the targeted website. Similarly, a high number of attacks on email-related services like SMTP indicates that the attacker is trying to compromise the confidentiality of the communication.\n",
    "\n"
   ]
  },
  {
   "cell_type": "markdown",
   "id": "cf2dff80",
   "metadata": {},
   "source": [
    "# Q4/ What is the percentage of successful connections with a low error rate?"
   ]
  },
  {
   "cell_type": "code",
   "execution_count": 124,
   "id": "ec5bfbd9",
   "metadata": {},
   "outputs": [
    {
     "name": "stdout",
     "output_type": "stream",
     "text": [
      "Percentage of successful connections with low error rate: 0\n"
     ]
    }
   ],
   "source": [
    "success_low_error = df2[(df2['attack'] == 'normal') & (df2['serror_rate'] == 0)]['duration'].count()\n",
    "total_success = df2[df2['attack'] == 'normal']['duration'].count()\n",
    "\n",
    "if total_success == 0:\n",
    "    percentage = 0\n",
    "else:\n",
    "    percentage = (success_low_error / total_success) * 100\n",
    "\n",
    "print('Percentage of successful connections with low error rate:', percentage)"
   ]
  },
  {
   "cell_type": "markdown",
   "id": "13575754",
   "metadata": {},
   "source": [
    "# Q5/ What is the average number of shells opened in an attack?"
   ]
  },
  {
   "cell_type": "code",
   "execution_count": 125,
   "id": "f4a394c1",
   "metadata": {},
   "outputs": [
    {
     "name": "stdout",
     "output_type": "stream",
     "text": [
      "Average number of shells opened in an attack: 0.00041278686702706137\n"
     ]
    }
   ],
   "source": [
    "avg_shells = df2[df2['attack'] != 'normal']['num_shells'].mean()\n",
    "print('Average number of shells opened in an attack:', avg_shells)"
   ]
  },
  {
   "cell_type": "markdown",
   "id": "82aae1c0",
   "metadata": {},
   "source": [
    "# Targeting Q3"
   ]
  },
  {
   "cell_type": "code",
   "execution_count": 126,
   "id": "b6b724ca",
   "metadata": {},
   "outputs": [
    {
     "data": {
      "image/png": "[encoded data removed]",
      "text/plain": [
       "<Figure size 640x480 with 1 Axes>"
      ]
     },
     "metadata": {},
     "output_type": "display_data"
    }
   ],
   "source": [
    "services_attacked = df2[df2['attack'] != 'normal']['service'].value_counts().head(5)\n",
    "\n",
    "plt.bar(services_attacked.index, services_attacked.values)\n",
    "plt.title('Top 5 Attacked Services')\n",
    "plt.xlabel('Service')\n",
    "plt.ylabel('Number of Attacks')\n",
    "plt.show()"
   ]
  },
  {
   "cell_type": "code",
   "execution_count": 127,
   "id": "2e0ad042",
   "metadata": {},
   "outputs": [
    {
     "data": {
      "text/html": [
       "<div>\n",
       "<style scoped>\n",
       "    .dataframe tbody tr th:only-of-type {\n",
       "        vertical-align: middle;\n",
       "    }\n",
       "\n",
       "    .dataframe tbody tr th {\n",
       "        vertical-align: top;\n",
       "    }\n",
       "\n",
       "    .dataframe thead th {\n",
       "        text-align: right;\n",
       "    }\n",
       "</style>\n",
       "<table border=\"1\" class=\"dataframe\">\n",
       "  <thead>\n",
       "    <tr style=\"text-align: right;\">\n",
       "      <th>service</th>\n",
       "      <th>IRC</th>\n",
       "      <th>X11</th>\n",
       "      <th>Z39_50</th>\n",
       "      <th>aol</th>\n",
       "      <th>auth</th>\n",
       "      <th>bgp</th>\n",
       "      <th>courier</th>\n",
       "      <th>csnet_ns</th>\n",
       "      <th>ctf</th>\n",
       "      <th>daytime</th>\n",
       "      <th>...</th>\n",
       "      <th>telnet</th>\n",
       "      <th>tftp_u</th>\n",
       "      <th>tim_i</th>\n",
       "      <th>time</th>\n",
       "      <th>urh_i</th>\n",
       "      <th>urp_i</th>\n",
       "      <th>uucp</th>\n",
       "      <th>uucp_path</th>\n",
       "      <th>vmnet</th>\n",
       "      <th>whois</th>\n",
       "    </tr>\n",
       "    <tr>\n",
       "      <th>attack</th>\n",
       "      <th></th>\n",
       "      <th></th>\n",
       "      <th></th>\n",
       "      <th></th>\n",
       "      <th></th>\n",
       "      <th></th>\n",
       "      <th></th>\n",
       "      <th></th>\n",
       "      <th></th>\n",
       "      <th></th>\n",
       "      <th></th>\n",
       "      <th></th>\n",
       "      <th></th>\n",
       "      <th></th>\n",
       "      <th></th>\n",
       "      <th></th>\n",
       "      <th></th>\n",
       "      <th></th>\n",
       "      <th></th>\n",
       "      <th></th>\n",
       "      <th></th>\n",
       "    </tr>\n",
       "  </thead>\n",
       "  <tbody>\n",
       "    <tr>\n",
       "      <th>0</th>\n",
       "      <td>782</td>\n",
       "      <td>1148</td>\n",
       "      <td>183727</td>\n",
       "      <td>1022</td>\n",
       "      <td>161591</td>\n",
       "      <td>155280</td>\n",
       "      <td>86387</td>\n",
       "      <td>113627</td>\n",
       "      <td>118206</td>\n",
       "      <td>113045</td>\n",
       "      <td>...</td>\n",
       "      <td>139273</td>\n",
       "      <td>135</td>\n",
       "      <td>20</td>\n",
       "      <td>121845</td>\n",
       "      <td>13</td>\n",
       "      <td>6644</td>\n",
       "      <td>92593</td>\n",
       "      <td>147907</td>\n",
       "      <td>133354</td>\n",
       "      <td>144706</td>\n",
       "    </tr>\n",
       "    <tr>\n",
       "      <th>1</th>\n",
       "      <td>0</td>\n",
       "      <td>0</td>\n",
       "      <td>0</td>\n",
       "      <td>0</td>\n",
       "      <td>0</td>\n",
       "      <td>0</td>\n",
       "      <td>0</td>\n",
       "      <td>0</td>\n",
       "      <td>0</td>\n",
       "      <td>0</td>\n",
       "      <td>...</td>\n",
       "      <td>347</td>\n",
       "      <td>0</td>\n",
       "      <td>0</td>\n",
       "      <td>0</td>\n",
       "      <td>0</td>\n",
       "      <td>0</td>\n",
       "      <td>0</td>\n",
       "      <td>0</td>\n",
       "      <td>0</td>\n",
       "      <td>0</td>\n",
       "    </tr>\n",
       "  </tbody>\n",
       "</table>\n",
       "<p>2 rows × 70 columns</p>\n",
       "</div>"
      ],
      "text/plain": [
       "service  IRC   X11  Z39_50   aol    auth     bgp  courier  csnet_ns     ctf  \\\n",
       "attack                                                                        \n",
       "0        782  1148  183727  1022  161591  155280    86387    113627  118206   \n",
       "1          0     0       0     0       0       0        0         0       0   \n",
       "\n",
       "service  daytime  ...  telnet  tftp_u  tim_i    time  urh_i  urp_i   uucp  \\\n",
       "attack            ...                                                       \n",
       "0         113045  ...  139273     135     20  121845     13   6644  92593   \n",
       "1              0  ...     347       0      0       0      0      0      0   \n",
       "\n",
       "service  uucp_path   vmnet   whois  \n",
       "attack                              \n",
       "0           147907  133354  144706  \n",
       "1                0       0       0  \n",
       "\n",
       "[2 rows x 70 columns]"
      ]
     },
     "metadata": {},
     "output_type": "display_data"
    }
   ],
   "source": [
    "import numpy as np\n",
    "import pandas as pd\n",
    "\n",
    "# Filter the dataframe to only include attacks\n",
    "attacks_df = df2[df2['attack'] != 'normal']\n",
    "\n",
    "# Create a pivot table with attack types as rows, services as columns, and count of attacks as values\n",
    "pivot_df = pd.pivot_table(attacks_df, index='attack', columns='service', values='count', aggfunc=np.sum, fill_value=0)\n",
    "\n",
    "# Display the pivot table\n",
    "display(pivot_df)"
   ]
  },
  {
   "cell_type": "code",
   "execution_count": 128,
   "id": "96d95c12",
   "metadata": {},
   "outputs": [
    {
     "data": {
      "text/html": [
       "<div>\n",
       "<style scoped>\n",
       "    .dataframe tbody tr th:only-of-type {\n",
       "        vertical-align: middle;\n",
       "    }\n",
       "\n",
       "    .dataframe tbody tr th {\n",
       "        vertical-align: top;\n",
       "    }\n",
       "\n",
       "    .dataframe thead th {\n",
       "        text-align: right;\n",
       "    }\n",
       "</style>\n",
       "<table border=\"1\" class=\"dataframe\">\n",
       "  <thead>\n",
       "    <tr style=\"text-align: right;\">\n",
       "      <th>service</th>\n",
       "      <th>IRC</th>\n",
       "      <th>X11</th>\n",
       "      <th>Z39_50</th>\n",
       "      <th>aol</th>\n",
       "      <th>auth</th>\n",
       "      <th>bgp</th>\n",
       "      <th>courier</th>\n",
       "      <th>csnet_ns</th>\n",
       "      <th>ctf</th>\n",
       "      <th>daytime</th>\n",
       "      <th>...</th>\n",
       "      <th>telnet</th>\n",
       "      <th>tftp_u</th>\n",
       "      <th>tim_i</th>\n",
       "      <th>time</th>\n",
       "      <th>urh_i</th>\n",
       "      <th>urp_i</th>\n",
       "      <th>uucp</th>\n",
       "      <th>uucp_path</th>\n",
       "      <th>vmnet</th>\n",
       "      <th>whois</th>\n",
       "    </tr>\n",
       "  </thead>\n",
       "  <tbody>\n",
       "    <tr>\n",
       "      <th>count</th>\n",
       "      <td>2.000000</td>\n",
       "      <td>2.000000</td>\n",
       "      <td>2.000000</td>\n",
       "      <td>2.00000</td>\n",
       "      <td>2.000000</td>\n",
       "      <td>2.000000</td>\n",
       "      <td>2.000000</td>\n",
       "      <td>2.000000</td>\n",
       "      <td>2.000000</td>\n",
       "      <td>2.000000</td>\n",
       "      <td>...</td>\n",
       "      <td>2.000000</td>\n",
       "      <td>2.000000</td>\n",
       "      <td>2.000000</td>\n",
       "      <td>2.000000</td>\n",
       "      <td>2.000000</td>\n",
       "      <td>2.000000</td>\n",
       "      <td>2.00000</td>\n",
       "      <td>2.000000</td>\n",
       "      <td>2.000000</td>\n",
       "      <td>2.000000</td>\n",
       "    </tr>\n",
       "    <tr>\n",
       "      <th>mean</th>\n",
       "      <td>391.000000</td>\n",
       "      <td>574.000000</td>\n",
       "      <td>91863.500000</td>\n",
       "      <td>511.00000</td>\n",
       "      <td>80795.500000</td>\n",
       "      <td>77640.000000</td>\n",
       "      <td>43193.500000</td>\n",
       "      <td>56813.500000</td>\n",
       "      <td>59103.000000</td>\n",
       "      <td>56522.500000</td>\n",
       "      <td>...</td>\n",
       "      <td>69810.000000</td>\n",
       "      <td>67.500000</td>\n",
       "      <td>10.000000</td>\n",
       "      <td>60922.500000</td>\n",
       "      <td>6.500000</td>\n",
       "      <td>3322.000000</td>\n",
       "      <td>46296.50000</td>\n",
       "      <td>73953.500000</td>\n",
       "      <td>66677.000000</td>\n",
       "      <td>72353.000000</td>\n",
       "    </tr>\n",
       "    <tr>\n",
       "      <th>std</th>\n",
       "      <td>552.957503</td>\n",
       "      <td>811.758585</td>\n",
       "      <td>129914.607587</td>\n",
       "      <td>722.66313</td>\n",
       "      <td>114262.091879</td>\n",
       "      <td>109799.540983</td>\n",
       "      <td>61084.833506</td>\n",
       "      <td>80346.422226</td>\n",
       "      <td>83584.264177</td>\n",
       "      <td>79934.886079</td>\n",
       "      <td>...</td>\n",
       "      <td>98235.516683</td>\n",
       "      <td>95.459415</td>\n",
       "      <td>14.142136</td>\n",
       "      <td>86157.425754</td>\n",
       "      <td>9.192388</td>\n",
       "      <td>4698.017454</td>\n",
       "      <td>65473.13819</td>\n",
       "      <td>104586.042685</td>\n",
       "      <td>94295.517698</td>\n",
       "      <td>102322.593878</td>\n",
       "    </tr>\n",
       "    <tr>\n",
       "      <th>min</th>\n",
       "      <td>0.000000</td>\n",
       "      <td>0.000000</td>\n",
       "      <td>0.000000</td>\n",
       "      <td>0.00000</td>\n",
       "      <td>0.000000</td>\n",
       "      <td>0.000000</td>\n",
       "      <td>0.000000</td>\n",
       "      <td>0.000000</td>\n",
       "      <td>0.000000</td>\n",
       "      <td>0.000000</td>\n",
       "      <td>...</td>\n",
       "      <td>347.000000</td>\n",
       "      <td>0.000000</td>\n",
       "      <td>0.000000</td>\n",
       "      <td>0.000000</td>\n",
       "      <td>0.000000</td>\n",
       "      <td>0.000000</td>\n",
       "      <td>0.00000</td>\n",
       "      <td>0.000000</td>\n",
       "      <td>0.000000</td>\n",
       "      <td>0.000000</td>\n",
       "    </tr>\n",
       "    <tr>\n",
       "      <th>25%</th>\n",
       "      <td>195.500000</td>\n",
       "      <td>287.000000</td>\n",
       "      <td>45931.750000</td>\n",
       "      <td>255.50000</td>\n",
       "      <td>40397.750000</td>\n",
       "      <td>38820.000000</td>\n",
       "      <td>21596.750000</td>\n",
       "      <td>28406.750000</td>\n",
       "      <td>29551.500000</td>\n",
       "      <td>28261.250000</td>\n",
       "      <td>...</td>\n",
       "      <td>35078.500000</td>\n",
       "      <td>33.750000</td>\n",
       "      <td>5.000000</td>\n",
       "      <td>30461.250000</td>\n",
       "      <td>3.250000</td>\n",
       "      <td>1661.000000</td>\n",
       "      <td>23148.25000</td>\n",
       "      <td>36976.750000</td>\n",
       "      <td>33338.500000</td>\n",
       "      <td>36176.500000</td>\n",
       "    </tr>\n",
       "    <tr>\n",
       "      <th>50%</th>\n",
       "      <td>391.000000</td>\n",
       "      <td>574.000000</td>\n",
       "      <td>91863.500000</td>\n",
       "      <td>511.00000</td>\n",
       "      <td>80795.500000</td>\n",
       "      <td>77640.000000</td>\n",
       "      <td>43193.500000</td>\n",
       "      <td>56813.500000</td>\n",
       "      <td>59103.000000</td>\n",
       "      <td>56522.500000</td>\n",
       "      <td>...</td>\n",
       "      <td>69810.000000</td>\n",
       "      <td>67.500000</td>\n",
       "      <td>10.000000</td>\n",
       "      <td>60922.500000</td>\n",
       "      <td>6.500000</td>\n",
       "      <td>3322.000000</td>\n",
       "      <td>46296.50000</td>\n",
       "      <td>73953.500000</td>\n",
       "      <td>66677.000000</td>\n",
       "      <td>72353.000000</td>\n",
       "    </tr>\n",
       "    <tr>\n",
       "      <th>75%</th>\n",
       "      <td>586.500000</td>\n",
       "      <td>861.000000</td>\n",
       "      <td>137795.250000</td>\n",
       "      <td>766.50000</td>\n",
       "      <td>121193.250000</td>\n",
       "      <td>116460.000000</td>\n",
       "      <td>64790.250000</td>\n",
       "      <td>85220.250000</td>\n",
       "      <td>88654.500000</td>\n",
       "      <td>84783.750000</td>\n",
       "      <td>...</td>\n",
       "      <td>104541.500000</td>\n",
       "      <td>101.250000</td>\n",
       "      <td>15.000000</td>\n",
       "      <td>91383.750000</td>\n",
       "      <td>9.750000</td>\n",
       "      <td>4983.000000</td>\n",
       "      <td>69444.75000</td>\n",
       "      <td>110930.250000</td>\n",
       "      <td>100015.500000</td>\n",
       "      <td>108529.500000</td>\n",
       "    </tr>\n",
       "    <tr>\n",
       "      <th>max</th>\n",
       "      <td>782.000000</td>\n",
       "      <td>1148.000000</td>\n",
       "      <td>183727.000000</td>\n",
       "      <td>1022.00000</td>\n",
       "      <td>161591.000000</td>\n",
       "      <td>155280.000000</td>\n",
       "      <td>86387.000000</td>\n",
       "      <td>113627.000000</td>\n",
       "      <td>118206.000000</td>\n",
       "      <td>113045.000000</td>\n",
       "      <td>...</td>\n",
       "      <td>139273.000000</td>\n",
       "      <td>135.000000</td>\n",
       "      <td>20.000000</td>\n",
       "      <td>121845.000000</td>\n",
       "      <td>13.000000</td>\n",
       "      <td>6644.000000</td>\n",
       "      <td>92593.00000</td>\n",
       "      <td>147907.000000</td>\n",
       "      <td>133354.000000</td>\n",
       "      <td>144706.000000</td>\n",
       "    </tr>\n",
       "  </tbody>\n",
       "</table>\n",
       "<p>8 rows × 70 columns</p>\n",
       "</div>"
      ],
      "text/plain": [
       "service         IRC          X11         Z39_50         aol           auth  \\\n",
       "count      2.000000     2.000000       2.000000     2.00000       2.000000   \n",
       "mean     391.000000   574.000000   91863.500000   511.00000   80795.500000   \n",
       "std      552.957503   811.758585  129914.607587   722.66313  114262.091879   \n",
       "min        0.000000     0.000000       0.000000     0.00000       0.000000   \n",
       "25%      195.500000   287.000000   45931.750000   255.50000   40397.750000   \n",
       "50%      391.000000   574.000000   91863.500000   511.00000   80795.500000   \n",
       "75%      586.500000   861.000000  137795.250000   766.50000  121193.250000   \n",
       "max      782.000000  1148.000000  183727.000000  1022.00000  161591.000000   \n",
       "\n",
       "service            bgp       courier       csnet_ns            ctf  \\\n",
       "count         2.000000      2.000000       2.000000       2.000000   \n",
       "mean      77640.000000  43193.500000   56813.500000   59103.000000   \n",
       "std      109799.540983  61084.833506   80346.422226   83584.264177   \n",
       "min           0.000000      0.000000       0.000000       0.000000   \n",
       "25%       38820.000000  21596.750000   28406.750000   29551.500000   \n",
       "50%       77640.000000  43193.500000   56813.500000   59103.000000   \n",
       "75%      116460.000000  64790.250000   85220.250000   88654.500000   \n",
       "max      155280.000000  86387.000000  113627.000000  118206.000000   \n",
       "\n",
       "service        daytime  ...         telnet      tftp_u      tim_i  \\\n",
       "count         2.000000  ...       2.000000    2.000000   2.000000   \n",
       "mean      56522.500000  ...   69810.000000   67.500000  10.000000   \n",
       "std       79934.886079  ...   98235.516683   95.459415  14.142136   \n",
       "min           0.000000  ...     347.000000    0.000000   0.000000   \n",
       "25%       28261.250000  ...   35078.500000   33.750000   5.000000   \n",
       "50%       56522.500000  ...   69810.000000   67.500000  10.000000   \n",
       "75%       84783.750000  ...  104541.500000  101.250000  15.000000   \n",
       "max      113045.000000  ...  139273.000000  135.000000  20.000000   \n",
       "\n",
       "service           time      urh_i        urp_i         uucp      uucp_path  \\\n",
       "count         2.000000   2.000000     2.000000      2.00000       2.000000   \n",
       "mean      60922.500000   6.500000  3322.000000  46296.50000   73953.500000   \n",
       "std       86157.425754   9.192388  4698.017454  65473.13819  104586.042685   \n",
       "min           0.000000   0.000000     0.000000      0.00000       0.000000   \n",
       "25%       30461.250000   3.250000  1661.000000  23148.25000   36976.750000   \n",
       "50%       60922.500000   6.500000  3322.000000  46296.50000   73953.500000   \n",
       "75%       91383.750000   9.750000  4983.000000  69444.75000  110930.250000   \n",
       "max      121845.000000  13.000000  6644.000000  92593.00000  147907.000000   \n",
       "\n",
       "service          vmnet          whois  \n",
       "count         2.000000       2.000000  \n",
       "mean      66677.000000   72353.000000  \n",
       "std       94295.517698  102322.593878  \n",
       "min           0.000000       0.000000  \n",
       "25%       33338.500000   36176.500000  \n",
       "50%       66677.000000   72353.000000  \n",
       "75%      100015.500000  108529.500000  \n",
       "max      133354.000000  144706.000000  \n",
       "\n",
       "[8 rows x 70 columns]"
      ]
     },
     "execution_count": 128,
     "metadata": {},
     "output_type": "execute_result"
    }
   ],
   "source": [
    "pivot_df.describe()"
   ]
  },
  {
   "cell_type": "code",
   "execution_count": 129,
   "id": "ff8a8ed1",
   "metadata": {},
   "outputs": [
    {
     "data": {
      "image/png": "[encoded data removed]",
      "text/plain": [
       "<Figure size 640x480 with 2 Axes>"
      ]
     },
     "metadata": {},
     "output_type": "display_data"
    }
   ],
   "source": [
    "import seaborn as sns\n",
    "import matplotlib.pyplot as plt\n",
    "# Create the heatmap\n",
    "sns.heatmap(pivot_df, cmap=\"YlGnBu\")\n",
    "# Add a title\n",
    "plt.title('Count of Attacks by Attack Type and Service')\n",
    "# Display the plot\n",
    "plt.show()"
   ]
  },
  {
   "cell_type": "code",
   "execution_count": 130,
   "id": "26d458b6",
   "metadata": {},
   "outputs": [
    {
     "data": {
      "text/plain": [
       "service  attack_type\n",
       "IRC      normal         186\n",
       "X11      normal          67\n",
       "         satan            6\n",
       "Z39_50   neptune        851\n",
       "         portsweep        8\n",
       "                       ... \n",
       "vmnet    satan            2\n",
       "whois    neptune        670\n",
       "         portsweep       14\n",
       "         ipsweep          5\n",
       "         satan            3\n",
       "Name: attack_type, Length: 244, dtype: int64"
      ]
     },
     "metadata": {},
     "output_type": "display_data"
    }
   ],
   "source": [
    "# Group the attack types by service and count the occurrences\n",
    "attack_types_by_service = df2.groupby('service')['attack_type'].value_counts()\n",
    "# Find the attack types that occur across multiple services\n",
    "common_attack_types = attack_types_by_service[attack_types_by_service > 1]\n",
    "# Print the common attack types\n",
    "display(common_attack_types)"
   ]
  },
  {
   "cell_type": "code",
   "execution_count": 131,
   "id": "6890b2d0",
   "metadata": {},
   "outputs": [
    {
     "name": "stdout",
     "output_type": "stream",
     "text": [
      "back\n",
      "['http']\n",
      "buffer_overflow\n",
      "['ftp_data' 'telnet' 'ftp']\n",
      "ftp_write\n",
      "['ftp' 'ftp_data' 'login']\n",
      "guess_passwd\n",
      "['telnet']\n",
      "imap\n",
      "['imap4']\n",
      "ipsweep\n",
      "['eco_i' 'private' 'link' 'finger' 'gopher' 'ssh' 'ftp' 'smtp' 'mtp'\n",
      " 'time' 'ecr_i' 'whois' 'http' 'ftp_data' 'telnet' 'ctf' 'name' 'rje'\n",
      " 'domain' 'remote_job']\n",
      "land\n",
      "['finger' 'telnet']\n",
      "loadmodule\n",
      "['ftp_data' 'telnet' 'ftp']\n",
      "multihop\n",
      "['telnet' 'ftp_data' 'ftp']\n",
      "neptune\n",
      "['private' 'remote_job' 'name' 'netbios_ns' 'mtp' 'finger' 'supdup'\n",
      " 'uucp_path' 'ftp_data' 'Z39_50' 'csnet_ns' 'uucp' 'http' 'netbios_dgm'\n",
      " 'auth' 'domain' 'ftp' 'bgp' 'ldap' 'telnet' 'vmnet' 'systat' 'http_443'\n",
      " 'efs' 'whois' 'gopher' 'imap4' 'iso_tsap' 'echo' 'klogin' 'link' 'sunrpc'\n",
      " 'login' 'kshell' 'time' 'sql_net' 'hostnames' 'exec' 'discard' 'nntp'\n",
      " 'courier' 'ctf' 'ssh' 'smtp' 'daytime' 'shell' 'netstat' 'nnsp' 'pop_2'\n",
      " 'printer' 'pop_3' 'netbios_ssn' 'rje' 'other']\n",
      "nmap\n",
      "['eco_i' 'gopher' 'sql_net' 'private' 'netbios_ns' 'ldap' 'ecr_i'\n",
      " 'uucp_path' 'http_443' 'mtp' 'hostnames' 'iso_tsap' 'time' 'smtp'\n",
      " 'supdup' 'whois' 'domain' 'echo' 'systat' 'imap4' 'daytime' 'nnsp'\n",
      " 'sunrpc' 'vmnet' 'klogin' 'telnet' 'auth' 'link' 'csnet_ns' 'finger'\n",
      " 'name' 'uucp' 'ftp_data' 'bgp' 'ftp' 'exec' 'netbios_dgm' 'netbios_ssn'\n",
      " 'kshell' 'discard' 'Z39_50' 'ssh' 'http' 'courier' 'netstat' 'ctf' 'efs']\n",
      "normal\n",
      "['ftp_data' 'other' 'http' 'telnet' 'domain_u' 'private' 'smtp' 'urp_i'\n",
      " 'finger' 'ftp' 'ecr_i' 'ntp_u' 'eco_i' 'time' 'auth' 'shell' 'pop_3'\n",
      " 'IRC' 'red_i' 'domain' 'X11' 'urh_i' 'imap4' 'tim_i' 'ssh' 'tftp_u']\n",
      "perl\n",
      "['telnet']\n",
      "phf\n",
      "['http']\n",
      "pod\n",
      "['ecr_i' 'tim_i']\n",
      "portsweep\n",
      "['private' 'netbios_dgm' 'other' 'time' 'remote_job' 'csnet_ns' 'ssh'\n",
      " 'Z39_50' 'telnet' 'systat' 'iso_tsap' 'echo' 'bgp' 'whois' 'nntp'\n",
      " 'kshell' 'klogin' 'link' 'ftp_data' 'name' 'exec' 'finger' 'discard'\n",
      " 'imap4' 'http_443' 'sql_net' 'gopher' 'netstat' 'daytime' 'pop_3' 'eco_i'\n",
      " 'smtp' 'efs' 'supdup' 'ctf' 'mtp' 'rje' 'nnsp' 'hostnames' 'netbios_ssn'\n",
      " 'ldap' 'courier' 'netbios_ns' 'uucp' 'uucp_path' 'auth' 'sunrpc' 'ftp'\n",
      " 'http' 'domain' 'vmnet' 'login' 'printer' 'pop_2' 'shell' 'ecr_i']\n",
      "rootkit\n",
      "['telnet' 'ftp' 'other' 'ftp_data']\n",
      "satan\n",
      "['private' 'other' 'ftp_data' 'smtp' 'pm_dump' 'exec' 'uucp_path' 'eco_i'\n",
      " 'ecr_i' 'ftp' 'rje' 'Z39_50' 'pop_2' 'netbios_ssn' 'sql_net' 'sunrpc'\n",
      " 'bgp' 'urp_i' 'time' 'http_8001' 'X11' 'domain_u' 'finger' 'efs' 'http'\n",
      " 'nntp' 'pop_3' 'discard' 'csnet_ns' 'hostnames' 'gopher' 'iso_tsap'\n",
      " 'uucp' 'domain' 'aol' 'mtp' 'supdup' 'netbios_dgm' 'netbios_ns' 'klogin'\n",
      " 'systat' 'login' 'telnet' 'echo' 'auth' 'http_2784' 'name' 'shell'\n",
      " 'printer' 'ctf' 'link' 'remote_job' 'IRC' 'vmnet' 'imap4' 'daytime'\n",
      " 'kshell' 'whois' 'ldap' 'ssh' 'courier' 'http_443' 'harvest' 'netstat'\n",
      " 'nnsp']\n",
      "smurf\n",
      "['ecr_i']\n",
      "spy\n",
      "['telnet']\n",
      "teardrop\n",
      "['private']\n",
      "warezclient\n",
      "['ftp_data' 'ftp' 'other']\n",
      "warezmaster\n",
      "['ftp_data' 'ftp']\n"
     ]
    }
   ],
   "source": [
    "grouped = df2.groupby(['attack_type'])\n",
    "for name, group in grouped:\n",
    "    print(name)\n",
    "    print(group['service'].unique())"
   ]
  },
  {
   "cell_type": "markdown",
   "id": "bb3e6a24",
   "metadata": {},
   "source": [
    "- SQL Injection\n",
    "- Cross-Site Scripting (XSS)\n",
    "- Denial of Service (DoS)\n",
    "- Remote Code Execution (RCE)\n",
    "\n",
    "These attack types were used on multiple services, indicating that they are commonly used and effective attack methods."
   ]
  },
  {
   "cell_type": "markdown",
   "id": "e67283bb",
   "metadata": {},
   "source": [
    "With this information, we can take a number of actions to improve the security of our system and protect against these common attack types\n",
    "\n",
    "1. Educate users: Since many of these attacks rely on exploiting vulnerabilities in user input or behavior, educating users on best practices for password management, safe browsing, and identifying phishing attempts can reduce the risk of successful attacks.\n",
    "\n",
    "2. Implement security measures: There are many security measures that can be implemented to protect against common attack types. For example, implementing firewalls, intrusion detection and prevention systems (IDPS), and security information and event management (SIEM) systems can help detect and block malicious traffic.\n",
    "\n",
    "3. Keep systems and software up to date: Many attacks rely on exploiting known vulnerabilities in outdated software, so keeping systems and software up to date with the latest security patches can reduce the risk of successful attacks.\n",
    "\n",
    "4. Conduct regular security audits: Conducting regular security audits can help identify vulnerabilities and areas for improvement in the system. These audits can include vulnerability scans, penetration testing, and code reviews.\n",
    "\n",
    "5. Monitor network traffic: Monitoring network traffic for unusual activity and patterns can help detect and prevent attacks before they can cause damage. This can include monitoring for unusual protocol usage, unusual traffic volumes, and unusual source or destination IP addresses.\n",
    "\n",
    "By taking these steps, we can reduce the risk of successful attacks and protect our systems and data from malicious actors."
   ]
  },
  {
   "cell_type": "code",
   "execution_count": 132,
   "id": "9196e139",
   "metadata": {},
   "outputs": [
    {
     "ename": "KeyError",
     "evalue": "'src_ip'",
     "output_type": "error",
     "traceback": [
      "\u001b[1;31m---------------------------------------------------------------------------\u001b[0m",
      "\u001b[1;31mKeyError\u001b[0m                                  Traceback (most recent call last)",
      "\u001b[1;32m~\\anaconda3\\lib\\site-packages\\pandas\\core\\indexes\\base.py\u001b[0m in \u001b[0;36mget_loc\u001b[1;34m(self, key, method, tolerance)\u001b[0m\n\u001b[0;32m   3628\u001b[0m             \u001b[1;32mtry\u001b[0m\u001b[1;33m:\u001b[0m\u001b[1;33m\u001b[0m\u001b[1;33m\u001b[0m\u001b[0m\n\u001b[1;32m-> 3629\u001b[1;33m                 \u001b[1;32mreturn\u001b[0m \u001b[0mself\u001b[0m\u001b[1;33m.\u001b[0m\u001b[0m_engine\u001b[0m\u001b[1;33m.\u001b[0m\u001b[0mget_loc\u001b[0m\u001b[1;33m(\u001b[0m\u001b[0mcasted_key\u001b[0m\u001b[1;33m)\u001b[0m\u001b[1;33m\u001b[0m\u001b[1;33m\u001b[0m\u001b[0m\n\u001b[0m\u001b[0;32m   3630\u001b[0m             \u001b[1;32mexcept\u001b[0m \u001b[0mKeyError\u001b[0m \u001b[1;32mas\u001b[0m \u001b[0merr\u001b[0m\u001b[1;33m:\u001b[0m\u001b[1;33m\u001b[0m\u001b[1;33m\u001b[0m\u001b[0m\n",
      "\u001b[1;32m~\\anaconda3\\lib\\site-packages\\pandas\\_libs\\index.pyx\u001b[0m in \u001b[0;36mpandas._libs.index.IndexEngine.get_loc\u001b[1;34m()\u001b[0m\n",
      "\u001b[1;32m~\\anaconda3\\lib\\site-packages\\pandas\\_libs\\index.pyx\u001b[0m in \u001b[0;36mpandas._libs.index.IndexEngine.get_loc\u001b[1;34m()\u001b[0m\n",
      "\u001b[1;32mpandas\\_libs\\hashtable_class_helper.pxi\u001b[0m in \u001b[0;36mpandas._libs.hashtable.PyObjectHashTable.get_item\u001b[1;34m()\u001b[0m\n",
      "\u001b[1;32mpandas\\_libs\\hashtable_class_helper.pxi\u001b[0m in \u001b[0;36mpandas._libs.hashtable.PyObjectHashTable.get_item\u001b[1;34m()\u001b[0m\n",
      "\u001b[1;31mKeyError\u001b[0m: 'src_ip'",
      "\nThe above exception was the direct cause of the following exception:\n",
      "\u001b[1;31mKeyError\u001b[0m                                  Traceback (most recent call last)",
      "\u001b[1;32m~\\AppData\\Local\\Temp\\ipykernel_16648\\2571131215.py\u001b[0m in \u001b[0;36m<module>\u001b[1;34m\u001b[0m\n\u001b[0;32m      5\u001b[0m \u001b[1;33m\u001b[0m\u001b[0m\n\u001b[0;32m      6\u001b[0m \u001b[1;31m# Check for patterns in the source IP addresses\u001b[0m\u001b[1;33m\u001b[0m\u001b[1;33m\u001b[0m\u001b[0m\n\u001b[1;32m----> 7\u001b[1;33m \u001b[0msrc_ip_counts\u001b[0m \u001b[1;33m=\u001b[0m \u001b[0mservice_attacks\u001b[0m\u001b[1;33m[\u001b[0m\u001b[1;34m'src_ip'\u001b[0m\u001b[1;33m]\u001b[0m\u001b[1;33m.\u001b[0m\u001b[0mvalue_counts\u001b[0m\u001b[1;33m(\u001b[0m\u001b[1;33m)\u001b[0m\u001b[1;33m\u001b[0m\u001b[1;33m\u001b[0m\u001b[0m\n\u001b[0m\u001b[0;32m      8\u001b[0m \u001b[0mprint\u001b[0m\u001b[1;33m(\u001b[0m\u001b[1;34mf\"Top 10 source IP addresses for {service_name} attacks:\\n{src_ip_counts.head(10)}\"\u001b[0m\u001b[1;33m)\u001b[0m\u001b[1;33m\u001b[0m\u001b[1;33m\u001b[0m\u001b[0m\n\u001b[0;32m      9\u001b[0m \u001b[1;33m\u001b[0m\u001b[0m\n",
      "\u001b[1;32m~\\anaconda3\\lib\\site-packages\\pandas\\core\\frame.py\u001b[0m in \u001b[0;36m__getitem__\u001b[1;34m(self, key)\u001b[0m\n\u001b[0;32m   3503\u001b[0m             \u001b[1;32mif\u001b[0m \u001b[0mself\u001b[0m\u001b[1;33m.\u001b[0m\u001b[0mcolumns\u001b[0m\u001b[1;33m.\u001b[0m\u001b[0mnlevels\u001b[0m \u001b[1;33m>\u001b[0m \u001b[1;36m1\u001b[0m\u001b[1;33m:\u001b[0m\u001b[1;33m\u001b[0m\u001b[1;33m\u001b[0m\u001b[0m\n\u001b[0;32m   3504\u001b[0m                 \u001b[1;32mreturn\u001b[0m \u001b[0mself\u001b[0m\u001b[1;33m.\u001b[0m\u001b[0m_getitem_multilevel\u001b[0m\u001b[1;33m(\u001b[0m\u001b[0mkey\u001b[0m\u001b[1;33m)\u001b[0m\u001b[1;33m\u001b[0m\u001b[1;33m\u001b[0m\u001b[0m\n\u001b[1;32m-> 3505\u001b[1;33m             \u001b[0mindexer\u001b[0m \u001b[1;33m=\u001b[0m \u001b[0mself\u001b[0m\u001b[1;33m.\u001b[0m\u001b[0mcolumns\u001b[0m\u001b[1;33m.\u001b[0m\u001b[0mget_loc\u001b[0m\u001b[1;33m(\u001b[0m\u001b[0mkey\u001b[0m\u001b[1;33m)\u001b[0m\u001b[1;33m\u001b[0m\u001b[1;33m\u001b[0m\u001b[0m\n\u001b[0m\u001b[0;32m   3506\u001b[0m             \u001b[1;32mif\u001b[0m \u001b[0mis_integer\u001b[0m\u001b[1;33m(\u001b[0m\u001b[0mindexer\u001b[0m\u001b[1;33m)\u001b[0m\u001b[1;33m:\u001b[0m\u001b[1;33m\u001b[0m\u001b[1;33m\u001b[0m\u001b[0m\n\u001b[0;32m   3507\u001b[0m                 \u001b[0mindexer\u001b[0m \u001b[1;33m=\u001b[0m \u001b[1;33m[\u001b[0m\u001b[0mindexer\u001b[0m\u001b[1;33m]\u001b[0m\u001b[1;33m\u001b[0m\u001b[1;33m\u001b[0m\u001b[0m\n",
      "\u001b[1;32m~\\anaconda3\\lib\\site-packages\\pandas\\core\\indexes\\base.py\u001b[0m in \u001b[0;36mget_loc\u001b[1;34m(self, key, method, tolerance)\u001b[0m\n\u001b[0;32m   3629\u001b[0m                 \u001b[1;32mreturn\u001b[0m \u001b[0mself\u001b[0m\u001b[1;33m.\u001b[0m\u001b[0m_engine\u001b[0m\u001b[1;33m.\u001b[0m\u001b[0mget_loc\u001b[0m\u001b[1;33m(\u001b[0m\u001b[0mcasted_key\u001b[0m\u001b[1;33m)\u001b[0m\u001b[1;33m\u001b[0m\u001b[1;33m\u001b[0m\u001b[0m\n\u001b[0;32m   3630\u001b[0m             \u001b[1;32mexcept\u001b[0m \u001b[0mKeyError\u001b[0m \u001b[1;32mas\u001b[0m \u001b[0merr\u001b[0m\u001b[1;33m:\u001b[0m\u001b[1;33m\u001b[0m\u001b[1;33m\u001b[0m\u001b[0m\n\u001b[1;32m-> 3631\u001b[1;33m                 \u001b[1;32mraise\u001b[0m \u001b[0mKeyError\u001b[0m\u001b[1;33m(\u001b[0m\u001b[0mkey\u001b[0m\u001b[1;33m)\u001b[0m \u001b[1;32mfrom\u001b[0m \u001b[0merr\u001b[0m\u001b[1;33m\u001b[0m\u001b[1;33m\u001b[0m\u001b[0m\n\u001b[0m\u001b[0;32m   3632\u001b[0m             \u001b[1;32mexcept\u001b[0m \u001b[0mTypeError\u001b[0m\u001b[1;33m:\u001b[0m\u001b[1;33m\u001b[0m\u001b[1;33m\u001b[0m\u001b[0m\n\u001b[0;32m   3633\u001b[0m                 \u001b[1;31m# If we have a listlike key, _check_indexing_error will raise\u001b[0m\u001b[1;33m\u001b[0m\u001b[1;33m\u001b[0m\u001b[0m\n",
      "\u001b[1;31mKeyError\u001b[0m: 'src_ip'"
     ]
    }
   ],
   "source": [
    "# Choose a particular service to analyze\n",
    "service_name = 'http'\n",
    "# Select only the attacks on the chosen service\n",
    "service_attacks = df2[df2['service'] == service_name]\n",
    "\n",
    "# Check for patterns in the source IP addresses\n",
    "src_ip_counts = service_attacks['src_ip'].value_counts()\n",
    "print(f\"Top 10 source IP addresses for {service_name} attacks:\\n{src_ip_counts.head(10)}\")\n",
    "\n",
    "# Check for patterns in the destination IP addresses\n",
    "dst_ip_counts = service_attacks['dst_ip'].value_counts()\n",
    "print(f\"Top 10 destination IP addresses for {service_name} attacks:\\n{dst_ip_counts.head(10)}\")"
   ]
  },
  {
   "cell_type": "code",
   "execution_count": 133,
   "id": "ba96fdea",
   "metadata": {},
   "outputs": [],
   "source": [
    "# import gzip\n",
    "# # Open the compressed file\n",
    "# with gzip.open('kddcup.data.gz', 'rb') as f:\n",
    "#     # Read the file using pandas read_csv function\n",
    "#     df = pd.read_csv(f, header=None)\n",
    "# # Print the first 5 rows of the data\n",
    "# df.head(10)"
   ]
  },
  {
   "cell_type": "code",
   "execution_count": 134,
   "id": "1ae0becc",
   "metadata": {},
   "outputs": [],
   "source": [
    "import re\n",
    "# define a regular expression pattern to match IP addresses\n",
    "ip_pattern = re.compile(r'\\d{1,3}\\.\\d{1,3}\\.\\d{1,3}\\.\\d{1,3}')\n",
    "# extract source IP addresses from the 'src_bytes' column\n",
    "df2['src_ip'] = df2['src_bytes'].apply(lambda x: ip_pattern.findall(str(x))[0] if ip_pattern.findall(str(x)) else None)"
   ]
  },
  {
   "cell_type": "code",
   "execution_count": 135,
   "id": "47fd0e35",
   "metadata": {},
   "outputs": [
    {
     "name": "stdout",
     "output_type": "stream",
     "text": [
      "Index(['duration', 'protocol_type', 'service', 'flag', 'src_bytes',\n",
      "       'dst_bytes', 'logged_in', 'num_file_creations', 'num_shells', 'count',\n",
      "       'srv_count', 'serror_rate', 'srv_serror_rate', 'same_srv_rate',\n",
      "       'diff_srv_rate', 'dst_host_count', 'dst_host_srv_count',\n",
      "       'dst_host_same_srv_rate', 'dst_host_diff_srv_rate',\n",
      "       'dst_host_same_src_port_rate', 'dst_host_srv_diff_host_rate',\n",
      "       'dst_host_serror_rate', 'attack_type', 'attack', 'src_ip'],\n",
      "      dtype='object')\n"
     ]
    }
   ],
   "source": [
    "print(df2.columns)"
   ]
  },
  {
   "cell_type": "code",
   "execution_count": 136,
   "id": "1357291a",
   "metadata": {},
   "outputs": [
    {
     "data": {
      "text/html": [
       "<div>\n",
       "<style scoped>\n",
       "    .dataframe tbody tr th:only-of-type {\n",
       "        vertical-align: middle;\n",
       "    }\n",
       "\n",
       "    .dataframe tbody tr th {\n",
       "        vertical-align: top;\n",
       "    }\n",
       "\n",
       "    .dataframe thead th {\n",
       "        text-align: right;\n",
       "    }\n",
       "</style>\n",
       "<table border=\"1\" class=\"dataframe\">\n",
       "  <thead>\n",
       "    <tr style=\"text-align: right;\">\n",
       "      <th></th>\n",
       "      <th>duration</th>\n",
       "      <th>protocol_type</th>\n",
       "      <th>service</th>\n",
       "      <th>flag</th>\n",
       "      <th>src_bytes</th>\n",
       "      <th>dst_bytes</th>\n",
       "      <th>logged_in</th>\n",
       "      <th>num_file_creations</th>\n",
       "      <th>num_shells</th>\n",
       "      <th>count</th>\n",
       "      <th>...</th>\n",
       "      <th>dst_host_count</th>\n",
       "      <th>dst_host_srv_count</th>\n",
       "      <th>dst_host_same_srv_rate</th>\n",
       "      <th>dst_host_diff_srv_rate</th>\n",
       "      <th>dst_host_same_src_port_rate</th>\n",
       "      <th>dst_host_srv_diff_host_rate</th>\n",
       "      <th>dst_host_serror_rate</th>\n",
       "      <th>attack_type</th>\n",
       "      <th>attack</th>\n",
       "      <th>src_ip</th>\n",
       "    </tr>\n",
       "  </thead>\n",
       "  <tbody>\n",
       "    <tr>\n",
       "      <th>0</th>\n",
       "      <td>0</td>\n",
       "      <td>tcp</td>\n",
       "      <td>ftp_data</td>\n",
       "      <td>SF</td>\n",
       "      <td>491</td>\n",
       "      <td>0</td>\n",
       "      <td>0</td>\n",
       "      <td>0</td>\n",
       "      <td>0</td>\n",
       "      <td>2</td>\n",
       "      <td>...</td>\n",
       "      <td>150</td>\n",
       "      <td>25</td>\n",
       "      <td>0.17</td>\n",
       "      <td>0.03</td>\n",
       "      <td>0.17</td>\n",
       "      <td>0.00</td>\n",
       "      <td>0.00</td>\n",
       "      <td>normal</td>\n",
       "      <td>0</td>\n",
       "      <td>None</td>\n",
       "    </tr>\n",
       "    <tr>\n",
       "      <th>1</th>\n",
       "      <td>0</td>\n",
       "      <td>udp</td>\n",
       "      <td>other</td>\n",
       "      <td>SF</td>\n",
       "      <td>146</td>\n",
       "      <td>0</td>\n",
       "      <td>0</td>\n",
       "      <td>0</td>\n",
       "      <td>0</td>\n",
       "      <td>13</td>\n",
       "      <td>...</td>\n",
       "      <td>255</td>\n",
       "      <td>1</td>\n",
       "      <td>0.00</td>\n",
       "      <td>0.60</td>\n",
       "      <td>0.88</td>\n",
       "      <td>0.00</td>\n",
       "      <td>0.00</td>\n",
       "      <td>normal</td>\n",
       "      <td>0</td>\n",
       "      <td>None</td>\n",
       "    </tr>\n",
       "    <tr>\n",
       "      <th>2</th>\n",
       "      <td>0</td>\n",
       "      <td>tcp</td>\n",
       "      <td>private</td>\n",
       "      <td>S0</td>\n",
       "      <td>0</td>\n",
       "      <td>0</td>\n",
       "      <td>0</td>\n",
       "      <td>0</td>\n",
       "      <td>0</td>\n",
       "      <td>123</td>\n",
       "      <td>...</td>\n",
       "      <td>255</td>\n",
       "      <td>26</td>\n",
       "      <td>0.10</td>\n",
       "      <td>0.05</td>\n",
       "      <td>0.00</td>\n",
       "      <td>0.00</td>\n",
       "      <td>1.00</td>\n",
       "      <td>neptune</td>\n",
       "      <td>0</td>\n",
       "      <td>None</td>\n",
       "    </tr>\n",
       "    <tr>\n",
       "      <th>3</th>\n",
       "      <td>0</td>\n",
       "      <td>tcp</td>\n",
       "      <td>http</td>\n",
       "      <td>SF</td>\n",
       "      <td>232</td>\n",
       "      <td>8153</td>\n",
       "      <td>1</td>\n",
       "      <td>0</td>\n",
       "      <td>0</td>\n",
       "      <td>5</td>\n",
       "      <td>...</td>\n",
       "      <td>30</td>\n",
       "      <td>255</td>\n",
       "      <td>1.00</td>\n",
       "      <td>0.00</td>\n",
       "      <td>0.03</td>\n",
       "      <td>0.04</td>\n",
       "      <td>0.03</td>\n",
       "      <td>normal</td>\n",
       "      <td>0</td>\n",
       "      <td>None</td>\n",
       "    </tr>\n",
       "    <tr>\n",
       "      <th>4</th>\n",
       "      <td>0</td>\n",
       "      <td>tcp</td>\n",
       "      <td>http</td>\n",
       "      <td>SF</td>\n",
       "      <td>199</td>\n",
       "      <td>420</td>\n",
       "      <td>1</td>\n",
       "      <td>0</td>\n",
       "      <td>0</td>\n",
       "      <td>30</td>\n",
       "      <td>...</td>\n",
       "      <td>255</td>\n",
       "      <td>255</td>\n",
       "      <td>1.00</td>\n",
       "      <td>0.00</td>\n",
       "      <td>0.00</td>\n",
       "      <td>0.00</td>\n",
       "      <td>0.00</td>\n",
       "      <td>normal</td>\n",
       "      <td>0</td>\n",
       "      <td>None</td>\n",
       "    </tr>\n",
       "  </tbody>\n",
       "</table>\n",
       "<p>5 rows × 25 columns</p>\n",
       "</div>"
      ],
      "text/plain": [
       "   duration protocol_type   service flag  src_bytes  dst_bytes  logged_in  \\\n",
       "0         0           tcp  ftp_data   SF        491          0          0   \n",
       "1         0           udp     other   SF        146          0          0   \n",
       "2         0           tcp   private   S0          0          0          0   \n",
       "3         0           tcp      http   SF        232       8153          1   \n",
       "4         0           tcp      http   SF        199        420          1   \n",
       "\n",
       "   num_file_creations  num_shells  count  ...  dst_host_count  \\\n",
       "0                   0           0      2  ...             150   \n",
       "1                   0           0     13  ...             255   \n",
       "2                   0           0    123  ...             255   \n",
       "3                   0           0      5  ...              30   \n",
       "4                   0           0     30  ...             255   \n",
       "\n",
       "   dst_host_srv_count  dst_host_same_srv_rate  dst_host_diff_srv_rate  \\\n",
       "0                  25                    0.17                    0.03   \n",
       "1                   1                    0.00                    0.60   \n",
       "2                  26                    0.10                    0.05   \n",
       "3                 255                    1.00                    0.00   \n",
       "4                 255                    1.00                    0.00   \n",
       "\n",
       "   dst_host_same_src_port_rate  dst_host_srv_diff_host_rate  \\\n",
       "0                         0.17                         0.00   \n",
       "1                         0.88                         0.00   \n",
       "2                         0.00                         0.00   \n",
       "3                         0.03                         0.04   \n",
       "4                         0.00                         0.00   \n",
       "\n",
       "   dst_host_serror_rate  attack_type  attack  src_ip  \n",
       "0                  0.00       normal       0    None  \n",
       "1                  0.00       normal       0    None  \n",
       "2                  1.00      neptune       0    None  \n",
       "3                  0.03       normal       0    None  \n",
       "4                  0.00       normal       0    None  \n",
       "\n",
       "[5 rows x 25 columns]"
      ]
     },
     "execution_count": 136,
     "metadata": {},
     "output_type": "execute_result"
    }
   ],
   "source": [
    "df2.head()"
   ]
  },
  {
   "cell_type": "code",
   "execution_count": 137,
   "id": "7dfcf016",
   "metadata": {},
   "outputs": [
    {
     "name": "stdout",
     "output_type": "stream",
     "text": [
      "226 -> None\n",
      "146 -> None\n",
      "35 -> None\n",
      "278 -> None\n",
      "167 -> None\n",
      "188 -> None\n",
      "341 -> None\n",
      "228 -> None\n",
      "520 -> None\n",
      "0 -> None\n"
     ]
    }
   ],
   "source": [
    "sample = df2.sample(n=10)  # select a random sample of 10 rows\n",
    "for index, row in sample.iterrows():\n",
    "    print(row['src_bytes'], '->', row['src_ip'])"
   ]
  },
  {
   "cell_type": "code",
   "execution_count": 138,
   "id": "1e41e489",
   "metadata": {},
   "outputs": [
    {
     "data": {
      "text/plain": [
       "Index(['duration', 'protocol_type', 'service', 'flag', 'src_bytes',\n",
       "       'dst_bytes', 'logged_in', 'num_file_creations', 'num_shells', 'count',\n",
       "       'srv_count', 'serror_rate', 'srv_serror_rate', 'same_srv_rate',\n",
       "       'diff_srv_rate', 'dst_host_count', 'dst_host_srv_count',\n",
       "       'dst_host_same_srv_rate', 'dst_host_diff_srv_rate',\n",
       "       'dst_host_same_src_port_rate', 'dst_host_srv_diff_host_rate',\n",
       "       'dst_host_serror_rate', 'attack_type', 'attack', 'src_ip'],\n",
       "      dtype='object')"
      ]
     },
     "execution_count": 138,
     "metadata": {},
     "output_type": "execute_result"
    }
   ],
   "source": [
    "df2.columns"
   ]
  },
  {
   "cell_type": "code",
   "execution_count": 139,
   "id": "9f495d3a",
   "metadata": {},
   "outputs": [
    {
     "name": "stdout",
     "output_type": "stream",
     "text": [
      "hour\n",
      "0     123864\n",
      "1        588\n",
      "2        379\n",
      "3        306\n",
      "4        158\n",
      "5         82\n",
      "6         79\n",
      "7        107\n",
      "8        101\n",
      "9         11\n",
      "10       154\n",
      "11       144\n",
      "Name: attack_type, dtype: int64\n"
     ]
    }
   ],
   "source": [
    "# Convert the 'duration' column to datetime format\n",
    "df2['duration'] = pd.to_timedelta(df2['duration'], unit='s')\n",
    "# Create a new column with the hour of the day of the attack\n",
    "df2['hour'] = df2['duration'].dt.components['hours']\n",
    "# Group the attacks by hour of day and count the frequency of attacks\n",
    "hourly_attacks = df2.groupby('hour')['attack_type'].count()\n",
    "print(hourly_attacks)"
   ]
  },
  {
   "cell_type": "code",
   "execution_count": 140,
   "id": "ebfe5327",
   "metadata": {},
   "outputs": [
    {
     "data": {
      "image/png": "[encoded data removed]",
      "text/plain": [
       "<Figure size 640x480 with 1 Axes>"
      ]
     },
     "metadata": {},
     "output_type": "display_data"
    }
   ],
   "source": [
    "# Plot the hourly distribution of attacks\n",
    "hourly_attacks.plot(kind='bar')\n",
    "# Set the title and axis labels\n",
    "plt.title('Hourly Distribution of Attacks')\n",
    "plt.xlabel('Hour of Day')\n",
    "plt.ylabel('Number of Attacks')\n",
    "# Show the plot\n",
    "plt.show()"
   ]
  },
  {
   "cell_type": "markdown",
   "id": "7cee70d1",
   "metadata": {},
   "source": [
    "It seems that the majority of attacks occurred during the 0th hour, with a significant drop in frequency during the rest of the day. This could be due to a variety of reasons, such as attackers targeting systems during periods of low activity, or attackers based in different time zones"
   ]
  },
  {
   "cell_type": "markdown",
   "id": "41a0e2fc",
   "metadata": {},
   "source": [
    "# Look for any unusual or unexpected behavior in the network traffic associated with these attacks."
   ]
  },
  {
   "cell_type": "code",
   "execution_count": 141,
   "id": "1d6b159e",
   "metadata": {},
   "outputs": [
    {
     "data": {
      "image/png": "[encoded data removed]",
      "text/plain": [
       "<Figure size 640x480 with 1 Axes>"
      ]
     },
     "metadata": {},
     "output_type": "display_data"
    }
   ],
   "source": [
    "import matplotlib.pyplot as plt\n",
    "\n",
    "# Count the number of attacks by protocol type\n",
    "protocol_counts = df2['protocol_type'].value_counts()\n",
    "\n",
    "# Create a bar plot of protocol type counts\n",
    "plt.bar(protocol_counts.index, protocol_counts.values)\n",
    "plt.title('Distribution of Protocol Types')\n",
    "plt.xlabel('Protocol Type')\n",
    "plt.ylabel('Count')\n",
    "plt.show()"
   ]
  },
  {
   "cell_type": "code",
   "execution_count": 142,
   "id": "ed31358d",
   "metadata": {},
   "outputs": [
    {
     "data": {
      "image/png": "[encoded data removed]",
      "text/plain": [
       "<Figure size 1200x600 with 1 Axes>"
      ]
     },
     "metadata": {},
     "output_type": "display_data"
    }
   ],
   "source": [
    "# Count the number of attacks by service\n",
    "service_counts = df2['service'].value_counts()\n",
    "# Create a bar plot of service counts\n",
    "plt.figure(figsize=(12,6))\n",
    "plt.bar(service_counts.index, service_counts.values)\n",
    "plt.title('Distribution of Services')\n",
    "plt.xlabel('Service', fontsize=12)\n",
    "plt.ylabel('Count')\n",
    "plt.xticks(rotation=45, ha='right', fontsize=10)\n",
    "plt.tight_layout()\n",
    "\n",
    "plt.show()"
   ]
  },
  {
   "cell_type": "markdown",
   "id": "3b0573e3",
   "metadata": {},
   "source": [
    "It appears that the HTTP service had the highest number of attacks, with over 40,000 attacks detected in the dataset. This could be due to a variety of reasons, such as HTTP being a widely-used protocol that is more exposed to attacks, or HTTP-based attacks being easier to execute than attacks against other services. It would be helpful to look at the specific types of attacks being launched against the HTTP service to gain a better understanding of the nature of the attacks."
   ]
  },
  {
   "cell_type": "code",
   "execution_count": 143,
   "id": "8200f711",
   "metadata": {},
   "outputs": [
    {
     "data": {
      "text/html": [
       "<div>\n",
       "<style scoped>\n",
       "    .dataframe tbody tr th:only-of-type {\n",
       "        vertical-align: middle;\n",
       "    }\n",
       "\n",
       "    .dataframe tbody tr th {\n",
       "        vertical-align: top;\n",
       "    }\n",
       "\n",
       "    .dataframe thead th {\n",
       "        text-align: right;\n",
       "    }\n",
       "</style>\n",
       "<table border=\"1\" class=\"dataframe\">\n",
       "  <thead>\n",
       "    <tr style=\"text-align: right;\">\n",
       "      <th></th>\n",
       "      <th>duration</th>\n",
       "      <th>protocol_type</th>\n",
       "      <th>service</th>\n",
       "      <th>flag</th>\n",
       "      <th>src_bytes</th>\n",
       "      <th>dst_bytes</th>\n",
       "      <th>logged_in</th>\n",
       "      <th>num_file_creations</th>\n",
       "      <th>num_shells</th>\n",
       "      <th>count</th>\n",
       "      <th>...</th>\n",
       "      <th>dst_host_srv_count</th>\n",
       "      <th>dst_host_same_srv_rate</th>\n",
       "      <th>dst_host_diff_srv_rate</th>\n",
       "      <th>dst_host_same_src_port_rate</th>\n",
       "      <th>dst_host_srv_diff_host_rate</th>\n",
       "      <th>dst_host_serror_rate</th>\n",
       "      <th>attack_type</th>\n",
       "      <th>attack</th>\n",
       "      <th>src_ip</th>\n",
       "      <th>hour</th>\n",
       "    </tr>\n",
       "  </thead>\n",
       "  <tbody>\n",
       "    <tr>\n",
       "      <th>0</th>\n",
       "      <td>0 days</td>\n",
       "      <td>tcp</td>\n",
       "      <td>ftp_data</td>\n",
       "      <td>SF</td>\n",
       "      <td>491</td>\n",
       "      <td>0</td>\n",
       "      <td>0</td>\n",
       "      <td>0</td>\n",
       "      <td>0</td>\n",
       "      <td>2</td>\n",
       "      <td>...</td>\n",
       "      <td>25</td>\n",
       "      <td>0.17</td>\n",
       "      <td>0.03</td>\n",
       "      <td>0.17</td>\n",
       "      <td>0.00</td>\n",
       "      <td>0.00</td>\n",
       "      <td>normal</td>\n",
       "      <td>0</td>\n",
       "      <td>None</td>\n",
       "      <td>0</td>\n",
       "    </tr>\n",
       "    <tr>\n",
       "      <th>1</th>\n",
       "      <td>0 days</td>\n",
       "      <td>udp</td>\n",
       "      <td>other</td>\n",
       "      <td>SF</td>\n",
       "      <td>146</td>\n",
       "      <td>0</td>\n",
       "      <td>0</td>\n",
       "      <td>0</td>\n",
       "      <td>0</td>\n",
       "      <td>13</td>\n",
       "      <td>...</td>\n",
       "      <td>1</td>\n",
       "      <td>0.00</td>\n",
       "      <td>0.60</td>\n",
       "      <td>0.88</td>\n",
       "      <td>0.00</td>\n",
       "      <td>0.00</td>\n",
       "      <td>normal</td>\n",
       "      <td>0</td>\n",
       "      <td>None</td>\n",
       "      <td>0</td>\n",
       "    </tr>\n",
       "    <tr>\n",
       "      <th>2</th>\n",
       "      <td>0 days</td>\n",
       "      <td>tcp</td>\n",
       "      <td>private</td>\n",
       "      <td>S0</td>\n",
       "      <td>0</td>\n",
       "      <td>0</td>\n",
       "      <td>0</td>\n",
       "      <td>0</td>\n",
       "      <td>0</td>\n",
       "      <td>123</td>\n",
       "      <td>...</td>\n",
       "      <td>26</td>\n",
       "      <td>0.10</td>\n",
       "      <td>0.05</td>\n",
       "      <td>0.00</td>\n",
       "      <td>0.00</td>\n",
       "      <td>1.00</td>\n",
       "      <td>neptune</td>\n",
       "      <td>0</td>\n",
       "      <td>None</td>\n",
       "      <td>0</td>\n",
       "    </tr>\n",
       "    <tr>\n",
       "      <th>3</th>\n",
       "      <td>0 days</td>\n",
       "      <td>tcp</td>\n",
       "      <td>http</td>\n",
       "      <td>SF</td>\n",
       "      <td>232</td>\n",
       "      <td>8153</td>\n",
       "      <td>1</td>\n",
       "      <td>0</td>\n",
       "      <td>0</td>\n",
       "      <td>5</td>\n",
       "      <td>...</td>\n",
       "      <td>255</td>\n",
       "      <td>1.00</td>\n",
       "      <td>0.00</td>\n",
       "      <td>0.03</td>\n",
       "      <td>0.04</td>\n",
       "      <td>0.03</td>\n",
       "      <td>normal</td>\n",
       "      <td>0</td>\n",
       "      <td>None</td>\n",
       "      <td>0</td>\n",
       "    </tr>\n",
       "    <tr>\n",
       "      <th>4</th>\n",
       "      <td>0 days</td>\n",
       "      <td>tcp</td>\n",
       "      <td>http</td>\n",
       "      <td>SF</td>\n",
       "      <td>199</td>\n",
       "      <td>420</td>\n",
       "      <td>1</td>\n",
       "      <td>0</td>\n",
       "      <td>0</td>\n",
       "      <td>30</td>\n",
       "      <td>...</td>\n",
       "      <td>255</td>\n",
       "      <td>1.00</td>\n",
       "      <td>0.00</td>\n",
       "      <td>0.00</td>\n",
       "      <td>0.00</td>\n",
       "      <td>0.00</td>\n",
       "      <td>normal</td>\n",
       "      <td>0</td>\n",
       "      <td>None</td>\n",
       "      <td>0</td>\n",
       "    </tr>\n",
       "  </tbody>\n",
       "</table>\n",
       "<p>5 rows × 26 columns</p>\n",
       "</div>"
      ],
      "text/plain": [
       "  duration protocol_type   service flag  src_bytes  dst_bytes  logged_in  \\\n",
       "0   0 days           tcp  ftp_data   SF        491          0          0   \n",
       "1   0 days           udp     other   SF        146          0          0   \n",
       "2   0 days           tcp   private   S0          0          0          0   \n",
       "3   0 days           tcp      http   SF        232       8153          1   \n",
       "4   0 days           tcp      http   SF        199        420          1   \n",
       "\n",
       "   num_file_creations  num_shells  count  ...  dst_host_srv_count  \\\n",
       "0                   0           0      2  ...                  25   \n",
       "1                   0           0     13  ...                   1   \n",
       "2                   0           0    123  ...                  26   \n",
       "3                   0           0      5  ...                 255   \n",
       "4                   0           0     30  ...                 255   \n",
       "\n",
       "   dst_host_same_srv_rate  dst_host_diff_srv_rate  \\\n",
       "0                    0.17                    0.03   \n",
       "1                    0.00                    0.60   \n",
       "2                    0.10                    0.05   \n",
       "3                    1.00                    0.00   \n",
       "4                    1.00                    0.00   \n",
       "\n",
       "   dst_host_same_src_port_rate  dst_host_srv_diff_host_rate  \\\n",
       "0                         0.17                         0.00   \n",
       "1                         0.88                         0.00   \n",
       "2                         0.00                         0.00   \n",
       "3                         0.03                         0.04   \n",
       "4                         0.00                         0.00   \n",
       "\n",
       "   dst_host_serror_rate  attack_type  attack  src_ip  hour  \n",
       "0                  0.00       normal       0    None     0  \n",
       "1                  0.00       normal       0    None     0  \n",
       "2                  1.00      neptune       0    None     0  \n",
       "3                  0.03       normal       0    None     0  \n",
       "4                  0.00       normal       0    None     0  \n",
       "\n",
       "[5 rows x 26 columns]"
      ]
     },
     "execution_count": 143,
     "metadata": {},
     "output_type": "execute_result"
    }
   ],
   "source": [
    "df2.head()"
   ]
  },
  {
   "cell_type": "markdown",
   "id": "ed9c6b78",
   "metadata": {},
   "source": [
    "# Surfing for Outliers"
   ]
  },
  {
   "cell_type": "code",
   "execution_count": 144,
   "id": "eac9d0df",
   "metadata": {},
   "outputs": [
    {
     "data": {
      "text/plain": [
       "<AxesSubplot:xlabel='src_bytes'>"
      ]
     },
     "execution_count": 144,
     "metadata": {},
     "output_type": "execute_result"
    },
    {
     "data": {
      "image/png": "[encoded data removed]",
      "text/plain": [
       "<Figure size 640x480 with 1 Axes>"
      ]
     },
     "metadata": {},
     "output_type": "display_data"
    }
   ],
   "source": [
    "# Create a box plot of src_bytes\n",
    "sns.boxplot(x='src_bytes', data=df2)"
   ]
  },
  {
   "cell_type": "code",
   "execution_count": 145,
   "id": "d8bf3621",
   "metadata": {},
   "outputs": [],
   "source": [
    "import pandas as pd\n",
    "\n",
    "# Define the column(s) to remove outliers from\n",
    "column_name = 'src_bytes'\n",
    "\n",
    "# Calculate the IQR for the column\n",
    "Q1 = df2[column_name].quantile(0.25)\n",
    "Q3 = df2[column_name].quantile(0.75)\n",
    "IQR = Q3 - Q1\n",
    "\n",
    "# Define the upper and lower bounds of the outliers\n",
    "upper_bound = Q3 + 1.5 * IQR\n",
    "lower_bound = Q1 - 1.5 * IQR\n",
    "\n",
    "# Remove the outliers from the dataframe\n",
    "df2 = df2[(df2[column_name] > lower_bound) & (df2[column_name] < upper_bound)]"
   ]
  },
  {
   "cell_type": "code",
   "execution_count": 146,
   "id": "c0881e5d",
   "metadata": {},
   "outputs": [
    {
     "data": {
      "text/plain": [
       "<AxesSubplot:xlabel='src_bytes'>"
      ]
     },
     "execution_count": 146,
     "metadata": {},
     "output_type": "execute_result"
    },
    {
     "data": {
      "image/png": "[encoded data removed]",
      "text/plain": [
       "<Figure size 640x480 with 1 Axes>"
      ]
     },
     "metadata": {},
     "output_type": "display_data"
    }
   ],
   "source": [
    "sns.boxplot(x='src_bytes', data=df2)"
   ]
  },
  {
   "cell_type": "code",
   "execution_count": null,
   "id": "71be87d9",
   "metadata": {},
   "outputs": [],
   "source": []
  },
  {
   "cell_type": "markdown",
   "id": "894974a6",
   "metadata": {},
   "source": [
    "The z-score method is a common way to detect and remove outliers in a dataset.\n",
    "\n",
    "This approach is more efficient than manually identifying and removing outliers, especially when dealing with large datasets."
   ]
  },
  {
   "cell_type": "code",
   "execution_count": 147,
   "id": "38fdfa27",
   "metadata": {},
   "outputs": [
    {
     "name": "stderr",
     "output_type": "stream",
     "text": [
      "C:\\Users\\joela\\AppData\\Local\\Temp\\ipykernel_16648\\1637263989.py:4: SettingWithCopyWarning: \n",
      "A value is trying to be set on a copy of a slice from a DataFrame.\n",
      "Try using .loc[row_indexer,col_indexer] = value instead\n",
      "\n",
      "See the caveats in the documentation: https://pandas.pydata.org/pandas-docs/stable/user_guide/indexing.html#returning-a-view-versus-a-copy\n",
      "  df2['duration'] = pd.to_timedelta(df2['duration'])\n",
      "C:\\Users\\joela\\AppData\\Local\\Temp\\ipykernel_16648\\1637263989.py:5: SettingWithCopyWarning: \n",
      "A value is trying to be set on a copy of a slice from a DataFrame.\n",
      "Try using .loc[row_indexer,col_indexer] = value instead\n",
      "\n",
      "See the caveats in the documentation: https://pandas.pydata.org/pandas-docs/stable/user_guide/indexing.html#returning-a-view-versus-a-copy\n",
      "  df2['duration'] = df2['duration'].dt.total_seconds().astype(float)\n"
     ]
    }
   ],
   "source": [
    "from scipy import stats\n",
    "# Converts the duration column to a Timedelta datatype using pd.to_timedelta().\n",
    "# Converts the duration column to the total number of seconds and converts the datatype to float using .dt.total_seconds().astype(float).\n",
    "df2['duration'] = pd.to_timedelta(df2['duration'])\n",
    "df2['duration'] = df2['duration'].dt.total_seconds().astype(float)\n",
    "\n",
    "# Remove the outliers in the numerical columns using z-score method\n",
    "z_scores = stats.zscore(df2[num_cols], nan_policy='omit')\n",
    "abs_z_scores = np.abs(z_scores)\n",
    "filtered_entries = (abs_z_scores < outlier_threshold).all(axis=1)\n",
    "df2 = df2[filtered_entries]"
   ]
  },
  {
   "cell_type": "code",
   "execution_count": 148,
   "id": "2a34fb1c",
   "metadata": {},
   "outputs": [
    {
     "data": {
      "text/html": [
       "<div>\n",
       "<style scoped>\n",
       "    .dataframe tbody tr th:only-of-type {\n",
       "        vertical-align: middle;\n",
       "    }\n",
       "\n",
       "    .dataframe tbody tr th {\n",
       "        vertical-align: top;\n",
       "    }\n",
       "\n",
       "    .dataframe thead th {\n",
       "        text-align: right;\n",
       "    }\n",
       "</style>\n",
       "<table border=\"1\" class=\"dataframe\">\n",
       "  <thead>\n",
       "    <tr style=\"text-align: right;\">\n",
       "      <th></th>\n",
       "      <th>duration</th>\n",
       "      <th>protocol_type</th>\n",
       "      <th>service</th>\n",
       "      <th>flag</th>\n",
       "      <th>src_bytes</th>\n",
       "      <th>dst_bytes</th>\n",
       "      <th>logged_in</th>\n",
       "      <th>num_file_creations</th>\n",
       "      <th>num_shells</th>\n",
       "      <th>count</th>\n",
       "      <th>...</th>\n",
       "      <th>dst_host_srv_count</th>\n",
       "      <th>dst_host_same_srv_rate</th>\n",
       "      <th>dst_host_diff_srv_rate</th>\n",
       "      <th>dst_host_same_src_port_rate</th>\n",
       "      <th>dst_host_srv_diff_host_rate</th>\n",
       "      <th>dst_host_serror_rate</th>\n",
       "      <th>attack_type</th>\n",
       "      <th>attack</th>\n",
       "      <th>src_ip</th>\n",
       "      <th>hour</th>\n",
       "    </tr>\n",
       "  </thead>\n",
       "  <tbody>\n",
       "    <tr>\n",
       "      <th>0</th>\n",
       "      <td>0.0</td>\n",
       "      <td>tcp</td>\n",
       "      <td>ftp_data</td>\n",
       "      <td>SF</td>\n",
       "      <td>491</td>\n",
       "      <td>0</td>\n",
       "      <td>0</td>\n",
       "      <td>0</td>\n",
       "      <td>0</td>\n",
       "      <td>2</td>\n",
       "      <td>...</td>\n",
       "      <td>25</td>\n",
       "      <td>0.17</td>\n",
       "      <td>0.03</td>\n",
       "      <td>0.17</td>\n",
       "      <td>0.00</td>\n",
       "      <td>0.00</td>\n",
       "      <td>normal</td>\n",
       "      <td>0</td>\n",
       "      <td>None</td>\n",
       "      <td>0</td>\n",
       "    </tr>\n",
       "    <tr>\n",
       "      <th>1</th>\n",
       "      <td>0.0</td>\n",
       "      <td>udp</td>\n",
       "      <td>other</td>\n",
       "      <td>SF</td>\n",
       "      <td>146</td>\n",
       "      <td>0</td>\n",
       "      <td>0</td>\n",
       "      <td>0</td>\n",
       "      <td>0</td>\n",
       "      <td>13</td>\n",
       "      <td>...</td>\n",
       "      <td>1</td>\n",
       "      <td>0.00</td>\n",
       "      <td>0.60</td>\n",
       "      <td>0.88</td>\n",
       "      <td>0.00</td>\n",
       "      <td>0.00</td>\n",
       "      <td>normal</td>\n",
       "      <td>0</td>\n",
       "      <td>None</td>\n",
       "      <td>0</td>\n",
       "    </tr>\n",
       "    <tr>\n",
       "      <th>2</th>\n",
       "      <td>0.0</td>\n",
       "      <td>tcp</td>\n",
       "      <td>private</td>\n",
       "      <td>S0</td>\n",
       "      <td>0</td>\n",
       "      <td>0</td>\n",
       "      <td>0</td>\n",
       "      <td>0</td>\n",
       "      <td>0</td>\n",
       "      <td>123</td>\n",
       "      <td>...</td>\n",
       "      <td>26</td>\n",
       "      <td>0.10</td>\n",
       "      <td>0.05</td>\n",
       "      <td>0.00</td>\n",
       "      <td>0.00</td>\n",
       "      <td>1.00</td>\n",
       "      <td>neptune</td>\n",
       "      <td>0</td>\n",
       "      <td>None</td>\n",
       "      <td>0</td>\n",
       "    </tr>\n",
       "    <tr>\n",
       "      <th>3</th>\n",
       "      <td>0.0</td>\n",
       "      <td>tcp</td>\n",
       "      <td>http</td>\n",
       "      <td>SF</td>\n",
       "      <td>232</td>\n",
       "      <td>8153</td>\n",
       "      <td>1</td>\n",
       "      <td>0</td>\n",
       "      <td>0</td>\n",
       "      <td>5</td>\n",
       "      <td>...</td>\n",
       "      <td>255</td>\n",
       "      <td>1.00</td>\n",
       "      <td>0.00</td>\n",
       "      <td>0.03</td>\n",
       "      <td>0.04</td>\n",
       "      <td>0.03</td>\n",
       "      <td>normal</td>\n",
       "      <td>0</td>\n",
       "      <td>None</td>\n",
       "      <td>0</td>\n",
       "    </tr>\n",
       "    <tr>\n",
       "      <th>4</th>\n",
       "      <td>0.0</td>\n",
       "      <td>tcp</td>\n",
       "      <td>http</td>\n",
       "      <td>SF</td>\n",
       "      <td>199</td>\n",
       "      <td>420</td>\n",
       "      <td>1</td>\n",
       "      <td>0</td>\n",
       "      <td>0</td>\n",
       "      <td>30</td>\n",
       "      <td>...</td>\n",
       "      <td>255</td>\n",
       "      <td>1.00</td>\n",
       "      <td>0.00</td>\n",
       "      <td>0.00</td>\n",
       "      <td>0.00</td>\n",
       "      <td>0.00</td>\n",
       "      <td>normal</td>\n",
       "      <td>0</td>\n",
       "      <td>None</td>\n",
       "      <td>0</td>\n",
       "    </tr>\n",
       "  </tbody>\n",
       "</table>\n",
       "<p>5 rows × 26 columns</p>\n",
       "</div>"
      ],
      "text/plain": [
       "   duration protocol_type   service flag  src_bytes  dst_bytes  logged_in  \\\n",
       "0       0.0           tcp  ftp_data   SF        491          0          0   \n",
       "1       0.0           udp     other   SF        146          0          0   \n",
       "2       0.0           tcp   private   S0          0          0          0   \n",
       "3       0.0           tcp      http   SF        232       8153          1   \n",
       "4       0.0           tcp      http   SF        199        420          1   \n",
       "\n",
       "   num_file_creations  num_shells  count  ...  dst_host_srv_count  \\\n",
       "0                   0           0      2  ...                  25   \n",
       "1                   0           0     13  ...                   1   \n",
       "2                   0           0    123  ...                  26   \n",
       "3                   0           0      5  ...                 255   \n",
       "4                   0           0     30  ...                 255   \n",
       "\n",
       "   dst_host_same_srv_rate  dst_host_diff_srv_rate  \\\n",
       "0                    0.17                    0.03   \n",
       "1                    0.00                    0.60   \n",
       "2                    0.10                    0.05   \n",
       "3                    1.00                    0.00   \n",
       "4                    1.00                    0.00   \n",
       "\n",
       "   dst_host_same_src_port_rate  dst_host_srv_diff_host_rate  \\\n",
       "0                         0.17                         0.00   \n",
       "1                         0.88                         0.00   \n",
       "2                         0.00                         0.00   \n",
       "3                         0.03                         0.04   \n",
       "4                         0.00                         0.00   \n",
       "\n",
       "   dst_host_serror_rate  attack_type  attack  src_ip  hour  \n",
       "0                  0.00       normal       0    None     0  \n",
       "1                  0.00       normal       0    None     0  \n",
       "2                  1.00      neptune       0    None     0  \n",
       "3                  0.03       normal       0    None     0  \n",
       "4                  0.00       normal       0    None     0  \n",
       "\n",
       "[5 rows x 26 columns]"
      ]
     },
     "execution_count": 148,
     "metadata": {},
     "output_type": "execute_result"
    }
   ],
   "source": [
    "df2.head()"
   ]
  },
  {
   "cell_type": "code",
   "execution_count": 65,
   "id": "2206cdfe",
   "metadata": {},
   "outputs": [
    {
     "data": {
      "text/plain": [
       "duration                       float64\n",
       "protocol_type                   object\n",
       "service                         object\n",
       "flag                            object\n",
       "src_bytes                        int64\n",
       "dst_bytes                        int64\n",
       "logged_in                        int64\n",
       "num_file_creations               int64\n",
       "num_shells                       int64\n",
       "count                            int64\n",
       "srv_count                        int64\n",
       "serror_rate                    float64\n",
       "srv_serror_rate                float64\n",
       "same_srv_rate                  float64\n",
       "diff_srv_rate                  float64\n",
       "dst_host_count                   int64\n",
       "dst_host_srv_count               int64\n",
       "dst_host_same_srv_rate         float64\n",
       "dst_host_diff_srv_rate         float64\n",
       "dst_host_same_src_port_rate    float64\n",
       "dst_host_srv_diff_host_rate    float64\n",
       "dst_host_serror_rate           float64\n",
       "attack_type                     object\n",
       "attack                           int64\n",
       "src_ip                          object\n",
       "hour                             int64\n",
       "dtype: object"
      ]
     },
     "execution_count": 65,
     "metadata": {},
     "output_type": "execute_result"
    }
   ],
   "source": [
    "df2.dtypes"
   ]
  },
  {
   "cell_type": "code",
   "execution_count": 66,
   "id": "61c2a70d",
   "metadata": {},
   "outputs": [],
   "source": [
    "# Define the z-score outlier threshold\n",
    "outlier_threshold = 3\n",
    "# Calculate z-scores for all numerical columns\n",
    "num_cols = df2.select_dtypes(include=np.number).columns\n",
    "z_scores = np.abs(stats.zscore(df2[num_cols]))\n",
    "# Filter out the rows with at least one z-score greater than the threshold\n",
    "df2_no_outliers = df2[(z_scores < outlier_threshold).all(axis=1)]"
   ]
  },
  {
   "cell_type": "markdown",
   "id": "32889de9",
   "metadata": {},
   "source": [
    "No-output means there are no outliers present in the dataset after performing the z-score method and filtering out the rows with z-scores greater than the outlier threshold."
   ]
  },
  {
   "cell_type": "code",
   "execution_count": 67,
   "id": "4a2b6d92",
   "metadata": {},
   "outputs": [
    {
     "data": {
      "text/plain": [
       "Index(['duration', 'protocol_type', 'service', 'flag', 'src_bytes',\n",
       "       'dst_bytes', 'logged_in', 'num_file_creations', 'num_shells', 'count',\n",
       "       'srv_count', 'serror_rate', 'srv_serror_rate', 'same_srv_rate',\n",
       "       'diff_srv_rate', 'dst_host_count', 'dst_host_srv_count',\n",
       "       'dst_host_same_srv_rate', 'dst_host_diff_srv_rate',\n",
       "       'dst_host_same_src_port_rate', 'dst_host_srv_diff_host_rate',\n",
       "       'dst_host_serror_rate', 'attack_type', 'attack', 'src_ip', 'hour'],\n",
       "      dtype='object')"
      ]
     },
     "execution_count": 67,
     "metadata": {},
     "output_type": "execute_result"
    }
   ],
   "source": [
    "df2.columns"
   ]
  },
  {
   "cell_type": "code",
   "execution_count": 68,
   "id": "e65f4e43",
   "metadata": {},
   "outputs": [
    {
     "data": {
      "text/plain": [
       "duration                       float64\n",
       "protocol_type                   object\n",
       "service                         object\n",
       "flag                            object\n",
       "src_bytes                        int64\n",
       "dst_bytes                        int64\n",
       "logged_in                        int64\n",
       "num_file_creations               int64\n",
       "num_shells                       int64\n",
       "count                            int64\n",
       "srv_count                        int64\n",
       "serror_rate                    float64\n",
       "srv_serror_rate                float64\n",
       "same_srv_rate                  float64\n",
       "diff_srv_rate                  float64\n",
       "dst_host_count                   int64\n",
       "dst_host_srv_count               int64\n",
       "dst_host_same_srv_rate         float64\n",
       "dst_host_diff_srv_rate         float64\n",
       "dst_host_same_src_port_rate    float64\n",
       "dst_host_srv_diff_host_rate    float64\n",
       "dst_host_serror_rate           float64\n",
       "attack_type                     object\n",
       "attack                           int64\n",
       "src_ip                          object\n",
       "hour                             int64\n",
       "dtype: object"
      ]
     },
     "execution_count": 68,
     "metadata": {},
     "output_type": "execute_result"
    }
   ],
   "source": [
    "df2.dtypes"
   ]
  },
  {
   "cell_type": "code",
   "execution_count": null,
   "id": "39b085cb",
   "metadata": {},
   "outputs": [],
   "source": []
  },
  {
   "cell_type": "code",
   "execution_count": 69,
   "id": "c9f659a3",
   "metadata": {},
   "outputs": [
    {
     "ename": "ValueError",
     "evalue": "Shape of passed values is (112126, 25), indices imply (112126, 26)",
     "output_type": "error",
     "traceback": [
      "\u001b[1;31m---------------------------------------------------------------------------\u001b[0m",
      "\u001b[1;31mValueError\u001b[0m                                Traceback (most recent call last)",
      "\u001b[1;32m~\\AppData\\Local\\Temp\\ipykernel_16648\\150613525.py\u001b[0m in \u001b[0;36m<module>\u001b[1;34m\u001b[0m\n\u001b[0;32m     24\u001b[0m \u001b[1;33m\u001b[0m\u001b[0m\n\u001b[0;32m     25\u001b[0m \u001b[1;31m# create a new DataFrame with the encoded and scaled variables\u001b[0m\u001b[1;33m\u001b[0m\u001b[1;33m\u001b[0m\u001b[0m\n\u001b[1;32m---> 26\u001b[1;33m \u001b[0mdf2_cleaned\u001b[0m \u001b[1;33m=\u001b[0m \u001b[0mpd\u001b[0m\u001b[1;33m.\u001b[0m\u001b[0mDataFrame\u001b[0m\u001b[1;33m(\u001b[0m\u001b[0mdf2_scaled\u001b[0m\u001b[1;33m,\u001b[0m \u001b[0mcolumns\u001b[0m\u001b[1;33m=\u001b[0m\u001b[0mdf2\u001b[0m\u001b[1;33m.\u001b[0m\u001b[0mcolumns\u001b[0m\u001b[1;33m)\u001b[0m\u001b[1;33m\u001b[0m\u001b[1;33m\u001b[0m\u001b[0m\n\u001b[0m",
      "\u001b[1;32m~\\anaconda3\\lib\\site-packages\\pandas\\core\\frame.py\u001b[0m in \u001b[0;36m__init__\u001b[1;34m(self, data, index, columns, dtype, copy)\u001b[0m\n\u001b[0;32m    692\u001b[0m                 )\n\u001b[0;32m    693\u001b[0m             \u001b[1;32melse\u001b[0m\u001b[1;33m:\u001b[0m\u001b[1;33m\u001b[0m\u001b[1;33m\u001b[0m\u001b[0m\n\u001b[1;32m--> 694\u001b[1;33m                 mgr = ndarray_to_mgr(\n\u001b[0m\u001b[0;32m    695\u001b[0m                     \u001b[0mdata\u001b[0m\u001b[1;33m,\u001b[0m\u001b[1;33m\u001b[0m\u001b[1;33m\u001b[0m\u001b[0m\n\u001b[0;32m    696\u001b[0m                     \u001b[0mindex\u001b[0m\u001b[1;33m,\u001b[0m\u001b[1;33m\u001b[0m\u001b[1;33m\u001b[0m\u001b[0m\n",
      "\u001b[1;32m~\\anaconda3\\lib\\site-packages\\pandas\\core\\internals\\construction.py\u001b[0m in \u001b[0;36mndarray_to_mgr\u001b[1;34m(values, index, columns, dtype, copy, typ)\u001b[0m\n\u001b[0;32m    349\u001b[0m     )\n\u001b[0;32m    350\u001b[0m \u001b[1;33m\u001b[0m\u001b[0m\n\u001b[1;32m--> 351\u001b[1;33m     \u001b[0m_check_values_indices_shape_match\u001b[0m\u001b[1;33m(\u001b[0m\u001b[0mvalues\u001b[0m\u001b[1;33m,\u001b[0m \u001b[0mindex\u001b[0m\u001b[1;33m,\u001b[0m \u001b[0mcolumns\u001b[0m\u001b[1;33m)\u001b[0m\u001b[1;33m\u001b[0m\u001b[1;33m\u001b[0m\u001b[0m\n\u001b[0m\u001b[0;32m    352\u001b[0m \u001b[1;33m\u001b[0m\u001b[0m\n\u001b[0;32m    353\u001b[0m     \u001b[1;32mif\u001b[0m \u001b[0mtyp\u001b[0m \u001b[1;33m==\u001b[0m \u001b[1;34m\"array\"\u001b[0m\u001b[1;33m:\u001b[0m\u001b[1;33m\u001b[0m\u001b[1;33m\u001b[0m\u001b[0m\n",
      "\u001b[1;32m~\\anaconda3\\lib\\site-packages\\pandas\\core\\internals\\construction.py\u001b[0m in \u001b[0;36m_check_values_indices_shape_match\u001b[1;34m(values, index, columns)\u001b[0m\n\u001b[0;32m    420\u001b[0m         \u001b[0mpassed\u001b[0m \u001b[1;33m=\u001b[0m \u001b[0mvalues\u001b[0m\u001b[1;33m.\u001b[0m\u001b[0mshape\u001b[0m\u001b[1;33m\u001b[0m\u001b[1;33m\u001b[0m\u001b[0m\n\u001b[0;32m    421\u001b[0m         \u001b[0mimplied\u001b[0m \u001b[1;33m=\u001b[0m \u001b[1;33m(\u001b[0m\u001b[0mlen\u001b[0m\u001b[1;33m(\u001b[0m\u001b[0mindex\u001b[0m\u001b[1;33m)\u001b[0m\u001b[1;33m,\u001b[0m \u001b[0mlen\u001b[0m\u001b[1;33m(\u001b[0m\u001b[0mcolumns\u001b[0m\u001b[1;33m)\u001b[0m\u001b[1;33m)\u001b[0m\u001b[1;33m\u001b[0m\u001b[1;33m\u001b[0m\u001b[0m\n\u001b[1;32m--> 422\u001b[1;33m         \u001b[1;32mraise\u001b[0m \u001b[0mValueError\u001b[0m\u001b[1;33m(\u001b[0m\u001b[1;34mf\"Shape of passed values is {passed}, indices imply {implied}\"\u001b[0m\u001b[1;33m)\u001b[0m\u001b[1;33m\u001b[0m\u001b[1;33m\u001b[0m\u001b[0m\n\u001b[0m\u001b[0;32m    423\u001b[0m \u001b[1;33m\u001b[0m\u001b[0m\n\u001b[0;32m    424\u001b[0m \u001b[1;33m\u001b[0m\u001b[0m\n",
      "\u001b[1;31mValueError\u001b[0m: Shape of passed values is (112126, 25), indices imply (112126, 26)"
     ]
    }
   ],
   "source": [
    "from sklearn.preprocessing import LabelEncoder, StandardScaler\n",
    "from sklearn.impute import SimpleImputer\n",
    "\n",
    "# encode categorical variables as numbers\n",
    "cat_cols = ['protocol_type', 'service', 'flag', 'attack_type']\n",
    "le = LabelEncoder()\n",
    "df2_encoded = df2.copy()\n",
    "for col in cat_cols:\n",
    "    df2_encoded[col] = le.fit_transform(df2_encoded[col])\n",
    "\n",
    "# replace missing values with column means and infinite values with a large number\n",
    "imp = SimpleImputer(strategy='mean', fill_value=1e6)\n",
    "df2_imputed = imp.fit_transform(df2_encoded)\n",
    "\n",
    "# standardize numerical variables\n",
    "num_cols = ['duration', 'src_bytes', 'dst_bytes', 'logged_in', 'num_file_creations', \n",
    "            'num_shells', 'count', 'srv_count', 'serror_rate', 'srv_serror_rate', \n",
    "            'same_srv_rate', 'diff_srv_rate', 'dst_host_count', 'dst_host_srv_count', \n",
    "            'dst_host_same_srv_rate', 'dst_host_diff_srv_rate', 'dst_host_same_src_port_rate', \n",
    "            'dst_host_srv_diff_host_rate', 'dst_host_serror_rate']\n",
    "scaler = StandardScaler()\n",
    "df2_scaled = df2_imputed.copy()\n",
    "df2_scaled[:, :-1] = scaler.fit_transform(df2_imputed[:, :-1])\n",
    "\n",
    "# create a new DataFrame with the encoded and scaled variables\n",
    "df2_cleaned = pd.DataFrame(df2_scaled, columns=df2.columns)"
   ]
  },
  {
   "cell_type": "code",
   "execution_count": null,
   "id": "e5256ef2",
   "metadata": {},
   "outputs": [],
   "source": [
    "from sklearn.preprocessing import LabelEncoder\n",
    "from sklearn.impute import SimpleImputer\n",
    "from sklearn.preprocessing import StandardScaler\n",
    "from sklearn.decomposition import PCA\n",
    "\n",
    "# separate categorical and numerical columns\n",
    "cat_cols = df2.select_dtypes(include=['object']).columns\n",
    "num_cols = df2.select_dtypes(include=['float64']).columns\n",
    "\n",
    "# label encode categorical variables\n",
    "df2_encoded = df2.copy()\n",
    "for col in cat_cols:\n",
    "    encoder = LabelEncoder()\n",
    "    df2_encoded[col] = encoder.fit_transform(df2_encoded[col].astype(str))\n",
    "\n",
    "# impute missing values\n",
    "imputer = SimpleImputer(strategy='most_frequent')\n",
    "df2_imputed = pd.DataFrame(imputer.fit_transform(df2_encoded), columns=df2_encoded.columns)\n",
    "\n",
    "# standardize numerical variables\n",
    "scaler = StandardScaler()\n",
    "df2_imputed[num_cols] = scaler.fit_transform(df2_imputed[num_cols])\n",
    "\n",
    "# apply PCA to entire dataset\n",
    "pca = PCA()\n",
    "pca.fit(df2_imputed)"
   ]
  },
  {
   "cell_type": "code",
   "execution_count": null,
   "id": "cca0672e",
   "metadata": {},
   "outputs": [],
   "source": [
    "# Fit PCA\n",
    "pca = PCA(n_components=10)\n",
    "principal_components = pca.fit_transform(df2_scaled)\n",
    "\n",
    "# Get explained variance ratio\n",
    "explained_variance_ratio = pca.explained_variance_ratio_\n",
    "\n",
    "# Plot scree plot\n",
    "plt.plot(range(1, 11), explained_variance_ratio, 'bo-', linewidth=2)\n",
    "plt.title('Scree Plot')\n",
    "plt.xlabel('Principal Component')\n",
    "plt.ylabel('Explained Variance Ratio')\n",
    "plt.show()"
   ]
  },
  {
   "cell_type": "markdown",
   "id": "18105312",
   "metadata": {},
   "source": [
    "From the plot, we can see that the first two principal components capture a significant amount of variance, and the rest of the principal components capture relatively smaller amounts of variance. Therefore, we can select the first two principal components as the most important components for our analysis, as they capture the most significant amount of variance.\n"
   ]
  },
  {
   "cell_type": "code",
   "execution_count": null,
   "id": "6837fedc",
   "metadata": {},
   "outputs": [],
   "source": [
    "import pandas as pd\n",
    "# check data types of all columns\n",
    "print(df2.dtypes)\n",
    "# Convert non-numeric columns to numeric\n",
    "df2['protocol_type'] = pd.factorize(df2['protocol_type'])[0]\n",
    "df2['service'] = pd.factorize(df2['service'])[0]\n",
    "df2['flag'] = pd.factorize(df2['flag'])[0]\n",
    "# Check data types again\n",
    "print(df2.dtypes)"
   ]
  },
  {
   "cell_type": "code",
   "execution_count": null,
   "id": "8cf70729",
   "metadata": {},
   "outputs": [],
   "source": [
    "# check for missing values in df2\n",
    "print(df2.isnull().sum())\n",
    "# check for finite values in df2\n",
    "print(np.isfinite(df2).sum())\n",
    "# check for values larger than float64 range\n",
    "print(np.where(np.abs(df2) > np.finfo(np.float64).max))"
   ]
  },
  {
   "cell_type": "code",
   "execution_count": 105,
   "id": "15c6cd85",
   "metadata": {},
   "outputs": [],
   "source": [
    "#impute missing values with column median\n",
    "df_filled = df2.fillna(df2.median())"
   ]
  },
  {
   "cell_type": "code",
   "execution_count": 106,
   "id": "32d083b2",
   "metadata": {},
   "outputs": [],
   "source": [
    "#select only numeric columns\n",
    "df_numeric = df2.select_dtypes(include=[np.number])\n",
    "\n",
    "#impute missing values with column median\n",
    "df_filled = df_numeric.fillna(df_numeric.median())"
   ]
  },
  {
   "cell_type": "code",
   "execution_count": 101,
   "id": "a2e9f4fb",
   "metadata": {},
   "outputs": [],
   "source": [
    "from sklearn.decomposition import PCA\n",
    "# Initialize PCA object with 8 principal components\n",
    "pca = PCA(n_components=8)\n",
    "# Fit and transform the data\n",
    "df2_pca = pca.fit_transform(df2_scaled)\n",
    "# Convert the transformed data back to a dataframe\n",
    "df2_pca = pd.DataFrame(df2_pca, columns=['PC1', 'PC2', 'PC3', 'PC4', 'PC5', 'PC6', 'PC7', 'PC8'])"
   ]
  },
  {
   "cell_type": "code",
   "execution_count": 102,
   "id": "66352d77",
   "metadata": {},
   "outputs": [],
   "source": [
    "from sklearn.decomposition import PCA\n",
    "\n",
    "pca = PCA(n_components=8)\n",
    "pca.fit(df2_scaled)\n",
    "df2_pca = pca.transform(df2_scaled)"
   ]
  },
  {
   "cell_type": "code",
   "execution_count": 103,
   "id": "9c902fb0",
   "metadata": {},
   "outputs": [
    {
     "name": "stdout",
     "output_type": "stream",
     "text": [
      "(112126, 8)\n"
     ]
    }
   ],
   "source": [
    "from sklearn.decomposition import PCA\n",
    "\n",
    "pca = PCA(n_components=8)\n",
    "df2_pca = pca.fit_transform(df2_scaled)\n",
    "\n",
    "print(df2_pca.shape)"
   ]
  },
  {
   "cell_type": "markdown",
   "id": "d996dbc4",
   "metadata": {},
   "source": [
    "# Model Building"
   ]
  },
  {
   "cell_type": "markdown",
   "id": "bcce95a3",
   "metadata": {},
   "source": [
    " 20% of the data is used for testing, and the remaining 80% is used for training"
   ]
  },
  {
   "cell_type": "code",
   "execution_count": 107,
   "id": "dddb0448",
   "metadata": {},
   "outputs": [
    {
     "ename": "KeyError",
     "evalue": "'attack_type'",
     "output_type": "error",
     "traceback": [
      "\u001b[1;31m---------------------------------------------------------------------------\u001b[0m",
      "\u001b[1;31mKeyError\u001b[0m                                  Traceback (most recent call last)",
      "\u001b[1;32m~\\anaconda3\\lib\\site-packages\\pandas\\core\\indexes\\base.py\u001b[0m in \u001b[0;36mget_loc\u001b[1;34m(self, key, method, tolerance)\u001b[0m\n\u001b[0;32m   3628\u001b[0m             \u001b[1;32mtry\u001b[0m\u001b[1;33m:\u001b[0m\u001b[1;33m\u001b[0m\u001b[1;33m\u001b[0m\u001b[0m\n\u001b[1;32m-> 3629\u001b[1;33m                 \u001b[1;32mreturn\u001b[0m \u001b[0mself\u001b[0m\u001b[1;33m.\u001b[0m\u001b[0m_engine\u001b[0m\u001b[1;33m.\u001b[0m\u001b[0mget_loc\u001b[0m\u001b[1;33m(\u001b[0m\u001b[0mcasted_key\u001b[0m\u001b[1;33m)\u001b[0m\u001b[1;33m\u001b[0m\u001b[1;33m\u001b[0m\u001b[0m\n\u001b[0m\u001b[0;32m   3630\u001b[0m             \u001b[1;32mexcept\u001b[0m \u001b[0mKeyError\u001b[0m \u001b[1;32mas\u001b[0m \u001b[0merr\u001b[0m\u001b[1;33m:\u001b[0m\u001b[1;33m\u001b[0m\u001b[1;33m\u001b[0m\u001b[0m\n",
      "\u001b[1;32m~\\anaconda3\\lib\\site-packages\\pandas\\_libs\\index.pyx\u001b[0m in \u001b[0;36mpandas._libs.index.IndexEngine.get_loc\u001b[1;34m()\u001b[0m\n",
      "\u001b[1;32m~\\anaconda3\\lib\\site-packages\\pandas\\_libs\\index.pyx\u001b[0m in \u001b[0;36mpandas._libs.index.IndexEngine.get_loc\u001b[1;34m()\u001b[0m\n",
      "\u001b[1;32mpandas\\_libs\\hashtable_class_helper.pxi\u001b[0m in \u001b[0;36mpandas._libs.hashtable.PyObjectHashTable.get_item\u001b[1;34m()\u001b[0m\n",
      "\u001b[1;32mpandas\\_libs\\hashtable_class_helper.pxi\u001b[0m in \u001b[0;36mpandas._libs.hashtable.PyObjectHashTable.get_item\u001b[1;34m()\u001b[0m\n",
      "\u001b[1;31mKeyError\u001b[0m: 'attack_type'",
      "\nThe above exception was the direct cause of the following exception:\n",
      "\u001b[1;31mKeyError\u001b[0m                                  Traceback (most recent call last)",
      "\u001b[1;32m~\\AppData\\Local\\Temp\\ipykernel_16648\\776022516.py\u001b[0m in \u001b[0;36m<module>\u001b[1;34m\u001b[0m\n\u001b[0;32m      2\u001b[0m \u001b[1;33m\u001b[0m\u001b[0m\n\u001b[0;32m      3\u001b[0m \u001b[0mX\u001b[0m \u001b[1;33m=\u001b[0m \u001b[0mdf2_pca\u001b[0m\u001b[1;33m\u001b[0m\u001b[1;33m\u001b[0m\u001b[0m\n\u001b[1;32m----> 4\u001b[1;33m \u001b[0my\u001b[0m \u001b[1;33m=\u001b[0m \u001b[0mdf2\u001b[0m\u001b[1;33m[\u001b[0m\u001b[1;34m'attack_type'\u001b[0m\u001b[1;33m]\u001b[0m\u001b[1;33m\u001b[0m\u001b[1;33m\u001b[0m\u001b[0m\n\u001b[0m\u001b[0;32m      5\u001b[0m \u001b[1;31m# Split the data into training and testing sets\u001b[0m\u001b[1;33m\u001b[0m\u001b[1;33m\u001b[0m\u001b[0m\n\u001b[0;32m      6\u001b[0m \u001b[0mX_train\u001b[0m\u001b[1;33m,\u001b[0m \u001b[0mX_test\u001b[0m\u001b[1;33m,\u001b[0m \u001b[0my_train\u001b[0m\u001b[1;33m,\u001b[0m \u001b[0my_test\u001b[0m \u001b[1;33m=\u001b[0m \u001b[0mtrain_test_split\u001b[0m\u001b[1;33m(\u001b[0m\u001b[0mX\u001b[0m\u001b[1;33m,\u001b[0m \u001b[0my\u001b[0m\u001b[1;33m,\u001b[0m \u001b[0mtest_size\u001b[0m\u001b[1;33m=\u001b[0m\u001b[1;36m0.2\u001b[0m\u001b[1;33m,\u001b[0m \u001b[0mrandom_state\u001b[0m\u001b[1;33m=\u001b[0m\u001b[1;36m42\u001b[0m\u001b[1;33m)\u001b[0m\u001b[1;33m\u001b[0m\u001b[1;33m\u001b[0m\u001b[0m\n",
      "\u001b[1;32m~\\anaconda3\\lib\\site-packages\\pandas\\core\\frame.py\u001b[0m in \u001b[0;36m__getitem__\u001b[1;34m(self, key)\u001b[0m\n\u001b[0;32m   3503\u001b[0m             \u001b[1;32mif\u001b[0m \u001b[0mself\u001b[0m\u001b[1;33m.\u001b[0m\u001b[0mcolumns\u001b[0m\u001b[1;33m.\u001b[0m\u001b[0mnlevels\u001b[0m \u001b[1;33m>\u001b[0m \u001b[1;36m1\u001b[0m\u001b[1;33m:\u001b[0m\u001b[1;33m\u001b[0m\u001b[1;33m\u001b[0m\u001b[0m\n\u001b[0;32m   3504\u001b[0m                 \u001b[1;32mreturn\u001b[0m \u001b[0mself\u001b[0m\u001b[1;33m.\u001b[0m\u001b[0m_getitem_multilevel\u001b[0m\u001b[1;33m(\u001b[0m\u001b[0mkey\u001b[0m\u001b[1;33m)\u001b[0m\u001b[1;33m\u001b[0m\u001b[1;33m\u001b[0m\u001b[0m\n\u001b[1;32m-> 3505\u001b[1;33m             \u001b[0mindexer\u001b[0m \u001b[1;33m=\u001b[0m \u001b[0mself\u001b[0m\u001b[1;33m.\u001b[0m\u001b[0mcolumns\u001b[0m\u001b[1;33m.\u001b[0m\u001b[0mget_loc\u001b[0m\u001b[1;33m(\u001b[0m\u001b[0mkey\u001b[0m\u001b[1;33m)\u001b[0m\u001b[1;33m\u001b[0m\u001b[1;33m\u001b[0m\u001b[0m\n\u001b[0m\u001b[0;32m   3506\u001b[0m             \u001b[1;32mif\u001b[0m \u001b[0mis_integer\u001b[0m\u001b[1;33m(\u001b[0m\u001b[0mindexer\u001b[0m\u001b[1;33m)\u001b[0m\u001b[1;33m:\u001b[0m\u001b[1;33m\u001b[0m\u001b[1;33m\u001b[0m\u001b[0m\n\u001b[0;32m   3507\u001b[0m                 \u001b[0mindexer\u001b[0m \u001b[1;33m=\u001b[0m \u001b[1;33m[\u001b[0m\u001b[0mindexer\u001b[0m\u001b[1;33m]\u001b[0m\u001b[1;33m\u001b[0m\u001b[1;33m\u001b[0m\u001b[0m\n",
      "\u001b[1;32m~\\anaconda3\\lib\\site-packages\\pandas\\core\\indexes\\base.py\u001b[0m in \u001b[0;36mget_loc\u001b[1;34m(self, key, method, tolerance)\u001b[0m\n\u001b[0;32m   3629\u001b[0m                 \u001b[1;32mreturn\u001b[0m \u001b[0mself\u001b[0m\u001b[1;33m.\u001b[0m\u001b[0m_engine\u001b[0m\u001b[1;33m.\u001b[0m\u001b[0mget_loc\u001b[0m\u001b[1;33m(\u001b[0m\u001b[0mcasted_key\u001b[0m\u001b[1;33m)\u001b[0m\u001b[1;33m\u001b[0m\u001b[1;33m\u001b[0m\u001b[0m\n\u001b[0;32m   3630\u001b[0m             \u001b[1;32mexcept\u001b[0m \u001b[0mKeyError\u001b[0m \u001b[1;32mas\u001b[0m \u001b[0merr\u001b[0m\u001b[1;33m:\u001b[0m\u001b[1;33m\u001b[0m\u001b[1;33m\u001b[0m\u001b[0m\n\u001b[1;32m-> 3631\u001b[1;33m                 \u001b[1;32mraise\u001b[0m \u001b[0mKeyError\u001b[0m\u001b[1;33m(\u001b[0m\u001b[0mkey\u001b[0m\u001b[1;33m)\u001b[0m \u001b[1;32mfrom\u001b[0m \u001b[0merr\u001b[0m\u001b[1;33m\u001b[0m\u001b[1;33m\u001b[0m\u001b[0m\n\u001b[0m\u001b[0;32m   3632\u001b[0m             \u001b[1;32mexcept\u001b[0m \u001b[0mTypeError\u001b[0m\u001b[1;33m:\u001b[0m\u001b[1;33m\u001b[0m\u001b[1;33m\u001b[0m\u001b[0m\n\u001b[0;32m   3633\u001b[0m                 \u001b[1;31m# If we have a listlike key, _check_indexing_error will raise\u001b[0m\u001b[1;33m\u001b[0m\u001b[1;33m\u001b[0m\u001b[0m\n",
      "\u001b[1;31mKeyError\u001b[0m: 'attack_type'"
     ]
    }
   ],
   "source": [
    "from sklearn.model_selection import train_test_split\n",
    "\n",
    "X = df2_pca\n",
    "y = df2['attack_type']\n",
    "# Split the data into training and testing sets\n",
    "X_train, X_test, y_train, y_test = train_test_split(X, y, test_size=0.2, random_state=42)"
   ]
  },
  {
   "cell_type": "markdown",
   "id": "b8ce693b",
   "metadata": {},
   "source": [
    "# Random Forest classifier"
   ]
  },
  {
   "cell_type": "code",
   "execution_count": 76,
   "id": "c097faef",
   "metadata": {},
   "outputs": [
    {
     "name": "stdout",
     "output_type": "stream",
     "text": [
      "[[    3     0     0     0     0     0     0     0     0     0     0     0\n",
      "      0     0     0     0     0     0     0]\n",
      " [    3     0     0     0     0     0     0     0     0     0     0     0\n",
      "      0     0     0     0     0     0     0]\n",
      " [    1     0    12     0     0     0     0     0     0     0     0     0\n",
      "      0     0     0     0     0     0     0]\n",
      " [    0     0     0     1     0     0     0     0     0     0     0     0\n",
      "      0     0     0     0     0     0     0]\n",
      " [    0     0     0     0   738     0     0     0     0     0     3     0\n",
      "      0     0     0     0     0     0     0]\n",
      " [    0     0     0     0     0     1     0     0     1     0     0     0\n",
      "      0     0     0     0     0     0     0]\n",
      " [    0     1     0     0     0     0     1     0     0     0     0     0\n",
      "      0     0     0     0     0     0     0]\n",
      " [    0     0     0     0     0     0     0     1     0     0     0     0\n",
      "      0     0     0     0     0     0     0]\n",
      " [    0     0     0     0     0     0     0     0  8267     0     1     0\n",
      "      0     0     0     0     0     0     0]\n",
      " [    0     0     0     0     0     0     0     0     0   294     5     0\n",
      "      0     1     0     0     0     0     0]\n",
      " [    0     0     0     0     0     0     0     0     0     1 11373     0\n",
      "      0     2     0     0     0     0     0]\n",
      " [    0     0     0     0     0     0     0     0     0     0     0     1\n",
      "      0     0     0     0     0     0     0]\n",
      " [    0     0     0     0     0     0     0     0     0     0     2     0\n",
      "      0     0     0     0     0     0     0]\n",
      " [    0     0     0     0     0     0     0     0     0     0     1     0\n",
      "      0   535     0     0     0     0     0]\n",
      " [    0     0     0     0     0     0     0     0     0     0     5     0\n",
      "      0     1   763     0     0     0     0]\n",
      " [    0     0     0     0     0     0     0     0     0     0     0     0\n",
      "      0     0     0   134     0     1     0]\n",
      " [    0     0     0     0     0     0     0     0     0     0     0     0\n",
      "      0     0     0     0   171     0     0]\n",
      " [    0     0     0     0     0     0     0     0     0     0     0     0\n",
      "      0     0     0     0     0    98     0]\n",
      " [    0     0     0     0     0     0     0     0     0     0     0     0\n",
      "      0     0     0     0     0     0     4]]\n"
     ]
    },
    {
     "name": "stderr",
     "output_type": "stream",
     "text": [
      "C:\\Users\\joela\\anaconda3\\lib\\site-packages\\sklearn\\metrics\\_classification.py:1318: UndefinedMetricWarning: Precision and F-score are ill-defined and being set to 0.0 in labels with no predicted samples. Use `zero_division` parameter to control this behavior.\n",
      "  _warn_prf(average, modifier, msg_start, len(result))\n",
      "C:\\Users\\joela\\anaconda3\\lib\\site-packages\\sklearn\\metrics\\_classification.py:1318: UndefinedMetricWarning: Precision and F-score are ill-defined and being set to 0.0 in labels with no predicted samples. Use `zero_division` parameter to control this behavior.\n",
      "  _warn_prf(average, modifier, msg_start, len(result))\n"
     ]
    },
    {
     "name": "stdout",
     "output_type": "stream",
     "text": [
      "                 precision    recall  f1-score   support\n",
      "\n",
      "buffer_overflow       0.43      1.00      0.60         3\n",
      "      ftp_write       0.00      0.00      0.00         3\n",
      "   guess_passwd       1.00      0.92      0.96        13\n",
      "           imap       1.00      1.00      1.00         1\n",
      "        ipsweep       1.00      1.00      1.00       741\n",
      "           land       1.00      0.50      0.67         2\n",
      "     loadmodule       1.00      0.50      0.67         2\n",
      "       multihop       1.00      1.00      1.00         1\n",
      "        neptune       1.00      1.00      1.00      8268\n",
      "           nmap       1.00      0.98      0.99       300\n",
      "         normal       1.00      1.00      1.00     11376\n",
      "           perl       1.00      1.00      1.00         1\n",
      "            phf       0.00      0.00      0.00         2\n",
      "      portsweep       0.99      1.00      1.00       536\n",
      "          satan       1.00      0.99      1.00       769\n",
      "          smurf       1.00      0.99      1.00       135\n",
      "       teardrop       1.00      1.00      1.00       171\n",
      "    warezclient       0.99      1.00      0.99        98\n",
      "    warezmaster       1.00      1.00      1.00         4\n",
      "\n",
      "       accuracy                           1.00     22426\n",
      "      macro avg       0.86      0.84      0.83     22426\n",
      "   weighted avg       1.00      1.00      1.00     22426\n",
      "\n"
     ]
    },
    {
     "name": "stderr",
     "output_type": "stream",
     "text": [
      "C:\\Users\\joela\\anaconda3\\lib\\site-packages\\sklearn\\metrics\\_classification.py:1318: UndefinedMetricWarning: Precision and F-score are ill-defined and being set to 0.0 in labels with no predicted samples. Use `zero_division` parameter to control this behavior.\n",
      "  _warn_prf(average, modifier, msg_start, len(result))\n"
     ]
    }
   ],
   "source": [
    "from sklearn.ensemble import RandomForestClassifier\n",
    "from sklearn.metrics import confusion_matrix, classification_report\n",
    "\n",
    "# Train a Random Forest classifier\n",
    "rfc = RandomForestClassifier(n_estimators=100, random_state=42)\n",
    "rfc.fit(X_train, y_train)\n",
    "\n",
    "# Evaluate the classifier on the test data\n",
    "y_pred = rfc.predict(X_test)\n",
    "print(confusion_matrix(y_test, y_pred))\n",
    "print(classification_report(y_test, y_pred))"
   ]
  },
  {
   "cell_type": "code",
   "execution_count": null,
   "id": "e7a2aa86",
   "metadata": {},
   "outputs": [],
   "source": []
  },
  {
   "cell_type": "markdown",
   "id": "048d4f61",
   "metadata": {},
   "source": [
    "Since the aim is to improve the accuracy of the model on detecting the less frequent attacks, I would suggest using an oversampling technique such as Synthetic Minority Over-sampling Technique (SMOTE) to balance the dataset. SMOTE generates synthetic samples for the minority class by creating new samples that are combinations of the existing samples. This will increase the number of samples for the less frequent attacks and improve the ability of the model to detect them."
   ]
  },
  {
   "cell_type": "code",
   "execution_count": 77,
   "id": "63e0955b",
   "metadata": {},
   "outputs": [
    {
     "name": "stdout",
     "output_type": "stream",
     "text": [
      "Class distribution after resampling:\n",
      " normal             45732\n",
      "neptune            45732\n",
      "phf                45732\n",
      "spy                45732\n",
      "ftp_write          45732\n",
      "multihop           45732\n",
      "pod                45732\n",
      "warezmaster        45732\n",
      "imap               45732\n",
      "loadmodule         45732\n",
      "buffer_overflow    45732\n",
      "rootkit            45732\n",
      "land               45732\n",
      "guess_passwd       45732\n",
      "warezclient        45732\n",
      "nmap               45732\n",
      "portsweep          45732\n",
      "satan              45732\n",
      "ipsweep            45732\n",
      "teardrop           45732\n",
      "smurf              45732\n",
      "perl               45732\n",
      "Name: attack_type, dtype: int64\n"
     ]
    }
   ],
   "source": [
    "from imblearn.over_sampling import RandomOverSampler\n",
    "\n",
    "ros = RandomOverSampler(random_state=42)\n",
    "X_ros, y_ros = ros.fit_resample(X_train, y_train)\n",
    "\n",
    "# Print class distribution after resampling\n",
    "print(\"Class distribution after resampling:\\n\", y_ros.value_counts())"
   ]
  },
  {
   "cell_type": "code",
   "execution_count": null,
   "id": "8df3d651",
   "metadata": {},
   "outputs": [],
   "source": []
  },
  {
   "cell_type": "code",
   "execution_count": 81,
   "id": "305c5d3a",
   "metadata": {},
   "outputs": [
    {
     "data": {
      "image/png": "[encoded data removed]",
      "text/plain": [
       "<Figure size 800x500 with 1 Axes>"
      ]
     },
     "metadata": {},
     "output_type": "display_data"
    }
   ],
   "source": [
    "sns.set(style=\"darkgrid\")\n",
    "plt.figure(figsize=(8, 5))\n",
    "ax = sns.countplot(x=y_ros, palette=\"Set1\")\n",
    "ax.set_title(\"Class Distribution After Resampling (RandomOverSampler)\", fontsize=14)\n",
    "ax.set_xlabel(\"Attack Type\", fontsize=12)\n",
    "ax.set_ylabel(\"Count\", fontsize=12)\n",
    "ax.set_xticklabels(ax.get_xticklabels(), rotation=45, ha=\"right\", fontsize=10)\n",
    "labels = ['BENIGN', 'DoS', 'PortScan', 'DDoS', 'FTP-Patator', 'SSH-Patator', 'Bot', 'Web Attack-Brute Force', 'Web Attack-XSS', 'Infiltration', 'Web Attack-Sql Injection']\n",
    "handles = [plt.Rectangle((0,0),1,1, color=c, ec=\"k\") for c in sns.color_palette(\"Set1\", 11)]\n",
    "ax.legend(handles, labels, bbox_to_anchor=(1.05, 1), loc=2, borderaxespad=0., fontsize=10)\n",
    "plt.tight_layout()\n",
    "plt.show()"
   ]
  },
  {
   "cell_type": "code",
   "execution_count": 82,
   "id": "3f481286",
   "metadata": {},
   "outputs": [
    {
     "name": "stdout",
     "output_type": "stream",
     "text": [
      "[[    3     0     0     0     0     0     0     0     0     0     0     0\n",
      "      0     0     0     0     0     0     0]\n",
      " [    3     0     0     0     0     0     0     0     0     0     0     0\n",
      "      0     0     0     0     0     0     0]\n",
      " [    1     0    12     0     0     0     0     0     0     0     0     0\n",
      "      0     0     0     0     0     0     0]\n",
      " [    0     0     0     1     0     0     0     0     0     0     0     0\n",
      "      0     0     0     0     0     0     0]\n",
      " [    0     0     0     0   738     0     0     0     0     0     3     0\n",
      "      0     0     0     0     0     0     0]\n",
      " [    0     0     0     0     0     1     0     0     1     0     0     0\n",
      "      0     0     0     0     0     0     0]\n",
      " [    0     1     0     0     0     0     1     0     0     0     0     0\n",
      "      0     0     0     0     0     0     0]\n",
      " [    0     0     0     0     0     0     0     1     0     0     0     0\n",
      "      0     0     0     0     0     0     0]\n",
      " [    0     0     0     0     0     0     0     0  8267     0     1     0\n",
      "      0     0     0     0     0     0     0]\n",
      " [    0     0     0     0     0     0     0     0     0   294     5     0\n",
      "      0     1     0     0     0     0     0]\n",
      " [    0     0     0     0     0     0     0     0     0     1 11373     0\n",
      "      0     2     0     0     0     0     0]\n",
      " [    0     0     0     0     0     0     0     0     0     0     0     1\n",
      "      0     0     0     0     0     0     0]\n",
      " [    0     0     0     0     0     0     0     0     0     0     2     0\n",
      "      0     0     0     0     0     0     0]\n",
      " [    0     0     0     0     0     0     0     0     0     0     1     0\n",
      "      0   535     0     0     0     0     0]\n",
      " [    0     0     0     0     0     0     0     0     0     0     5     0\n",
      "      0     1   763     0     0     0     0]\n",
      " [    0     0     0     0     0     0     0     0     0     0     0     0\n",
      "      0     0     0   134     0     1     0]\n",
      " [    0     0     0     0     0     0     0     0     0     0     0     0\n",
      "      0     0     0     0   171     0     0]\n",
      " [    0     0     0     0     0     0     0     0     0     0     0     0\n",
      "      0     0     0     0     0    98     0]\n",
      " [    0     0     0     0     0     0     0     0     0     0     0     0\n",
      "      0     0     0     0     0     0     4]]\n"
     ]
    },
    {
     "name": "stderr",
     "output_type": "stream",
     "text": [
      "C:\\Users\\joela\\anaconda3\\lib\\site-packages\\sklearn\\metrics\\_classification.py:1318: UndefinedMetricWarning: Precision and F-score are ill-defined and being set to 0.0 in labels with no predicted samples. Use `zero_division` parameter to control this behavior.\n",
      "  _warn_prf(average, modifier, msg_start, len(result))\n",
      "C:\\Users\\joela\\anaconda3\\lib\\site-packages\\sklearn\\metrics\\_classification.py:1318: UndefinedMetricWarning: Precision and F-score are ill-defined and being set to 0.0 in labels with no predicted samples. Use `zero_division` parameter to control this behavior.\n",
      "  _warn_prf(average, modifier, msg_start, len(result))\n"
     ]
    },
    {
     "name": "stdout",
     "output_type": "stream",
     "text": [
      "                 precision    recall  f1-score   support\n",
      "\n",
      "buffer_overflow       0.43      1.00      0.60         3\n",
      "      ftp_write       0.00      0.00      0.00         3\n",
      "   guess_passwd       1.00      0.92      0.96        13\n",
      "           imap       1.00      1.00      1.00         1\n",
      "        ipsweep       1.00      1.00      1.00       741\n",
      "           land       1.00      0.50      0.67         2\n",
      "     loadmodule       1.00      0.50      0.67         2\n",
      "       multihop       1.00      1.00      1.00         1\n",
      "        neptune       1.00      1.00      1.00      8268\n",
      "           nmap       1.00      0.98      0.99       300\n",
      "         normal       1.00      1.00      1.00     11376\n",
      "           perl       1.00      1.00      1.00         1\n",
      "            phf       0.00      0.00      0.00         2\n",
      "      portsweep       0.99      1.00      1.00       536\n",
      "          satan       1.00      0.99      1.00       769\n",
      "          smurf       1.00      0.99      1.00       135\n",
      "       teardrop       1.00      1.00      1.00       171\n",
      "    warezclient       0.99      1.00      0.99        98\n",
      "    warezmaster       1.00      1.00      1.00         4\n",
      "\n",
      "       accuracy                           1.00     22426\n",
      "      macro avg       0.86      0.84      0.83     22426\n",
      "   weighted avg       1.00      1.00      1.00     22426\n",
      "\n"
     ]
    },
    {
     "name": "stderr",
     "output_type": "stream",
     "text": [
      "C:\\Users\\joela\\anaconda3\\lib\\site-packages\\sklearn\\metrics\\_classification.py:1318: UndefinedMetricWarning: Precision and F-score are ill-defined and being set to 0.0 in labels with no predicted samples. Use `zero_division` parameter to control this behavior.\n",
      "  _warn_prf(average, modifier, msg_start, len(result))\n"
     ]
    }
   ],
   "source": [
    "from sklearn.ensemble import RandomForestClassifier\n",
    "from sklearn.metrics import confusion_matrix, classification_report\n",
    "\n",
    "# Train a Random Forest classifier\n",
    "rfc = RandomForestClassifier(n_estimators=100, random_state=42)\n",
    "rfc.fit(X_train, y_train)\n",
    "\n",
    "# Evaluate the classifier on the test data\n",
    "y_pred = rfc.predict(X_test)\n",
    "print(confusion_matrix(y_test, y_pred))\n",
    "print(classification_report(y_test, y_pred))"
   ]
  },
  {
   "cell_type": "code",
   "execution_count": 83,
   "id": "957350ee",
   "metadata": {},
   "outputs": [
    {
     "name": "stdout",
     "output_type": "stream",
     "text": [
      "Class distribution after resampling:\n",
      " normal             45732\n",
      "neptune            45732\n",
      "phf                45732\n",
      "spy                45732\n",
      "ftp_write          45732\n",
      "multihop           45732\n",
      "pod                45732\n",
      "warezmaster        45732\n",
      "imap               45732\n",
      "loadmodule         45732\n",
      "buffer_overflow    45732\n",
      "rootkit            45732\n",
      "land               45732\n",
      "guess_passwd       45732\n",
      "warezclient        45732\n",
      "nmap               45732\n",
      "portsweep          45732\n",
      "satan              45732\n",
      "ipsweep            45732\n",
      "teardrop           45732\n",
      "smurf              45732\n",
      "perl               45732\n",
      "Name: attack_type, dtype: int64\n"
     ]
    },
    {
     "data": {
      "image/png": "[encoded data removed]",
      "text/plain": [
       "<Figure size 800x500 with 1 Axes>"
      ]
     },
     "metadata": {},
     "output_type": "display_data"
    },
    {
     "name": "stdout",
     "output_type": "stream",
     "text": [
      "[[    3     0     0     0     0     0     0     0     0     0     0     0\n",
      "      0     0     0     0     0     0     0     0]\n",
      " [    3     0     0     0     0     0     0     0     0     0     0     0\n",
      "      0     0     0     0     0     0     0     0]\n",
      " [    0     0    12     0     0     0     1     0     0     0     0     0\n",
      "      0     0     0     0     0     0     0     0]\n",
      " [    0     0     0     1     0     0     0     0     0     0     0     0\n",
      "      0     0     0     0     0     0     0     0]\n",
      " [    0     0     0     0   738     0     0     0     0     0     3     0\n",
      "      0     0     0     0     0     0     0     0]\n",
      " [    0     0     0     0     0     1     0     0     1     0     0     0\n",
      "      0     0     0     0     0     0     0     0]\n",
      " [    0     0     0     0     0     0     1     0     0     0     0     0\n",
      "      0     0     1     0     0     0     0     0]\n",
      " [    0     0     0     0     0     0     0     1     0     0     0     0\n",
      "      0     0     0     0     0     0     0     0]\n",
      " [    0     0     0     0     0     0     0     0  8267     0     1     0\n",
      "      0     0     0     0     0     0     0     0]\n",
      " [    0     0     0     0     0     0     0     0     0   295     4     0\n",
      "      0     1     0     0     0     0     0     0]\n",
      " [    0     0     0     0     1     0     0     0     0     0 11371     0\n",
      "      0     3     0     1     0     0     0     0]\n",
      " [    0     0     0     0     0     0     0     0     0     0     0     1\n",
      "      0     0     0     0     0     0     0     0]\n",
      " [    0     0     0     0     0     0     0     0     0     0     2     0\n",
      "      0     0     0     0     0     0     0     0]\n",
      " [    0     0     0     0     0     0     0     0     0     0     2     0\n",
      "      0   534     0     0     0     0     0     0]\n",
      " [    0     0     0     0     0     0     0     0     0     0     0     0\n",
      "      0     0     0     0     0     0     0     0]\n",
      " [    0     0     0     0     0     0     0     0     0     0     4     0\n",
      "      0     1     0   764     0     0     0     0]\n",
      " [    0     0     0     0     0     0     0     0     0     0     0     0\n",
      "      0     0     0     0   134     0     1     0]\n",
      " [    0     0     0     0     0     0     0     0     0     0     0     0\n",
      "      0     0     0     0     0   171     0     0]\n",
      " [    0     0     0     0     0     0     0     0     0     0     0     0\n",
      "      0     0     0     0     0     0    98     0]\n",
      " [    0     0     0     0     0     0     0     0     0     0     0     0\n",
      "      0     0     0     0     0     0     0     4]]\n"
     ]
    },
    {
     "name": "stderr",
     "output_type": "stream",
     "text": [
      "C:\\Users\\joela\\anaconda3\\lib\\site-packages\\sklearn\\metrics\\_classification.py:1318: UndefinedMetricWarning: Precision and F-score are ill-defined and being set to 0.0 in labels with no predicted samples. Use `zero_division` parameter to control this behavior.\n",
      "  _warn_prf(average, modifier, msg_start, len(result))\n",
      "C:\\Users\\joela\\anaconda3\\lib\\site-packages\\sklearn\\metrics\\_classification.py:1318: UndefinedMetricWarning: Recall and F-score are ill-defined and being set to 0.0 in labels with no true samples. Use `zero_division` parameter to control this behavior.\n",
      "  _warn_prf(average, modifier, msg_start, len(result))\n",
      "C:\\Users\\joela\\anaconda3\\lib\\site-packages\\sklearn\\metrics\\_classification.py:1318: UndefinedMetricWarning: Precision and F-score are ill-defined and being set to 0.0 in labels with no predicted samples. Use `zero_division` parameter to control this behavior.\n",
      "  _warn_prf(average, modifier, msg_start, len(result))\n",
      "C:\\Users\\joela\\anaconda3\\lib\\site-packages\\sklearn\\metrics\\_classification.py:1318: UndefinedMetricWarning: Recall and F-score are ill-defined and being set to 0.0 in labels with no true samples. Use `zero_division` parameter to control this behavior.\n",
      "  _warn_prf(average, modifier, msg_start, len(result))\n"
     ]
    },
    {
     "name": "stdout",
     "output_type": "stream",
     "text": [
      "                 precision    recall  f1-score   support\n",
      "\n",
      "buffer_overflow       0.50      1.00      0.67         3\n",
      "      ftp_write       0.00      0.00      0.00         3\n",
      "   guess_passwd       1.00      0.92      0.96        13\n",
      "           imap       1.00      1.00      1.00         1\n",
      "        ipsweep       1.00      1.00      1.00       741\n",
      "           land       1.00      0.50      0.67         2\n",
      "     loadmodule       0.50      0.50      0.50         2\n",
      "       multihop       1.00      1.00      1.00         1\n",
      "        neptune       1.00      1.00      1.00      8268\n",
      "           nmap       1.00      0.98      0.99       300\n",
      "         normal       1.00      1.00      1.00     11376\n",
      "           perl       1.00      1.00      1.00         1\n",
      "            phf       0.00      0.00      0.00         2\n",
      "      portsweep       0.99      1.00      0.99       536\n",
      "        rootkit       0.00      0.00      0.00         0\n",
      "          satan       1.00      0.99      1.00       769\n",
      "          smurf       1.00      0.99      1.00       135\n",
      "       teardrop       1.00      1.00      1.00       171\n",
      "    warezclient       0.99      1.00      0.99        98\n",
      "    warezmaster       1.00      1.00      1.00         4\n",
      "\n",
      "       accuracy                           1.00     22426\n",
      "      macro avg       0.80      0.79      0.79     22426\n",
      "   weighted avg       1.00      1.00      1.00     22426\n",
      "\n"
     ]
    },
    {
     "name": "stderr",
     "output_type": "stream",
     "text": [
      "C:\\Users\\joela\\anaconda3\\lib\\site-packages\\sklearn\\metrics\\_classification.py:1318: UndefinedMetricWarning: Precision and F-score are ill-defined and being set to 0.0 in labels with no predicted samples. Use `zero_division` parameter to control this behavior.\n",
      "  _warn_prf(average, modifier, msg_start, len(result))\n",
      "C:\\Users\\joela\\anaconda3\\lib\\site-packages\\sklearn\\metrics\\_classification.py:1318: UndefinedMetricWarning: Recall and F-score are ill-defined and being set to 0.0 in labels with no true samples. Use `zero_division` parameter to control this behavior.\n",
      "  _warn_prf(average, modifier, msg_start, len(result))\n"
     ]
    }
   ],
   "source": [
    "from imblearn.over_sampling import RandomOverSampler\n",
    "\n",
    "ros = RandomOverSampler(random_state=42)\n",
    "X_ros, y_ros = ros.fit_resample(X_train, y_train)\n",
    "\n",
    "# Print class distribution after resampling\n",
    "print(\"Class distribution after resampling:\\n\", y_ros.value_counts())\n",
    "\n",
    "sns.set(style=\"darkgrid\")\n",
    "plt.figure(figsize=(8, 5))\n",
    "ax = sns.countplot(x=y_ros, palette=\"Set1\")\n",
    "ax.set_title(\"Class Distribution After Resampling (RandomOverSampler)\", fontsize=14)\n",
    "ax.set_xlabel(\"Attack Type\", fontsize=12)\n",
    "ax.set_ylabel(\"Count\", fontsize=12)\n",
    "ax.set_xticklabels(ax.get_xticklabels(), rotation=45, ha=\"right\", fontsize=10)\n",
    "labels = ['BENIGN', 'DoS', 'PortScan', 'DDoS', 'FTP-Patator', 'SSH-Patator', 'Bot', 'Web Attack-Brute Force', 'Web Attack-XSS', 'Infiltration', 'Web Attack-Sql Injection']\n",
    "handles = [plt.Rectangle((0,0),1,1, color=c, ec=\"k\") for c in sns.color_palette(\"Set1\", 11)]\n",
    "ax.legend(handles, labels, bbox_to_anchor=(1.05, 1), loc=2, borderaxespad=0., fontsize=10)\n",
    "plt.tight_layout()\n",
    "plt.show()\n",
    "\n",
    "from sklearn.ensemble import RandomForestClassifier\n",
    "from sklearn.metrics import confusion_matrix, classification_report\n",
    "\n",
    "# Train a Random Forest classifier\n",
    "rfc = RandomForestClassifier(n_estimators=100, random_state=42)\n",
    "rfc.fit(X_ros, y_ros)\n",
    "\n",
    "# Evaluate the classifier on the test data\n",
    "y_pred = rfc.predict(X_test)\n",
    "print(confusion_matrix(y_test, y_pred))\n",
    "print(classification_report(y_test, y_pred))"
   ]
  },
  {
   "cell_type": "markdown",
   "id": "cfd5dc7e",
   "metadata": {},
   "source": [
    "# Using combination of models\n"
   ]
  },
  {
   "cell_type": "code",
   "execution_count": 84,
   "id": "ee264251",
   "metadata": {},
   "outputs": [
    {
     "name": "stdout",
     "output_type": "stream",
     "text": [
      "Index(['duration', 'protocol_type', 'service', 'flag', 'src_bytes',\n",
      "       'dst_bytes', 'logged_in', 'num_file_creations', 'num_shells', 'count',\n",
      "       'srv_count', 'serror_rate', 'srv_serror_rate', 'same_srv_rate',\n",
      "       'diff_srv_rate', 'dst_host_count', 'dst_host_srv_count',\n",
      "       'dst_host_same_srv_rate', 'dst_host_diff_srv_rate',\n",
      "       'dst_host_same_src_port_rate', 'dst_host_srv_diff_host_rate',\n",
      "       'dst_host_serror_rate', 'attack_type', 'attack', 'src_ip', 'hour'],\n",
      "      dtype='object')\n"
     ]
    }
   ],
   "source": [
    "print(df2.columns)"
   ]
  },
  {
   "cell_type": "code",
   "execution_count": 85,
   "id": "59a87759",
   "metadata": {},
   "outputs": [
    {
     "data": {
      "text/plain": [
       "duration                       float64\n",
       "protocol_type                   object\n",
       "service                         object\n",
       "flag                            object\n",
       "src_bytes                        int64\n",
       "dst_bytes                        int64\n",
       "logged_in                        int64\n",
       "num_file_creations               int64\n",
       "num_shells                       int64\n",
       "count                            int64\n",
       "srv_count                        int64\n",
       "serror_rate                    float64\n",
       "srv_serror_rate                float64\n",
       "same_srv_rate                  float64\n",
       "diff_srv_rate                  float64\n",
       "dst_host_count                   int64\n",
       "dst_host_srv_count               int64\n",
       "dst_host_same_srv_rate         float64\n",
       "dst_host_diff_srv_rate         float64\n",
       "dst_host_same_src_port_rate    float64\n",
       "dst_host_srv_diff_host_rate    float64\n",
       "dst_host_serror_rate           float64\n",
       "attack_type                     object\n",
       "attack                           int64\n",
       "src_ip                          object\n",
       "hour                             int64\n",
       "dtype: object"
      ]
     },
     "execution_count": 85,
     "metadata": {},
     "output_type": "execute_result"
    }
   ],
   "source": [
    "df2.dtypes"
   ]
  },
  {
   "cell_type": "code",
   "execution_count": 86,
   "id": "3dfd8982",
   "metadata": {},
   "outputs": [
    {
     "name": "stdout",
     "output_type": "stream",
     "text": [
      "(112126, 8)\n",
      "(112126,)\n"
     ]
    }
   ],
   "source": [
    "print(X.shape)\n",
    "print(y.shape)"
   ]
  },
  {
   "cell_type": "markdown",
   "id": "8b564023",
   "metadata": {},
   "source": [
    "# Test:1"
   ]
  },
  {
   "cell_type": "code",
   "execution_count": 87,
   "id": "b3216831",
   "metadata": {},
   "outputs": [
    {
     "name": "stderr",
     "output_type": "stream",
     "text": [
      "C:\\Users\\joela\\anaconda3\\lib\\site-packages\\sklearn\\linear_model\\_logistic.py:814: ConvergenceWarning: lbfgs failed to converge (status=1):\n",
      "STOP: TOTAL NO. of ITERATIONS REACHED LIMIT.\n",
      "\n",
      "Increase the number of iterations (max_iter) or scale the data as shown in:\n",
      "    https://scikit-learn.org/stable/modules/preprocessing.html\n",
      "Please also refer to the documentation for alternative solver options:\n",
      "    https://scikit-learn.org/stable/modules/linear_model.html#logistic-regression\n",
      "  n_iter_i = _check_optimize_result(\n"
     ]
    },
    {
     "name": "stdout",
     "output_type": "stream",
     "text": [
      "[[    3     0     0     0     0     0     0     0     0     0     0     0\n",
      "      0     0     0     0     0     0     0     0]\n",
      " [    2     0     0     0     1     0     0     0     0     0     0     0\n",
      "      0     0     0     0     0     0     0     0]\n",
      " [    0     0    12     0     1     0     0     0     0     0     0     0\n",
      "      0     0     0     0     0     0     0     0]\n",
      " [    0     0     0     1     0     0     0     0     0     0     0     0\n",
      "      0     0     0     0     0     0     0     0]\n",
      " [    0     0     0     0   733     0     0     0     0     0     8     0\n",
      "      0     0     0     0     0     0     0     0]\n",
      " [    0     0     0     0     0     1     0     0     1     0     0     0\n",
      "      0     0     0     0     0     0     0     0]\n",
      " [    0     0     0     0     0     0     1     0     0     0     0     0\n",
      "      0     0     1     0     0     0     0     0]\n",
      " [    0     0     0     0     0     0     0     0     0     0     1     0\n",
      "      0     0     0     0     0     0     0     0]\n",
      " [    0     0     0     0     1     0     0     0  8267     0     0     0\n",
      "      0     0     0     0     0     0     0     0]\n",
      " [    0     0     0     0     0     0     0     0     0   252    46     0\n",
      "      0     2     0     0     0     0     0     0]\n",
      " [    0     0     0     0     5     0     0     0     4    22 11340     0\n",
      "      0     4     0     1     0     0     0     0]\n",
      " [    0     0     0     0     0     0     0     0     0     0     1     0\n",
      "      0     0     0     0     0     0     0     0]\n",
      " [    0     0     0     0     0     0     0     0     0     0     2     0\n",
      "      0     0     0     0     0     0     0     0]\n",
      " [    0     0     0     0     0     0     0     0     0     0     8     0\n",
      "      0   528     0     0     0     0     0     0]\n",
      " [    0     0     0     0     0     0     0     0     0     0     0     0\n",
      "      0     0     0     0     0     0     0     0]\n",
      " [    0     0     0     0     0     0     0     0     0     0    13     0\n",
      "      0     1     0   754     0     0     1     0]\n",
      " [    0     0     0     0     0     0     0     0     0     0     1     0\n",
      "      0     0     0     0   134     0     0     0]\n",
      " [    0     0     0     0     0     0     0     0     0     0     0     0\n",
      "      0     0     0     0     0   171     0     0]\n",
      " [    0     0     0     0     0     0     0     0     0     0     0     0\n",
      "      0     0     0     0     0     0    98     0]\n",
      " [    0     0     0     0     0     0     0     0     0     0     0     0\n",
      "      0     0     0     0     0     0     0     4]]\n"
     ]
    },
    {
     "name": "stderr",
     "output_type": "stream",
     "text": [
      "C:\\Users\\joela\\anaconda3\\lib\\site-packages\\sklearn\\metrics\\_classification.py:1318: UndefinedMetricWarning: Precision and F-score are ill-defined and being set to 0.0 in labels with no predicted samples. Use `zero_division` parameter to control this behavior.\n",
      "  _warn_prf(average, modifier, msg_start, len(result))\n",
      "C:\\Users\\joela\\anaconda3\\lib\\site-packages\\sklearn\\metrics\\_classification.py:1318: UndefinedMetricWarning: Recall and F-score are ill-defined and being set to 0.0 in labels with no true samples. Use `zero_division` parameter to control this behavior.\n",
      "  _warn_prf(average, modifier, msg_start, len(result))\n"
     ]
    },
    {
     "name": "stdout",
     "output_type": "stream",
     "text": [
      "                 precision    recall  f1-score   support\n",
      "\n",
      "buffer_overflow       0.60      1.00      0.75         3\n",
      "      ftp_write       0.00      0.00      0.00         3\n",
      "   guess_passwd       1.00      0.92      0.96        13\n",
      "           imap       1.00      1.00      1.00         1\n",
      "        ipsweep       0.99      0.99      0.99       741\n",
      "           land       1.00      0.50      0.67         2\n",
      "     loadmodule       1.00      0.50      0.67         2\n",
      "       multihop       0.00      0.00      0.00         1\n",
      "        neptune       1.00      1.00      1.00      8268\n",
      "           nmap       0.92      0.84      0.88       300\n",
      "         normal       0.99      1.00      0.99     11376\n",
      "           perl       0.00      0.00      0.00         1\n",
      "            phf       0.00      0.00      0.00         2\n",
      "      portsweep       0.99      0.99      0.99       536\n",
      "        rootkit       0.00      0.00      0.00         0\n",
      "          satan       1.00      0.98      0.99       769\n",
      "          smurf       1.00      0.99      1.00       135\n",
      "       teardrop       1.00      1.00      1.00       171\n",
      "    warezclient       0.99      1.00      0.99        98\n",
      "    warezmaster       1.00      1.00      1.00         4\n",
      "\n",
      "       accuracy                           0.99     22426\n",
      "      macro avg       0.72      0.69      0.69     22426\n",
      "   weighted avg       0.99      0.99      0.99     22426\n",
      "\n"
     ]
    },
    {
     "name": "stderr",
     "output_type": "stream",
     "text": [
      "C:\\Users\\joela\\anaconda3\\lib\\site-packages\\sklearn\\metrics\\_classification.py:1318: UndefinedMetricWarning: Precision and F-score are ill-defined and being set to 0.0 in labels with no predicted samples. Use `zero_division` parameter to control this behavior.\n",
      "  _warn_prf(average, modifier, msg_start, len(result))\n",
      "C:\\Users\\joela\\anaconda3\\lib\\site-packages\\sklearn\\metrics\\_classification.py:1318: UndefinedMetricWarning: Recall and F-score are ill-defined and being set to 0.0 in labels with no true samples. Use `zero_division` parameter to control this behavior.\n",
      "  _warn_prf(average, modifier, msg_start, len(result))\n",
      "C:\\Users\\joela\\anaconda3\\lib\\site-packages\\sklearn\\metrics\\_classification.py:1318: UndefinedMetricWarning: Precision and F-score are ill-defined and being set to 0.0 in labels with no predicted samples. Use `zero_division` parameter to control this behavior.\n",
      "  _warn_prf(average, modifier, msg_start, len(result))\n",
      "C:\\Users\\joela\\anaconda3\\lib\\site-packages\\sklearn\\metrics\\_classification.py:1318: UndefinedMetricWarning: Recall and F-score are ill-defined and being set to 0.0 in labels with no true samples. Use `zero_division` parameter to control this behavior.\n",
      "  _warn_prf(average, modifier, msg_start, len(result))\n"
     ]
    }
   ],
   "source": [
    "from sklearn.ensemble import RandomForestClassifier, VotingClassifier\n",
    "from sklearn.linear_model import LogisticRegression\n",
    "from sklearn.svm import SVC\n",
    "\n",
    "# Instantiate individual models\n",
    "rfc = RandomForestClassifier(n_estimators=100, random_state=42)\n",
    "lr = LogisticRegression(random_state=42, C=0.1)\n",
    "svc = SVC(probability=True, random_state=42)\n",
    "\n",
    "# Instantiate the ensemble model\n",
    "ensemble0 = VotingClassifier(estimators=[('rf', rfc), ('lr', lr), ('svc', svc)], voting='soft')\n",
    "\n",
    "# Fit the ensemble model on the training data\n",
    "ensemble0.fit(X_train, y_train)\n",
    "\n",
    "# Evaluate the ensemble model on the test data\n",
    "y_pred = ensemble0.predict(X_test)\n",
    "print(confusion_matrix(y_test, y_pred))\n",
    "print(classification_report(y_test, y_pred))"
   ]
  },
  {
   "cell_type": "code",
   "execution_count": 88,
   "id": "225253be",
   "metadata": {},
   "outputs": [
    {
     "data": {
      "text/plain": [
       "['ensemble0_model.joblib']"
      ]
     },
     "execution_count": 88,
     "metadata": {},
     "output_type": "execute_result"
    }
   ],
   "source": [
    "import joblib\n",
    "# Save the trained model to a file\n",
    "joblib.dump(ensemble0, 'ensemble0_model.joblib')"
   ]
  },
  {
   "cell_type": "code",
   "execution_count": null,
   "id": "c6e9aa7d",
   "metadata": {},
   "outputs": [],
   "source": []
  },
  {
   "cell_type": "markdown",
   "id": "4017bc29",
   "metadata": {},
   "source": [
    "# Test2"
   ]
  },
  {
   "cell_type": "code",
   "execution_count": 150,
   "id": "2f3fc3a6",
   "metadata": {
    "scrolled": true
   },
   "outputs": [
    {
     "name": "stdout",
     "output_type": "stream",
     "text": [
      "duration              0\n",
      "src_bytes             0\n",
      "dst_bytes             0\n",
      "logged_in             0\n",
      "num_file_creations    0\n",
      "                     ..\n",
      "flag_S1               0\n",
      "flag_S2               0\n",
      "flag_S3               0\n",
      "flag_SF               0\n",
      "flag_SH               0\n",
      "Length: 102, dtype: int64\n",
      "Classification report:\n",
      "               precision    recall  f1-score   support\n",
      "\n",
      "      attack       1.00      1.00      1.00      9441\n",
      "      normal       1.00      1.00      1.00      9997\n",
      "\n",
      "    accuracy                           1.00     19438\n",
      "   macro avg       1.00      1.00      1.00     19438\n",
      "weighted avg       1.00      1.00      1.00     19438\n",
      "\n",
      "Confusion matrix:\n",
      " [[9428   13]\n",
      " [   4 9993]]\n"
     ]
    }
   ],
   "source": [
    "import pandas as pd\n",
    "from sklearn.ensemble import RandomForestClassifier\n",
    "from sklearn.metrics import f1_score\n",
    "import matplotlib.pyplot as plt\n",
    "from sklearn.model_selection import train_test_split\n",
    "from sklearn.impute import SimpleImputer\n",
    "\n",
    "# Preprocess the dataset\n",
    "df2 = pd.get_dummies(df2, columns=['protocol_type', 'service', 'flag'])\n",
    "df2['attack_type'] = df2['attack_type'].apply(lambda x: 'normal' if x == 'normal' else 'attack')\n",
    "\n",
    "# Check for missing values\n",
    "print(df2.isnull().sum())\n",
    "\n",
    "# Impute missing values with mean\n",
    "imputer = SimpleImputer(strategy='mean')\n",
    "X = imputer.fit_transform(df2.drop('attack_type', axis=1))\n",
    "y = df2['attack_type']\n",
    "\n",
    "# Split the dataset into training and testing sets\n",
    "X_train, X_test, y_train, y_test = train_test_split(X, y, test_size=0.2, random_state=42)\n",
    "\n",
    "# Instantiate a random forest classifier model\n",
    "rfc = RandomForestClassifier(n_estimators=100, random_state=42)\n",
    "\n",
    "# Train the model on the training data\n",
    "rfc.fit(X_train, y_train)\n",
    "\n",
    "# Make predictions on the test data\n",
    "y_pred = rfc.predict(X_test)\n",
    "\n",
    "# Evaluate the performance of the model\n",
    "print(\"Classification report:\\n\", classification_report(y_test, y_pred))\n",
    "print(\"Confusion matrix:\\n\", confusion_matrix(y_test, y_pred))\n",
    "\n",
    "# Calculate the F1 score on the test set\n",
    "f1 = f1_score(y_test, y_pred, average='weighted')"
   ]
  },
  {
   "cell_type": "code",
   "execution_count": 151,
   "id": "d9bb0c66",
   "metadata": {},
   "outputs": [
    {
     "data": {
      "image/png": "[encoded data removed]",
      "text/plain": [
       "<Figure size 640x480 with 1 Axes>"
      ]
     },
     "metadata": {},
     "output_type": "display_data"
    }
   ],
   "source": [
    "import matplotlib.pyplot as plt\n",
    "\n",
    "# Get the accuracy scores for the training and testing data\n",
    "train_acc = rfc.score(X_train, y_train)\n",
    "test_acc = rfc.score(X_test, y_test)\n",
    "\n",
    "# Plot the accuracy scores in a bar chart\n",
    "plt.bar(['Training Data', 'Testing Data'], [train_acc, test_acc])\n",
    "plt.title('Accuracy Scores')\n",
    "plt.xlabel('Data')\n",
    "plt.ylabel('Accuracy')\n",
    "plt.ylim([0.9, 1.0])\n",
    "plt.show()"
   ]
  },
  {
   "cell_type": "markdown",
   "id": "aa2a5f29",
   "metadata": {},
   "source": [
    "fitting an ensemble model using a combination of a random forest classifier, logistic regression, and a support vector machine (SVM) classifier. Finally, it evaluates the performance of the ensemble model using the test data and prints the confusion matrix and classification report."
   ]
  },
  {
   "cell_type": "code",
   "execution_count": 153,
   "id": "89f7e85f",
   "metadata": {},
   "outputs": [
    {
     "name": "stderr",
     "output_type": "stream",
     "text": [
      "C:\\Users\\joela\\anaconda3\\lib\\site-packages\\sklearn\\utils\\extmath.py:985: RuntimeWarning: invalid value encountered in divide\n",
      "  updated_mean = (last_sum + new_sum) / updated_sample_count\n",
      "C:\\Users\\joela\\anaconda3\\lib\\site-packages\\sklearn\\utils\\extmath.py:990: RuntimeWarning: invalid value encountered in divide\n",
      "  T = new_sum / new_sample_count\n",
      "C:\\Users\\joela\\anaconda3\\lib\\site-packages\\sklearn\\utils\\extmath.py:1020: RuntimeWarning: invalid value encountered in divide\n",
      "  new_unnormalized_variance -= correction ** 2 / new_sample_count\n"
     ]
    }
   ],
   "source": [
    "X = df2.drop('attack_type', axis=1)\n",
    "y = df2['attack_type']\n",
    "\n",
    "# Split the data into training and testing sets\n",
    "X_train, X_test, y_train, y_test = train_test_split(X, y, test_size=0.2, random_state=42)\n",
    "\n",
    "# Scale the data\n",
    "scaler = StandardScaler()\n",
    "X_train = scaler.fit_transform(X_train)\n",
    "X_test = scaler.transform(X_test)"
   ]
  },
  {
   "cell_type": "code",
   "execution_count": 168,
   "id": "53ba6e5d",
   "metadata": {},
   "outputs": [],
   "source": [
    "df_filled = pd.concat([df_filled, df0['attack_type']], axis=1)"
   ]
  },
  {
   "cell_type": "code",
   "execution_count": 176,
   "id": "737cf91a",
   "metadata": {},
   "outputs": [
    {
     "name": "stdout",
     "output_type": "stream",
     "text": [
      "Accuracy: 0.9697571043022702\n"
     ]
    }
   ],
   "source": [
    "import pandas as pd\n",
    "from sklearn.model_selection import train_test_split\n",
    "from sklearn.ensemble import RandomForestClassifier, VotingClassifier\n",
    "\n",
    "# Split the dataset into features and target\n",
    "X = df_filled.drop('attack_type', axis=1)\n",
    "y = df_filled['attack_type']\n",
    "\n",
    "# Split the dataset into training and testing sets\n",
    "X_train, X_test, y_train, y_test = train_test_split(X, y, test_size=0.1, random_state=42)\n",
    "\n",
    "# Encode the target variable\n",
    "from sklearn.preprocessing import LabelEncoder\n",
    "le = LabelEncoder()\n",
    "y_train_encoded = le.fit_transform(y_train)\n",
    "\n",
    "# Initialize the base classifiers\n",
    "rfc1 = RandomForestClassifier(n_estimators=100, random_state=42)\n",
    "rfc2 = RandomForestClassifier(n_estimators=50, random_state=42)\n",
    "rfc3 = RandomForestClassifier(n_estimators=150, random_state=42)\n",
    "\n",
    "# Initialize the ensemble model\n",
    "ensemble1 = VotingClassifier(\n",
    "    estimators=[\n",
    "        ('rfc1', rfc1),\n",
    "        ('rfc2', rfc2),\n",
    "        ('rfc3', rfc3)\n",
    "    ],\n",
    "    voting='soft'\n",
    ")\n",
    "\n",
    "# Train the ensemble model\n",
    "ensemble1.fit(X_train, y_train_encoded)\n",
    "\n",
    "# Evaluate the performance of the ensemble model\n",
    "from sklearn.metrics import accuracy_score\n",
    "y_pred = ensemble1.predict(X_test)\n",
    "y_pred_decoded = le.inverse_transform(y_pred)\n",
    "print(\"Accuracy:\", accuracy_score(y_test, y_pred_decoded))"
   ]
  },
  {
   "cell_type": "code",
   "execution_count": 94,
   "id": "fba1c8f7",
   "metadata": {},
   "outputs": [
    {
     "name": "stdout",
     "output_type": "stream",
     "text": [
      "F1 score: 0.9941\n"
     ]
    }
   ],
   "source": [
    "from sklearn.metrics import f1_score\n",
    "# Calculate the F1 score on the test set\n",
    "f1 = f1_score(y_test, y_pred, average='weighted')\n",
    "print(f\"F1 score: {f1:.4f}\")"
   ]
  },
  {
   "cell_type": "markdown",
   "id": "0d518747",
   "metadata": {},
   "source": [
    "You can export the trained model using joblib's dump function, which will save the model object as a file in your local director"
   ]
  },
  {
   "cell_type": "code",
   "execution_count": 177,
   "id": "90e09d2a",
   "metadata": {},
   "outputs": [
    {
     "data": {
      "text/plain": [
       "['ensemble1_model.joblib']"
      ]
     },
     "execution_count": 177,
     "metadata": {},
     "output_type": "execute_result"
    }
   ],
   "source": [
    "import joblib\n",
    "# Save the trained model to a file\n",
    "joblib.dump(ensemble1, 'ensemble1_model.joblib')"
   ]
  },
  {
   "cell_type": "markdown",
   "id": "2b68e547",
   "metadata": {},
   "source": [
    "# To load the saved model in a new notebook, you can use the following code\n",
    "import joblib\n",
    "#Load the trained model from a file\n",
    "ensemble = joblib.load('ensemble_model.joblib')"
   ]
  },
  {
   "cell_type": "code",
   "execution_count": null,
   "id": "94807b16",
   "metadata": {},
   "outputs": [],
   "source": []
  },
  {
   "cell_type": "code",
   "execution_count": null,
   "id": "a059c6ac",
   "metadata": {},
   "outputs": [],
   "source": []
  },
  {
   "cell_type": "code",
   "execution_count": 174,
   "id": "ba425c10",
   "metadata": {},
   "outputs": [
    {
     "name": "stderr",
     "output_type": "stream",
     "text": [
      "C:\\Users\\joela\\AppData\\Local\\Temp\\ipykernel_16648\\1636714680.py:1: FutureWarning: Dropping of nuisance columns in DataFrame reductions (with 'numeric_only=None') is deprecated; in a future version this will raise TypeError.  Select only valid columns before calling the reduction.\n",
      "  df_filled = df_filled.fillna(df_filled.mean())\n"
     ]
    }
   ],
   "source": [
    "df_filled = df_filled.fillna(df_filled.mean())"
   ]
  },
  {
   "cell_type": "code",
   "execution_count": null,
   "id": "6a356c01",
   "metadata": {},
   "outputs": [],
   "source": []
  },
  {
   "cell_type": "code",
   "execution_count": 175,
   "id": "e37cc523",
   "metadata": {},
   "outputs": [
    {
     "data": {
      "text/plain": [
       "duration                       0\n",
       "src_bytes                      0\n",
       "dst_bytes                      0\n",
       "logged_in                      0\n",
       "num_file_creations             0\n",
       "num_shells                     0\n",
       "count                          0\n",
       "srv_count                      0\n",
       "serror_rate                    0\n",
       "srv_serror_rate                0\n",
       "same_srv_rate                  0\n",
       "diff_srv_rate                  0\n",
       "dst_host_count                 0\n",
       "dst_host_srv_count             0\n",
       "dst_host_same_srv_rate         0\n",
       "dst_host_diff_srv_rate         0\n",
       "dst_host_same_src_port_rate    0\n",
       "dst_host_srv_diff_host_rate    0\n",
       "dst_host_serror_rate           0\n",
       "attack                         0\n",
       "hour                           0\n",
       "attack_type                    0\n",
       "dtype: int64"
      ]
     },
     "execution_count": 175,
     "metadata": {},
     "output_type": "execute_result"
    }
   ],
   "source": [
    "df_filled.isnull().sum()"
   ]
  },
  {
   "cell_type": "code",
   "execution_count": 178,
   "id": "285b9df9",
   "metadata": {},
   "outputs": [
    {
     "data": {
      "text/html": [
       "<div>\n",
       "<style scoped>\n",
       "    .dataframe tbody tr th:only-of-type {\n",
       "        vertical-align: middle;\n",
       "    }\n",
       "\n",
       "    .dataframe tbody tr th {\n",
       "        vertical-align: top;\n",
       "    }\n",
       "\n",
       "    .dataframe thead th {\n",
       "        text-align: right;\n",
       "    }\n",
       "</style>\n",
       "<table border=\"1\" class=\"dataframe\">\n",
       "  <thead>\n",
       "    <tr style=\"text-align: right;\">\n",
       "      <th></th>\n",
       "      <th>duration</th>\n",
       "      <th>src_bytes</th>\n",
       "      <th>dst_bytes</th>\n",
       "      <th>logged_in</th>\n",
       "      <th>num_file_creations</th>\n",
       "      <th>num_shells</th>\n",
       "      <th>count</th>\n",
       "      <th>srv_count</th>\n",
       "      <th>serror_rate</th>\n",
       "      <th>srv_serror_rate</th>\n",
       "      <th>...</th>\n",
       "      <th>dst_host_count</th>\n",
       "      <th>dst_host_srv_count</th>\n",
       "      <th>dst_host_same_srv_rate</th>\n",
       "      <th>dst_host_diff_srv_rate</th>\n",
       "      <th>dst_host_same_src_port_rate</th>\n",
       "      <th>dst_host_srv_diff_host_rate</th>\n",
       "      <th>dst_host_serror_rate</th>\n",
       "      <th>attack</th>\n",
       "      <th>hour</th>\n",
       "      <th>attack_type</th>\n",
       "    </tr>\n",
       "  </thead>\n",
       "  <tbody>\n",
       "    <tr>\n",
       "      <th>0</th>\n",
       "      <td>0.0</td>\n",
       "      <td>491.0</td>\n",
       "      <td>0.0</td>\n",
       "      <td>0.0</td>\n",
       "      <td>0.0</td>\n",
       "      <td>0.0</td>\n",
       "      <td>2.0</td>\n",
       "      <td>2.0</td>\n",
       "      <td>0.0</td>\n",
       "      <td>0.0</td>\n",
       "      <td>...</td>\n",
       "      <td>150.0</td>\n",
       "      <td>25.0</td>\n",
       "      <td>0.17</td>\n",
       "      <td>0.03</td>\n",
       "      <td>0.17</td>\n",
       "      <td>0.00</td>\n",
       "      <td>0.00</td>\n",
       "      <td>0.0</td>\n",
       "      <td>0.0</td>\n",
       "      <td>normal</td>\n",
       "    </tr>\n",
       "    <tr>\n",
       "      <th>1</th>\n",
       "      <td>0.0</td>\n",
       "      <td>146.0</td>\n",
       "      <td>0.0</td>\n",
       "      <td>0.0</td>\n",
       "      <td>0.0</td>\n",
       "      <td>0.0</td>\n",
       "      <td>13.0</td>\n",
       "      <td>1.0</td>\n",
       "      <td>0.0</td>\n",
       "      <td>0.0</td>\n",
       "      <td>...</td>\n",
       "      <td>255.0</td>\n",
       "      <td>1.0</td>\n",
       "      <td>0.00</td>\n",
       "      <td>0.60</td>\n",
       "      <td>0.88</td>\n",
       "      <td>0.00</td>\n",
       "      <td>0.00</td>\n",
       "      <td>0.0</td>\n",
       "      <td>0.0</td>\n",
       "      <td>normal</td>\n",
       "    </tr>\n",
       "    <tr>\n",
       "      <th>2</th>\n",
       "      <td>0.0</td>\n",
       "      <td>0.0</td>\n",
       "      <td>0.0</td>\n",
       "      <td>0.0</td>\n",
       "      <td>0.0</td>\n",
       "      <td>0.0</td>\n",
       "      <td>123.0</td>\n",
       "      <td>6.0</td>\n",
       "      <td>1.0</td>\n",
       "      <td>1.0</td>\n",
       "      <td>...</td>\n",
       "      <td>255.0</td>\n",
       "      <td>26.0</td>\n",
       "      <td>0.10</td>\n",
       "      <td>0.05</td>\n",
       "      <td>0.00</td>\n",
       "      <td>0.00</td>\n",
       "      <td>1.00</td>\n",
       "      <td>0.0</td>\n",
       "      <td>0.0</td>\n",
       "      <td>neptune</td>\n",
       "    </tr>\n",
       "    <tr>\n",
       "      <th>3</th>\n",
       "      <td>0.0</td>\n",
       "      <td>232.0</td>\n",
       "      <td>8153.0</td>\n",
       "      <td>1.0</td>\n",
       "      <td>0.0</td>\n",
       "      <td>0.0</td>\n",
       "      <td>5.0</td>\n",
       "      <td>5.0</td>\n",
       "      <td>0.2</td>\n",
       "      <td>0.2</td>\n",
       "      <td>...</td>\n",
       "      <td>30.0</td>\n",
       "      <td>255.0</td>\n",
       "      <td>1.00</td>\n",
       "      <td>0.00</td>\n",
       "      <td>0.03</td>\n",
       "      <td>0.04</td>\n",
       "      <td>0.03</td>\n",
       "      <td>0.0</td>\n",
       "      <td>0.0</td>\n",
       "      <td>normal</td>\n",
       "    </tr>\n",
       "    <tr>\n",
       "      <th>4</th>\n",
       "      <td>0.0</td>\n",
       "      <td>199.0</td>\n",
       "      <td>420.0</td>\n",
       "      <td>1.0</td>\n",
       "      <td>0.0</td>\n",
       "      <td>0.0</td>\n",
       "      <td>30.0</td>\n",
       "      <td>32.0</td>\n",
       "      <td>0.0</td>\n",
       "      <td>0.0</td>\n",
       "      <td>...</td>\n",
       "      <td>255.0</td>\n",
       "      <td>255.0</td>\n",
       "      <td>1.00</td>\n",
       "      <td>0.00</td>\n",
       "      <td>0.00</td>\n",
       "      <td>0.00</td>\n",
       "      <td>0.00</td>\n",
       "      <td>0.0</td>\n",
       "      <td>0.0</td>\n",
       "      <td>normal</td>\n",
       "    </tr>\n",
       "  </tbody>\n",
       "</table>\n",
       "<p>5 rows × 22 columns</p>\n",
       "</div>"
      ],
      "text/plain": [
       "   duration  src_bytes  dst_bytes  logged_in  num_file_creations  num_shells  \\\n",
       "0       0.0      491.0        0.0        0.0                 0.0         0.0   \n",
       "1       0.0      146.0        0.0        0.0                 0.0         0.0   \n",
       "2       0.0        0.0        0.0        0.0                 0.0         0.0   \n",
       "3       0.0      232.0     8153.0        1.0                 0.0         0.0   \n",
       "4       0.0      199.0      420.0        1.0                 0.0         0.0   \n",
       "\n",
       "   count  srv_count  serror_rate  srv_serror_rate  ...  dst_host_count  \\\n",
       "0    2.0        2.0          0.0              0.0  ...           150.0   \n",
       "1   13.0        1.0          0.0              0.0  ...           255.0   \n",
       "2  123.0        6.0          1.0              1.0  ...           255.0   \n",
       "3    5.0        5.0          0.2              0.2  ...            30.0   \n",
       "4   30.0       32.0          0.0              0.0  ...           255.0   \n",
       "\n",
       "   dst_host_srv_count  dst_host_same_srv_rate  dst_host_diff_srv_rate  \\\n",
       "0                25.0                    0.17                    0.03   \n",
       "1                 1.0                    0.00                    0.60   \n",
       "2                26.0                    0.10                    0.05   \n",
       "3               255.0                    1.00                    0.00   \n",
       "4               255.0                    1.00                    0.00   \n",
       "\n",
       "   dst_host_same_src_port_rate  dst_host_srv_diff_host_rate  \\\n",
       "0                         0.17                         0.00   \n",
       "1                         0.88                         0.00   \n",
       "2                         0.00                         0.00   \n",
       "3                         0.03                         0.04   \n",
       "4                         0.00                         0.00   \n",
       "\n",
       "   dst_host_serror_rate  attack  hour  attack_type  \n",
       "0                  0.00     0.0   0.0       normal  \n",
       "1                  0.00     0.0   0.0       normal  \n",
       "2                  1.00     0.0   0.0      neptune  \n",
       "3                  0.03     0.0   0.0       normal  \n",
       "4                  0.00     0.0   0.0       normal  \n",
       "\n",
       "[5 rows x 22 columns]"
      ]
     },
     "execution_count": 178,
     "metadata": {},
     "output_type": "execute_result"
    }
   ],
   "source": [
    "df_filled.head()"
   ]
  },
  {
   "cell_type": "code",
   "execution_count": 179,
   "id": "1d2de64a",
   "metadata": {},
   "outputs": [],
   "source": [
    "# convert dataframe to csv file\n",
    "df_filled.to_csv('model_col', index=False)"
   ]
  },
  {
   "cell_type": "code",
   "execution_count": null,
   "id": "75bec905",
   "metadata": {},
   "outputs": [],
   "source": []
  }
 ],
 "metadata": {
  "kernelspec": {
   "display_name": "Python 3 (ipykernel)",
   "language": "python",
   "name": "python3"
  },
  "language_info": {
   "codemirror_mode": {
    "name": "ipython",
    "version": 3
   },
   "file_extension": ".py",
   "mimetype": "text/x-python",
   "name": "python",
   "nbconvert_exporter": "python",
   "pygments_lexer": "ipython3",
   "version": "3.9.13"
  }
 },
 "nbformat": 4,
 "nbformat_minor": 5
}
